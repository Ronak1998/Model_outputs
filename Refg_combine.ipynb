{
  "nbformat": 4,
  "nbformat_minor": 0,
  "metadata": {
    "colab": {
      "name": "Refg_combine.ipynb",
      "provenance": [],
      "collapsed_sections": [],
      "authorship_tag": "ABX9TyP4q/VgTdwSGtPHd1kLoeel",
      "include_colab_link": true
    },
    "kernelspec": {
      "name": "python3",
      "display_name": "Python 3"
    }
  },
  "cells": [
    {
      "cell_type": "markdown",
      "metadata": {
        "id": "view-in-github",
        "colab_type": "text"
      },
      "source": [
        "<a href=\"https://colab.research.google.com/github/Ronak1998/Model_outputs/blob/master/Refg_combine.ipynb\" target=\"_parent\"><img src=\"https://colab.research.google.com/assets/colab-badge.svg\" alt=\"Open In Colab\"/></a>"
      ]
    },
    {
      "cell_type": "code",
      "metadata": {
        "id": "EKIiq6-nPznM",
        "colab_type": "code",
        "outputId": "c084d110-8d29-41fe-ce19-0f663ea745fd",
        "colab": {
          "base_uri": "https://localhost:8080/",
          "height": 34
        }
      },
      "source": [
        "# univariate cnn lstm example\n",
        "import tensorflow.compat.v1 as tf\n",
        "from numpy import array\n",
        "from keras.models import Sequential\n",
        "from keras.layers import LSTM\n",
        "from keras.layers import Dense\n",
        "from keras.layers import Flatten\n",
        "from keras.layers import TimeDistributed\n",
        "from keras.layers.convolutional import Conv1D\n",
        "from keras.layers.convolutional import MaxPooling1D\n",
        "import keras.utils"
      ],
      "execution_count": 1,
      "outputs": [
        {
          "output_type": "stream",
          "text": [
            "Using TensorFlow backend.\n"
          ],
          "name": "stderr"
        }
      ]
    },
    {
      "cell_type": "code",
      "metadata": {
        "id": "tnbG9hO2P7P-",
        "colab_type": "code",
        "colab": {}
      },
      "source": [
        "import pandas as pd\n",
        "import time\n",
        "from datetime import date, time, timedelta\n",
        "import numpy as np\n",
        "from numpy import asarray\n",
        "from numpy import save\n",
        "from sklearn import preprocessing\n",
        "from google.colab import drive"
      ],
      "execution_count": 0,
      "outputs": []
    },
    {
      "cell_type": "code",
      "metadata": {
        "id": "d1DvRTZtP9bc",
        "colab_type": "code",
        "outputId": "c89bd05d-6bed-4702-9853-bf090e31a138",
        "colab": {
          "base_uri": "https://localhost:8080/",
          "height": 139
        }
      },
      "source": [
        "from google.colab import drive\n",
        "drive.mount('/gdrive')\n",
        "%cd /gdrive"
      ],
      "execution_count": 3,
      "outputs": [
        {
          "output_type": "stream",
          "text": [
            "Go to this URL in a browser: https://accounts.google.com/o/oauth2/auth?client_id=947318989803-6bn6qk8qdgf4n4g3pfee6491hc0brc4i.apps.googleusercontent.com&redirect_uri=urn%3aietf%3awg%3aoauth%3a2.0%3aoob&response_type=code&scope=email%20https%3a%2f%2fwww.googleapis.com%2fauth%2fdocs.test%20https%3a%2f%2fwww.googleapis.com%2fauth%2fdrive%20https%3a%2f%2fwww.googleapis.com%2fauth%2fdrive.photos.readonly%20https%3a%2f%2fwww.googleapis.com%2fauth%2fpeopleapi.readonly\n",
            "\n",
            "Enter your authorization code:\n",
            "··········\n",
            "Mounted at /gdrive\n",
            "/gdrive\n"
          ],
          "name": "stdout"
        }
      ]
    },
    {
      "cell_type": "code",
      "metadata": {
        "id": "Q9mfZ1utQAIt",
        "colab_type": "code",
        "outputId": "c0b48372-abd5-4d81-a8a5-2d4998da35c5",
        "colab": {
          "base_uri": "https://localhost:8080/",
          "height": 255
        }
      },
      "source": [
        "file = r'/gdrive/My Drive/Colab Notebooks/NILM/REDDhouse1_lowf_VA.csv'\n",
        "df1 = pd.read_csv(file)\n",
        "print(df1)"
      ],
      "execution_count": 4,
      "outputs": [
        {
          "output_type": "stream",
          "text": [
            "        TimeStamp    MAIN   OVEN   REFG  ...   BATH   HEAT   STOV   DIFF\n",
            "0       1303132933    340      0      6  ...      1      0      0     79\n",
            "1       1303132936    342      0      6  ...      1      0      0     81\n",
            "2       1303132940    341      0      6  ...      1      0      0     79\n",
            "3       1303132943    341      0      6  ...      1      0      0     79\n",
            "4       1303132946    340      0      6  ...      1      0      0     79\n",
            "...            ...    ...    ...    ...  ...    ...    ...    ...    ...\n",
            "406743  1306266980    273      0    186  ...      1      0      0     31\n",
            "406744  1306266983    273      0    187  ...      1      0      0     33\n",
            "406745  1306266987    273      0    190  ...      1      0      0     30\n",
            "406746  1306266990    273      0    189  ...      1      0      0     31\n",
            "406747  1306266994    273      0    186  ...      1      0      0     32\n",
            "\n",
            "[406748 rows x 13 columns]\n"
          ],
          "name": "stdout"
        }
      ]
    },
    {
      "cell_type": "code",
      "metadata": {
        "id": "YYuElR0ZQKq5",
        "colab_type": "code",
        "outputId": "9bdf48a9-20f5-4487-b64f-e40e58465559",
        "colab": {
          "base_uri": "https://localhost:8080/",
          "height": 255
        }
      },
      "source": [
        "file = r'/gdrive/My Drive/Colab Notebooks/NILM/REDDhouse2_lowf_VA.csv'\n",
        "df2 = pd.read_csv(file)\n",
        "print(df2)"
      ],
      "execution_count": 5,
      "outputs": [
        {
          "output_type": "stream",
          "text": [
            "        TimeStamp    MAIN   KTCH   LITE  ...   REFG   DISH   GARB   DIFF\n",
            "0       1303104700     37      5      8  ...      6      1      0      8\n",
            "1       1303104704     37      4      8  ...      6      0      0      8\n",
            "2       1303104707     37      5      8  ...      6      1      0      8\n",
            "3       1303104710     37      3      8  ...      7      0      0     10\n",
            "4       1303104725     37      4      8  ...      7      1      0      8\n",
            "...            ...    ...    ...    ...  ...    ...    ...    ...    ...\n",
            "316835  1306108734    262      2      9  ...    159      0      0     87\n",
            "316836  1306108737    263      2      8  ...    158      0      0     91\n",
            "316837  1306108741    262      2      9  ...    158      0      0     88\n",
            "316838  1306108744    263      2      9  ...    160      0      0     88\n",
            "316839  1306108748    262      2      9  ...    157      0      0     90\n",
            "\n",
            "[316840 rows x 11 columns]\n"
          ],
          "name": "stdout"
        }
      ]
    },
    {
      "cell_type": "code",
      "metadata": {
        "id": "lPm2j3UdQOkv",
        "colab_type": "code",
        "outputId": "24f1c5c3-7fb2-4093-d38c-66c8ecddb8c6",
        "colab": {
          "base_uri": "https://localhost:8080/",
          "height": 255
        }
      },
      "source": [
        "file = r'/gdrive/My Drive/Colab Notebooks/NILM/REDDhouse3_lowf_VA.csv'\n",
        "df3 = pd.read_csv(file)\n",
        "print(df3)"
      ],
      "execution_count": 6,
      "outputs": [
        {
          "output_type": "stream",
          "text": [
            "        TimeStamp    MAIN   UNKN   LITE  ...   SMOK   BATH   KTCH   DIFF\n",
            "0       1302930690    758     29    400  ...      2      0      0     75\n",
            "1       1302930693    757     26    400  ...      2      0      0     78\n",
            "2       1302930696    759     26    401  ...      2      0      0     80\n",
            "3       1302930700    759     27    400  ...      1      0      0     78\n",
            "4       1302930703    754     26    400  ...      2      0      0     75\n",
            "...            ...    ...    ...    ...  ...    ...    ...    ...    ...\n",
            "376145  1306801163   1377      1    159  ...      0      0      2     59\n",
            "376146  1306801166   1377      1    159  ...      0      0      2     53\n",
            "376147  1306801170   1377      1    159  ...      0      0      2     50\n",
            "376148  1306801173   1377      1    159  ...      0      0      2     51\n",
            "376149  1306801176   1377      1    159  ...      0      0      2     56\n",
            "\n",
            "[376150 rows x 15 columns]\n"
          ],
          "name": "stdout"
        }
      ]
    },
    {
      "cell_type": "code",
      "metadata": {
        "id": "S9c7Nvjo4sbt",
        "colab_type": "code",
        "colab": {
          "base_uri": "https://localhost:8080/",
          "height": 255
        },
        "outputId": "960d1e86-4359-4814-a3a2-671f501d2e0c"
      },
      "source": [
        "file = r'/gdrive/My Drive/Colab Notebooks/NILM/REDDhouse4_lowf_VA.csv'\n",
        "df4 = pd.read_csv(file)\n",
        "print(df4)"
      ],
      "execution_count": 7,
      "outputs": [
        {
          "output_type": "stream",
          "text": [
            "        TimeStamp    MAIN   LITE   FURN  ...   SMOK   DISH   BATH   DIFF\n",
            "0       1303002992    548    243     70  ...      0      0      0     88\n",
            "1       1303002995    548    244     70  ...      0      0      0     90\n",
            "2       1303002998    548    243     71  ...      0      0      0     85\n",
            "3       1303003002    548    241     69  ...      0      0      0     91\n",
            "4       1303003005    549    241     70  ...      1      0      0     92\n",
            "...            ...    ...    ...    ...  ...    ...    ...    ...    ...\n",
            "428071  1307148325    494    178     52  ...      0      0      1     82\n",
            "428072  1307148328    493    177     53  ...      0      0      0     81\n",
            "428073  1307148331    497    173     52  ...      0      0      1     88\n",
            "428074  1307148335    495    174     52  ...      0      0      1     88\n",
            "428075  1307148338    494    175     52  ...      0      0      1     81\n",
            "\n",
            "[428076 rows x 14 columns]\n"
          ],
          "name": "stdout"
        }
      ]
    },
    {
      "cell_type": "code",
      "metadata": {
        "id": "Mc1WYDAI4sEy",
        "colab_type": "code",
        "colab": {
          "base_uri": "https://localhost:8080/",
          "height": 255
        },
        "outputId": "98d7aeed-5eb7-424e-dd37-687c8fd8e2f7"
      },
      "source": [
        "file = r'/gdrive/My Drive/Colab Notebooks/NILM/REDDhouse5_lowf_VA.csv'\n",
        "df5 = pd.read_csv(file)\n",
        "print(df5)"
      ],
      "execution_count": 8,
      "outputs": [
        {
          "output_type": "stream",
          "text": [
            "       TimeStamp    MAIN   MICR   LITE  ...   ELEC   KTCH   OUTD   DIFF\n",
            "0      1303100647    311      4     71  ...      7      0      0     39\n",
            "1      1303100651    312      4     71  ...      7      0      0     38\n",
            "2      1303100654    312      3     71  ...     10      0      0     35\n",
            "3      1303100658    311      4     71  ...      7      0      0     37\n",
            "4      1303100661    311      4     71  ...      7      0      0     41\n",
            "...           ...    ...    ...    ...  ...    ...    ...    ...    ...\n",
            "77446  1306887599    189      3    102  ...      7      0      0     46\n",
            "77447  1306887603    188      3    110  ...      5      0      0     42\n",
            "77448  1306887607    188      3    120  ...      5      0      0     32\n",
            "77449  1306887610    187      3    105  ...      5      0      0     45\n",
            "77450  1306887614    186      3    102  ...      5      0      0     48\n",
            "\n",
            "[77451 rows x 17 columns]\n"
          ],
          "name": "stdout"
        }
      ]
    },
    {
      "cell_type": "code",
      "metadata": {
        "id": "YpLQBTjaQSNI",
        "colab_type": "code",
        "outputId": "9a3bd14e-7916-4a19-a188-db132a52f27c",
        "colab": {
          "base_uri": "https://localhost:8080/",
          "height": 255
        }
      },
      "source": [
        "file = r'/gdrive/My Drive/Colab Notebooks/NILM/REDDhouse6_lowf_VA.csv'\n",
        "df6 = pd.read_csv(file)\n",
        "print(df6)"
      ],
      "execution_count": 9,
      "outputs": [
        {
          "output_type": "stream",
          "text": [
            "        TimeStamp    MAIN   KTCH   DRYR  ...   HEAT   LITE   AIRC   DIFF\n",
            "0       1306006791    301      5      2  ...     88    124      4     45\n",
            "1       1306006797    303      6      3  ...     94    116      4     48\n",
            "2       1306006800    301      5      3  ...     95    116      4     45\n",
            "3       1306006804    301      6      2  ...     94    116      4     46\n",
            "4       1306006807    302      6      3  ...     94    115      4     48\n",
            "...            ...    ...    ...    ...  ...    ...    ...    ...    ...\n",
            "192187  1308013940    418      4      3  ...      8    113      4     51\n",
            "192188  1308013943    418      5      3  ...      7    114      4     56\n",
            "192189  1308013945    420      5      3  ...      7    114      4     55\n",
            "192190  1308013953    419      5      3  ...      7    113      4     53\n",
            "192191  1308013956    418      4      3  ...      7    113      4     53\n",
            "\n",
            "[192192 rows x 14 columns]\n"
          ],
          "name": "stdout"
        }
      ]
    },
    {
      "cell_type": "code",
      "metadata": {
        "id": "_B4xjocruUDP",
        "colab_type": "code",
        "colab": {}
      },
      "source": [
        ""
      ],
      "execution_count": 0,
      "outputs": []
    },
    {
      "cell_type": "code",
      "metadata": {
        "id": "nWDnofazQX9q",
        "colab_type": "code",
        "outputId": "35b5b683-5dba-46d5-d8e3-ccf038778bc1",
        "colab": {
          "base_uri": "https://localhost:8080/",
          "height": 317
        }
      },
      "source": [
        "array = df1.to_numpy()\n",
        "dataset = pd.DataFrame({'timestamp': array[:,0], 'Main': array[:,1], 'Oven': array[:,2], 'Refg': array[:,3], 'Dish': array[:,4], 'Kitch': array[:,5], 'Lite': array[:,6], 'Dryr': array[:,7], 'Micr': array[:,8], 'Bath': array[:,9], 'Heat': array[:,10], 'Stov': array[:,11],'Diff': array[:,12]})\n",
        "dataset = dataset.set_index(['timestamp'])\n",
        "dataset.index = pd.to_datetime(dataset.index, unit='s')\n",
        "dataset = dataset.resample('1min').mean()\n",
        "dataset = dataset.dropna()\n",
        "dataset.describe()"
      ],
      "execution_count": 10,
      "outputs": [
        {
          "output_type": "execute_result",
          "data": {
            "text/html": [
              "<div>\n",
              "<style scoped>\n",
              "    .dataframe tbody tr th:only-of-type {\n",
              "        vertical-align: middle;\n",
              "    }\n",
              "\n",
              "    .dataframe tbody tr th {\n",
              "        vertical-align: top;\n",
              "    }\n",
              "\n",
              "    .dataframe thead th {\n",
              "        text-align: right;\n",
              "    }\n",
              "</style>\n",
              "<table border=\"1\" class=\"dataframe\">\n",
              "  <thead>\n",
              "    <tr style=\"text-align: right;\">\n",
              "      <th></th>\n",
              "      <th>Main</th>\n",
              "      <th>Oven</th>\n",
              "      <th>Refg</th>\n",
              "      <th>Dish</th>\n",
              "      <th>Kitch</th>\n",
              "      <th>Lite</th>\n",
              "      <th>Dryr</th>\n",
              "      <th>Micr</th>\n",
              "      <th>Bath</th>\n",
              "      <th>Heat</th>\n",
              "      <th>Stov</th>\n",
              "      <th>Diff</th>\n",
              "    </tr>\n",
              "  </thead>\n",
              "  <tbody>\n",
              "    <tr>\n",
              "      <th>count</th>\n",
              "      <td>26297.000000</td>\n",
              "      <td>26297.000000</td>\n",
              "      <td>26297.000000</td>\n",
              "      <td>26297.000000</td>\n",
              "      <td>26297.000000</td>\n",
              "      <td>26297.000000</td>\n",
              "      <td>26297.000000</td>\n",
              "      <td>26297.000000</td>\n",
              "      <td>26297.000000</td>\n",
              "      <td>26297.000000</td>\n",
              "      <td>26297.000000</td>\n",
              "      <td>26297.000000</td>\n",
              "    </tr>\n",
              "    <tr>\n",
              "      <th>mean</th>\n",
              "      <td>382.908284</td>\n",
              "      <td>13.731572</td>\n",
              "      <td>54.990180</td>\n",
              "      <td>25.396969</td>\n",
              "      <td>57.172662</td>\n",
              "      <td>74.117537</td>\n",
              "      <td>35.850292</td>\n",
              "      <td>22.183838</td>\n",
              "      <td>7.003494</td>\n",
              "      <td>0.127257</td>\n",
              "      <td>0.114912</td>\n",
              "      <td>92.219572</td>\n",
              "    </tr>\n",
              "    <tr>\n",
              "      <th>std</th>\n",
              "      <td>747.425265</td>\n",
              "      <td>211.077353</td>\n",
              "      <td>85.166772</td>\n",
              "      <td>149.214637</td>\n",
              "      <td>87.244082</td>\n",
              "      <td>64.251739</td>\n",
              "      <td>288.437464</td>\n",
              "      <td>147.068870</td>\n",
              "      <td>91.989994</td>\n",
              "      <td>0.946020</td>\n",
              "      <td>0.799245</td>\n",
              "      <td>334.331542</td>\n",
              "    </tr>\n",
              "    <tr>\n",
              "      <th>min</th>\n",
              "      <td>90.666667</td>\n",
              "      <td>0.000000</td>\n",
              "      <td>0.500000</td>\n",
              "      <td>0.000000</td>\n",
              "      <td>40.266667</td>\n",
              "      <td>0.333333</td>\n",
              "      <td>0.000000</td>\n",
              "      <td>1.687500</td>\n",
              "      <td>0.000000</td>\n",
              "      <td>0.000000</td>\n",
              "      <td>0.000000</td>\n",
              "      <td>0.800000</td>\n",
              "    </tr>\n",
              "    <tr>\n",
              "      <th>25%</th>\n",
              "      <td>136.875000</td>\n",
              "      <td>0.000000</td>\n",
              "      <td>6.312500</td>\n",
              "      <td>0.000000</td>\n",
              "      <td>43.125000</td>\n",
              "      <td>3.200000</td>\n",
              "      <td>0.000000</td>\n",
              "      <td>4.000000</td>\n",
              "      <td>1.000000</td>\n",
              "      <td>0.000000</td>\n",
              "      <td>0.000000</td>\n",
              "      <td>32.687500</td>\n",
              "    </tr>\n",
              "    <tr>\n",
              "      <th>50%</th>\n",
              "      <td>175.812500</td>\n",
              "      <td>0.000000</td>\n",
              "      <td>6.750000</td>\n",
              "      <td>0.000000</td>\n",
              "      <td>44.000000</td>\n",
              "      <td>81.500000</td>\n",
              "      <td>0.000000</td>\n",
              "      <td>4.000000</td>\n",
              "      <td>1.000000</td>\n",
              "      <td>0.000000</td>\n",
              "      <td>0.000000</td>\n",
              "      <td>37.375000</td>\n",
              "    </tr>\n",
              "    <tr>\n",
              "      <th>75%</th>\n",
              "      <td>349.312500</td>\n",
              "      <td>0.000000</td>\n",
              "      <td>101.750000</td>\n",
              "      <td>0.000000</td>\n",
              "      <td>46.000000</td>\n",
              "      <td>84.400000</td>\n",
              "      <td>0.000000</td>\n",
              "      <td>4.000000</td>\n",
              "      <td>1.000000</td>\n",
              "      <td>0.000000</td>\n",
              "      <td>0.000000</td>\n",
              "      <td>54.000000</td>\n",
              "    </tr>\n",
              "    <tr>\n",
              "      <th>max</th>\n",
              "      <td>11556.250000</td>\n",
              "      <td>4156.625000</td>\n",
              "      <td>437.800000</td>\n",
              "      <td>1153.066667</td>\n",
              "      <td>2725.600000</td>\n",
              "      <td>418.666667</td>\n",
              "      <td>3251.812500</td>\n",
              "      <td>1771.250000</td>\n",
              "      <td>1664.187500</td>\n",
              "      <td>19.600000</td>\n",
              "      <td>16.333333</td>\n",
              "      <td>3378.937500</td>\n",
              "    </tr>\n",
              "  </tbody>\n",
              "</table>\n",
              "</div>"
            ],
            "text/plain": [
              "               Main          Oven  ...          Stov          Diff\n",
              "count  26297.000000  26297.000000  ...  26297.000000  26297.000000\n",
              "mean     382.908284     13.731572  ...      0.114912     92.219572\n",
              "std      747.425265    211.077353  ...      0.799245    334.331542\n",
              "min       90.666667      0.000000  ...      0.000000      0.800000\n",
              "25%      136.875000      0.000000  ...      0.000000     32.687500\n",
              "50%      175.812500      0.000000  ...      0.000000     37.375000\n",
              "75%      349.312500      0.000000  ...      0.000000     54.000000\n",
              "max    11556.250000   4156.625000  ...     16.333333   3378.937500\n",
              "\n",
              "[8 rows x 12 columns]"
            ]
          },
          "metadata": {
            "tags": []
          },
          "execution_count": 10
        }
      ]
    },
    {
      "cell_type": "code",
      "metadata": {
        "id": "dRNwGXd4Qkh1",
        "colab_type": "code",
        "outputId": "5c890810-8cbc-421e-fa1e-44932acdfec7",
        "colab": {
          "base_uri": "https://localhost:8080/",
          "height": 297
        }
      },
      "source": [
        "array = df2.to_numpy()\n",
        "dataset2 = pd.DataFrame({'timestamp': array[:,0], 'Main': array[:,1], 'Kitch': array[:,2], 'Lite': array[:,3], 'Stov': array[:,4], 'Micr': array[:,5], 'Dryr': array[:,6], 'Refg': array[:,7], 'Dish': array[:,8], 'Garb': array[:,9], 'Diff': array[:,10]})\n",
        "dataset2 = dataset2.set_index(['timestamp'])\n",
        "dataset2.index = pd.to_datetime(dataset2.index, unit='s')\n",
        "dataset2 = dataset2.resample('1min').mean()\n",
        "dataset2 = dataset2.dropna()\n",
        "dataset2.describe()"
      ],
      "execution_count": 11,
      "outputs": [
        {
          "output_type": "execute_result",
          "data": {
            "text/html": [
              "<div>\n",
              "<style scoped>\n",
              "    .dataframe tbody tr th:only-of-type {\n",
              "        vertical-align: middle;\n",
              "    }\n",
              "\n",
              "    .dataframe tbody tr th {\n",
              "        vertical-align: top;\n",
              "    }\n",
              "\n",
              "    .dataframe thead th {\n",
              "        text-align: right;\n",
              "    }\n",
              "</style>\n",
              "<table border=\"1\" class=\"dataframe\">\n",
              "  <thead>\n",
              "    <tr style=\"text-align: right;\">\n",
              "      <th></th>\n",
              "      <th>Main</th>\n",
              "      <th>Kitch</th>\n",
              "      <th>Lite</th>\n",
              "      <th>Stov</th>\n",
              "      <th>Micr</th>\n",
              "      <th>Dryr</th>\n",
              "      <th>Refg</th>\n",
              "      <th>Dish</th>\n",
              "      <th>Garb</th>\n",
              "      <th>Diff</th>\n",
              "    </tr>\n",
              "  </thead>\n",
              "  <tbody>\n",
              "    <tr>\n",
              "      <th>count</th>\n",
              "      <td>20034.000000</td>\n",
              "      <td>20034.000000</td>\n",
              "      <td>20034.000000</td>\n",
              "      <td>20034.000000</td>\n",
              "      <td>20034.000000</td>\n",
              "      <td>20034.000000</td>\n",
              "      <td>20034.000000</td>\n",
              "      <td>20034.000000</td>\n",
              "      <td>20034.000000</td>\n",
              "      <td>20034.000000</td>\n",
              "    </tr>\n",
              "    <tr>\n",
              "      <th>mean</th>\n",
              "      <td>229.984131</td>\n",
              "      <td>16.477641</td>\n",
              "      <td>26.610907</td>\n",
              "      <td>1.445228</td>\n",
              "      <td>15.354206</td>\n",
              "      <td>2.139669</td>\n",
              "      <td>79.745037</td>\n",
              "      <td>8.968314</td>\n",
              "      <td>0.081752</td>\n",
              "      <td>79.161377</td>\n",
              "    </tr>\n",
              "    <tr>\n",
              "      <th>std</th>\n",
              "      <td>242.080390</td>\n",
              "      <td>81.116853</td>\n",
              "      <td>45.811541</td>\n",
              "      <td>17.794712</td>\n",
              "      <td>95.882085</td>\n",
              "      <td>0.640812</td>\n",
              "      <td>85.827320</td>\n",
              "      <td>94.953205</td>\n",
              "      <td>1.542877</td>\n",
              "      <td>119.124760</td>\n",
              "    </tr>\n",
              "    <tr>\n",
              "      <th>min</th>\n",
              "      <td>31.000000</td>\n",
              "      <td>0.000000</td>\n",
              "      <td>2.000000</td>\n",
              "      <td>0.000000</td>\n",
              "      <td>1.562500</td>\n",
              "      <td>0.000000</td>\n",
              "      <td>1.562500</td>\n",
              "      <td>0.000000</td>\n",
              "      <td>0.000000</td>\n",
              "      <td>6.375000</td>\n",
              "    </tr>\n",
              "    <tr>\n",
              "      <th>25%</th>\n",
              "      <td>37.000000</td>\n",
              "      <td>1.062500</td>\n",
              "      <td>8.000000</td>\n",
              "      <td>0.062500</td>\n",
              "      <td>4.062500</td>\n",
              "      <td>2.000000</td>\n",
              "      <td>6.125000</td>\n",
              "      <td>0.000000</td>\n",
              "      <td>0.000000</td>\n",
              "      <td>14.312500</td>\n",
              "    </tr>\n",
              "    <tr>\n",
              "      <th>50%</th>\n",
              "      <td>255.547917</td>\n",
              "      <td>1.562500</td>\n",
              "      <td>8.625000</td>\n",
              "      <td>0.500000</td>\n",
              "      <td>4.625000</td>\n",
              "      <td>2.000000</td>\n",
              "      <td>7.000000</td>\n",
              "      <td>0.062500</td>\n",
              "      <td>0.000000</td>\n",
              "      <td>61.000000</td>\n",
              "    </tr>\n",
              "    <tr>\n",
              "      <th>75%</th>\n",
              "      <td>284.820772</td>\n",
              "      <td>14.125000</td>\n",
              "      <td>9.000000</td>\n",
              "      <td>0.937500</td>\n",
              "      <td>5.000000</td>\n",
              "      <td>2.250000</td>\n",
              "      <td>160.750000</td>\n",
              "      <td>0.076923</td>\n",
              "      <td>0.000000</td>\n",
              "      <td>91.500000</td>\n",
              "    </tr>\n",
              "    <tr>\n",
              "      <th>max</th>\n",
              "      <td>2761.937500</td>\n",
              "      <td>1079.250000</td>\n",
              "      <td>185.400000</td>\n",
              "      <td>411.000000</td>\n",
              "      <td>1926.000000</td>\n",
              "      <td>8.812500</td>\n",
              "      <td>598.187500</td>\n",
              "      <td>1255.562500</td>\n",
              "      <td>115.750000</td>\n",
              "      <td>1032.875000</td>\n",
              "    </tr>\n",
              "  </tbody>\n",
              "</table>\n",
              "</div>"
            ],
            "text/plain": [
              "               Main         Kitch  ...          Garb          Diff\n",
              "count  20034.000000  20034.000000  ...  20034.000000  20034.000000\n",
              "mean     229.984131     16.477641  ...      0.081752     79.161377\n",
              "std      242.080390     81.116853  ...      1.542877    119.124760\n",
              "min       31.000000      0.000000  ...      0.000000      6.375000\n",
              "25%       37.000000      1.062500  ...      0.000000     14.312500\n",
              "50%      255.547917      1.562500  ...      0.000000     61.000000\n",
              "75%      284.820772     14.125000  ...      0.000000     91.500000\n",
              "max     2761.937500   1079.250000  ...    115.750000   1032.875000\n",
              "\n",
              "[8 rows x 10 columns]"
            ]
          },
          "metadata": {
            "tags": []
          },
          "execution_count": 11
        }
      ]
    },
    {
      "cell_type": "code",
      "metadata": {
        "id": "XpRsZGrqQ44z",
        "colab_type": "code",
        "outputId": "194bf092-3760-4e88-cfec-413f3f72acfd",
        "colab": {
          "base_uri": "https://localhost:8080/",
          "height": 317
        }
      },
      "source": [
        "array = df3.to_numpy()\n",
        "dataset3 = pd.DataFrame({'timestamp': array[:,0], 'Main': array[:,1], 'Unkn': array[:,2], 'Lite': array[:,3], 'Elec': array[:,4], 'Refg': array[:,5], 'Garb': array[:,6], 'Dish': array[:,7], 'Furn': array[:,8], 'Dryr': array[:,9], 'Micr': array[:,10], 'Smok': array[:,11], 'Bath': array[:,12], 'Kitch': array[:,13], 'Diff': array[:,14]})\n",
        "dataset3 = dataset3.set_index(['timestamp'])\n",
        "dataset3.index = pd.to_datetime(dataset3.index, unit='s')\n",
        "dataset3 = dataset3.resample('1min').mean()\n",
        "dataset3 = dataset3.dropna()\n",
        "dataset3.describe()"
      ],
      "execution_count": 12,
      "outputs": [
        {
          "output_type": "execute_result",
          "data": {
            "text/html": [
              "<div>\n",
              "<style scoped>\n",
              "    .dataframe tbody tr th:only-of-type {\n",
              "        vertical-align: middle;\n",
              "    }\n",
              "\n",
              "    .dataframe tbody tr th {\n",
              "        vertical-align: top;\n",
              "    }\n",
              "\n",
              "    .dataframe thead th {\n",
              "        text-align: right;\n",
              "    }\n",
              "</style>\n",
              "<table border=\"1\" class=\"dataframe\">\n",
              "  <thead>\n",
              "    <tr style=\"text-align: right;\">\n",
              "      <th></th>\n",
              "      <th>Main</th>\n",
              "      <th>Unkn</th>\n",
              "      <th>Lite</th>\n",
              "      <th>Elec</th>\n",
              "      <th>Refg</th>\n",
              "      <th>Garb</th>\n",
              "      <th>Dish</th>\n",
              "      <th>Furn</th>\n",
              "      <th>Dryr</th>\n",
              "      <th>Micr</th>\n",
              "      <th>Smok</th>\n",
              "      <th>Bath</th>\n",
              "      <th>Kitch</th>\n",
              "      <th>Diff</th>\n",
              "    </tr>\n",
              "  </thead>\n",
              "  <tbody>\n",
              "    <tr>\n",
              "      <th>count</th>\n",
              "      <td>24601.000000</td>\n",
              "      <td>24601.000000</td>\n",
              "      <td>24601.000000</td>\n",
              "      <td>24601.000000</td>\n",
              "      <td>24601.000000</td>\n",
              "      <td>24601.000000</td>\n",
              "      <td>24601.000000</td>\n",
              "      <td>24601.000000</td>\n",
              "      <td>24601.000000</td>\n",
              "      <td>24601.000000</td>\n",
              "      <td>24601.000000</td>\n",
              "      <td>24601.000000</td>\n",
              "      <td>24601.000000</td>\n",
              "      <td>24601.000000</td>\n",
              "    </tr>\n",
              "    <tr>\n",
              "      <th>mean</th>\n",
              "      <td>447.379797</td>\n",
              "      <td>7.096696</td>\n",
              "      <td>92.309104</td>\n",
              "      <td>103.809414</td>\n",
              "      <td>47.611646</td>\n",
              "      <td>0.089100</td>\n",
              "      <td>7.327249</td>\n",
              "      <td>15.351069</td>\n",
              "      <td>81.092320</td>\n",
              "      <td>8.539994</td>\n",
              "      <td>0.933422</td>\n",
              "      <td>16.130884</td>\n",
              "      <td>14.365813</td>\n",
              "      <td>52.723086</td>\n",
              "    </tr>\n",
              "    <tr>\n",
              "      <th>std</th>\n",
              "      <td>681.983342</td>\n",
              "      <td>32.362128</td>\n",
              "      <td>149.225450</td>\n",
              "      <td>56.256691</td>\n",
              "      <td>65.031417</td>\n",
              "      <td>1.148753</td>\n",
              "      <td>65.342533</td>\n",
              "      <td>81.029227</td>\n",
              "      <td>524.849764</td>\n",
              "      <td>92.172310</td>\n",
              "      <td>0.585150</td>\n",
              "      <td>138.707971</td>\n",
              "      <td>71.056528</td>\n",
              "      <td>52.612943</td>\n",
              "    </tr>\n",
              "    <tr>\n",
              "      <th>min</th>\n",
              "      <td>84.875000</td>\n",
              "      <td>0.000000</td>\n",
              "      <td>0.000000</td>\n",
              "      <td>40.533333</td>\n",
              "      <td>0.000000</td>\n",
              "      <td>0.000000</td>\n",
              "      <td>0.000000</td>\n",
              "      <td>0.000000</td>\n",
              "      <td>0.000000</td>\n",
              "      <td>0.000000</td>\n",
              "      <td>0.000000</td>\n",
              "      <td>0.000000</td>\n",
              "      <td>0.000000</td>\n",
              "      <td>18.437500</td>\n",
              "    </tr>\n",
              "    <tr>\n",
              "      <th>25%</th>\n",
              "      <td>142.428571</td>\n",
              "      <td>0.000000</td>\n",
              "      <td>1.000000</td>\n",
              "      <td>78.461538</td>\n",
              "      <td>0.187500</td>\n",
              "      <td>0.000000</td>\n",
              "      <td>0.812500</td>\n",
              "      <td>5.000000</td>\n",
              "      <td>0.000000</td>\n",
              "      <td>2.000000</td>\n",
              "      <td>0.875000</td>\n",
              "      <td>0.000000</td>\n",
              "      <td>2.000000</td>\n",
              "      <td>28.937500</td>\n",
              "    </tr>\n",
              "    <tr>\n",
              "      <th>50%</th>\n",
              "      <td>250.800000</td>\n",
              "      <td>0.375000</td>\n",
              "      <td>1.000000</td>\n",
              "      <td>90.312500</td>\n",
              "      <td>1.000000</td>\n",
              "      <td>0.000000</td>\n",
              "      <td>1.000000</td>\n",
              "      <td>5.000000</td>\n",
              "      <td>0.000000</td>\n",
              "      <td>2.000000</td>\n",
              "      <td>1.000000</td>\n",
              "      <td>0.000000</td>\n",
              "      <td>2.000000</td>\n",
              "      <td>32.187500</td>\n",
              "    </tr>\n",
              "    <tr>\n",
              "      <th>75%</th>\n",
              "      <td>457.666667</td>\n",
              "      <td>1.615385</td>\n",
              "      <td>171.125000</td>\n",
              "      <td>109.812500</td>\n",
              "      <td>115.937500</td>\n",
              "      <td>0.000000</td>\n",
              "      <td>1.000000</td>\n",
              "      <td>5.000000</td>\n",
              "      <td>0.000000</td>\n",
              "      <td>2.000000</td>\n",
              "      <td>1.000000</td>\n",
              "      <td>0.000000</td>\n",
              "      <td>7.000000</td>\n",
              "      <td>53.812500</td>\n",
              "    </tr>\n",
              "    <tr>\n",
              "      <th>max</th>\n",
              "      <td>7377.437500</td>\n",
              "      <td>924.666667</td>\n",
              "      <td>1380.466667</td>\n",
              "      <td>1161.000000</td>\n",
              "      <td>497.428571</td>\n",
              "      <td>141.625000</td>\n",
              "      <td>763.357143</td>\n",
              "      <td>747.000000</td>\n",
              "      <td>4894.875000</td>\n",
              "      <td>1768.800000</td>\n",
              "      <td>10.066667</td>\n",
              "      <td>1634.733333</td>\n",
              "      <td>1935.800000</td>\n",
              "      <td>786.687500</td>\n",
              "    </tr>\n",
              "  </tbody>\n",
              "</table>\n",
              "</div>"
            ],
            "text/plain": [
              "               Main          Unkn  ...         Kitch          Diff\n",
              "count  24601.000000  24601.000000  ...  24601.000000  24601.000000\n",
              "mean     447.379797      7.096696  ...     14.365813     52.723086\n",
              "std      681.983342     32.362128  ...     71.056528     52.612943\n",
              "min       84.875000      0.000000  ...      0.000000     18.437500\n",
              "25%      142.428571      0.000000  ...      2.000000     28.937500\n",
              "50%      250.800000      0.375000  ...      2.000000     32.187500\n",
              "75%      457.666667      1.615385  ...      7.000000     53.812500\n",
              "max     7377.437500    924.666667  ...   1935.800000    786.687500\n",
              "\n",
              "[8 rows x 14 columns]"
            ]
          },
          "metadata": {
            "tags": []
          },
          "execution_count": 12
        }
      ]
    },
    {
      "cell_type": "code",
      "metadata": {
        "id": "9q-zEswQ5lyQ",
        "colab_type": "code",
        "colab": {
          "base_uri": "https://localhost:8080/",
          "height": 317
        },
        "outputId": "17c6dbb0-51ac-461c-9a6c-c726de7c2fb0"
      },
      "source": [
        "array = df4.to_numpy()\n",
        "dataset4 = pd.DataFrame({'timestamp': array[:,0], 'Main': array[:,1], 'Lite': array[:,2], 'Furn': array[:,3], 'Kitch': array[:,4], 'Unkn': array[:,5], 'Dryr': array[:,6], 'Stov': array[:,7], 'Airc': array[:,8], 'Misc': array[:,9], 'Smok': array[:,10], 'Dish': array[:,11], 'Bath': array[:,12], 'Diff': array[:,13]})\n",
        "dataset4 = dataset4.set_index(['timestamp'])\n",
        "dataset4.index = pd.to_datetime(dataset4.index, unit='s')\n",
        "dataset4 = dataset4.resample('1min').mean()\n",
        "dataset4 = dataset4.dropna()\n",
        "dataset4.describe()"
      ],
      "execution_count": 13,
      "outputs": [
        {
          "output_type": "execute_result",
          "data": {
            "text/html": [
              "<div>\n",
              "<style scoped>\n",
              "    .dataframe tbody tr th:only-of-type {\n",
              "        vertical-align: middle;\n",
              "    }\n",
              "\n",
              "    .dataframe tbody tr th {\n",
              "        vertical-align: top;\n",
              "    }\n",
              "\n",
              "    .dataframe thead th {\n",
              "        text-align: right;\n",
              "    }\n",
              "</style>\n",
              "<table border=\"1\" class=\"dataframe\">\n",
              "  <thead>\n",
              "    <tr style=\"text-align: right;\">\n",
              "      <th></th>\n",
              "      <th>Main</th>\n",
              "      <th>Lite</th>\n",
              "      <th>Furn</th>\n",
              "      <th>Kitch</th>\n",
              "      <th>Unkn</th>\n",
              "      <th>Dryr</th>\n",
              "      <th>Stov</th>\n",
              "      <th>Airc</th>\n",
              "      <th>Misc</th>\n",
              "      <th>Smok</th>\n",
              "      <th>Dish</th>\n",
              "      <th>Bath</th>\n",
              "      <th>Diff</th>\n",
              "    </tr>\n",
              "  </thead>\n",
              "  <tbody>\n",
              "    <tr>\n",
              "      <th>count</th>\n",
              "      <td>27255.000000</td>\n",
              "      <td>27255.000000</td>\n",
              "      <td>27255.000000</td>\n",
              "      <td>27255.000000</td>\n",
              "      <td>27255.000000</td>\n",
              "      <td>27255.000000</td>\n",
              "      <td>27255.000000</td>\n",
              "      <td>27255.000000</td>\n",
              "      <td>27255.000000</td>\n",
              "      <td>27255.000000</td>\n",
              "      <td>27255.000000</td>\n",
              "      <td>27255.000000</td>\n",
              "      <td>27255.000000</td>\n",
              "    </tr>\n",
              "    <tr>\n",
              "      <th>mean</th>\n",
              "      <td>341.022644</td>\n",
              "      <td>21.501753</td>\n",
              "      <td>158.940320</td>\n",
              "      <td>66.263147</td>\n",
              "      <td>0.425396</td>\n",
              "      <td>6.495058</td>\n",
              "      <td>9.158460</td>\n",
              "      <td>0.177530</td>\n",
              "      <td>1.165254</td>\n",
              "      <td>0.035537</td>\n",
              "      <td>9.064347</td>\n",
              "      <td>1.111297</td>\n",
              "      <td>66.684545</td>\n",
              "    </tr>\n",
              "    <tr>\n",
              "      <th>std</th>\n",
              "      <td>304.681641</td>\n",
              "      <td>53.323840</td>\n",
              "      <td>203.043973</td>\n",
              "      <td>80.575761</td>\n",
              "      <td>0.961250</td>\n",
              "      <td>49.402285</td>\n",
              "      <td>61.697756</td>\n",
              "      <td>1.850858</td>\n",
              "      <td>0.212853</td>\n",
              "      <td>0.190730</td>\n",
              "      <td>105.365385</td>\n",
              "      <td>15.989902</td>\n",
              "      <td>43.635330</td>\n",
              "    </tr>\n",
              "    <tr>\n",
              "      <th>min</th>\n",
              "      <td>68.066667</td>\n",
              "      <td>0.000000</td>\n",
              "      <td>27.000000</td>\n",
              "      <td>0.400000</td>\n",
              "      <td>0.000000</td>\n",
              "      <td>0.000000</td>\n",
              "      <td>0.066667</td>\n",
              "      <td>0.000000</td>\n",
              "      <td>0.000000</td>\n",
              "      <td>0.000000</td>\n",
              "      <td>0.000000</td>\n",
              "      <td>0.000000</td>\n",
              "      <td>12.562500</td>\n",
              "    </tr>\n",
              "    <tr>\n",
              "      <th>25%</th>\n",
              "      <td>125.875000</td>\n",
              "      <td>0.000000</td>\n",
              "      <td>55.125000</td>\n",
              "      <td>7.062500</td>\n",
              "      <td>0.000000</td>\n",
              "      <td>0.266667</td>\n",
              "      <td>5.000000</td>\n",
              "      <td>0.000000</td>\n",
              "      <td>1.062500</td>\n",
              "      <td>0.000000</td>\n",
              "      <td>0.000000</td>\n",
              "      <td>0.375000</td>\n",
              "      <td>42.437500</td>\n",
              "    </tr>\n",
              "    <tr>\n",
              "      <th>50%</th>\n",
              "      <td>241.500000</td>\n",
              "      <td>0.000000</td>\n",
              "      <td>64.812500</td>\n",
              "      <td>15.562500</td>\n",
              "      <td>0.000000</td>\n",
              "      <td>0.750000</td>\n",
              "      <td>5.000000</td>\n",
              "      <td>0.000000</td>\n",
              "      <td>1.125000</td>\n",
              "      <td>0.000000</td>\n",
              "      <td>0.000000</td>\n",
              "      <td>0.812500</td>\n",
              "      <td>47.812500</td>\n",
              "    </tr>\n",
              "    <tr>\n",
              "      <th>75%</th>\n",
              "      <td>414.483333</td>\n",
              "      <td>0.066667</td>\n",
              "      <td>122.375000</td>\n",
              "      <td>138.594118</td>\n",
              "      <td>0.000000</td>\n",
              "      <td>0.937500</td>\n",
              "      <td>5.000000</td>\n",
              "      <td>0.000000</td>\n",
              "      <td>1.250000</td>\n",
              "      <td>0.000000</td>\n",
              "      <td>0.133333</td>\n",
              "      <td>1.250000</td>\n",
              "      <td>82.289583</td>\n",
              "    </tr>\n",
              "    <tr>\n",
              "      <th>max</th>\n",
              "      <td>3535.437500</td>\n",
              "      <td>311.500000</td>\n",
              "      <td>1379.866667</td>\n",
              "      <td>602.866667</td>\n",
              "      <td>7.437500</td>\n",
              "      <td>833.250000</td>\n",
              "      <td>1982.812500</td>\n",
              "      <td>57.000000</td>\n",
              "      <td>9.000000</td>\n",
              "      <td>6.000000</td>\n",
              "      <td>1362.687500</td>\n",
              "      <td>1151.562500</td>\n",
              "      <td>674.812500</td>\n",
              "    </tr>\n",
              "  </tbody>\n",
              "</table>\n",
              "</div>"
            ],
            "text/plain": [
              "               Main          Lite  ...          Bath          Diff\n",
              "count  27255.000000  27255.000000  ...  27255.000000  27255.000000\n",
              "mean     341.022644     21.501753  ...      1.111297     66.684545\n",
              "std      304.681641     53.323840  ...     15.989902     43.635330\n",
              "min       68.066667      0.000000  ...      0.000000     12.562500\n",
              "25%      125.875000      0.000000  ...      0.375000     42.437500\n",
              "50%      241.500000      0.000000  ...      0.812500     47.812500\n",
              "75%      414.483333      0.066667  ...      1.250000     82.289583\n",
              "max     3535.437500    311.500000  ...   1151.562500    674.812500\n",
              "\n",
              "[8 rows x 13 columns]"
            ]
          },
          "metadata": {
            "tags": []
          },
          "execution_count": 13
        }
      ]
    },
    {
      "cell_type": "code",
      "metadata": {
        "id": "I1ZwkFW85lej",
        "colab_type": "code",
        "colab": {
          "base_uri": "https://localhost:8080/",
          "height": 317
        },
        "outputId": "0486c090-cc46-4a96-a15f-e0d96a941a61"
      },
      "source": [
        "array = df5.to_numpy()\n",
        "dataset5 = pd.DataFrame({'timestamp': array[:,0], 'Main': array[:,1], 'Micr': array[:,2], 'Lite': array[:,3], 'Unkn': array[:,4], 'Furn': array[:,5], 'Dryr': array[:,6], 'Subp': array[:,7], 'Heat': array[:,8], 'Bath': array[:,9], 'Refg': array[:,10], 'Dish': array[:,11], 'Garb': array[:,12], 'Elec': array[:,13], 'Kitch': array[:,14], 'Outd': array[:,15], 'Diff': array[:,16]})\n",
        "dataset5 = dataset5.set_index(['timestamp'])\n",
        "dataset5.index = pd.to_datetime(dataset5.index, unit='s')\n",
        "dataset5 = dataset5.resample('1min').mean()\n",
        "dataset5 = dataset5.dropna()\n",
        "dataset5.describe()"
      ],
      "execution_count": 14,
      "outputs": [
        {
          "output_type": "execute_result",
          "data": {
            "text/html": [
              "<div>\n",
              "<style scoped>\n",
              "    .dataframe tbody tr th:only-of-type {\n",
              "        vertical-align: middle;\n",
              "    }\n",
              "\n",
              "    .dataframe tbody tr th {\n",
              "        vertical-align: top;\n",
              "    }\n",
              "\n",
              "    .dataframe thead th {\n",
              "        text-align: right;\n",
              "    }\n",
              "</style>\n",
              "<table border=\"1\" class=\"dataframe\">\n",
              "  <thead>\n",
              "    <tr style=\"text-align: right;\">\n",
              "      <th></th>\n",
              "      <th>Main</th>\n",
              "      <th>Micr</th>\n",
              "      <th>Lite</th>\n",
              "      <th>Unkn</th>\n",
              "      <th>Furn</th>\n",
              "      <th>Dryr</th>\n",
              "      <th>Subp</th>\n",
              "      <th>Heat</th>\n",
              "      <th>Bath</th>\n",
              "      <th>Refg</th>\n",
              "      <th>Dish</th>\n",
              "      <th>Garb</th>\n",
              "      <th>Elec</th>\n",
              "      <th>Kitch</th>\n",
              "      <th>Outd</th>\n",
              "      <th>Diff</th>\n",
              "    </tr>\n",
              "  </thead>\n",
              "  <tbody>\n",
              "    <tr>\n",
              "      <th>count</th>\n",
              "      <td>5216.000000</td>\n",
              "      <td>5216.000000</td>\n",
              "      <td>5216.000000</td>\n",
              "      <td>5216.000000</td>\n",
              "      <td>5216.000000</td>\n",
              "      <td>5216.000000</td>\n",
              "      <td>5216.000000</td>\n",
              "      <td>5216.000000</td>\n",
              "      <td>5216.000000</td>\n",
              "      <td>5216.000000</td>\n",
              "      <td>5216.000000</td>\n",
              "      <td>5216.000000</td>\n",
              "      <td>5216.000000</td>\n",
              "      <td>5216.000000</td>\n",
              "      <td>5216.000000</td>\n",
              "      <td>5216.000000</td>\n",
              "    </tr>\n",
              "    <tr>\n",
              "      <th>mean</th>\n",
              "      <td>640.598597</td>\n",
              "      <td>10.286787</td>\n",
              "      <td>136.405628</td>\n",
              "      <td>12.161388</td>\n",
              "      <td>51.562637</td>\n",
              "      <td>0.239719</td>\n",
              "      <td>61.871334</td>\n",
              "      <td>54.699168</td>\n",
              "      <td>3.502206</td>\n",
              "      <td>69.463592</td>\n",
              "      <td>10.688107</td>\n",
              "      <td>0.056673</td>\n",
              "      <td>17.147918</td>\n",
              "      <td>6.274978</td>\n",
              "      <td>0.035011</td>\n",
              "      <td>206.203452</td>\n",
              "    </tr>\n",
              "    <tr>\n",
              "      <th>std</th>\n",
              "      <td>999.229857</td>\n",
              "      <td>26.897406</td>\n",
              "      <td>154.004115</td>\n",
              "      <td>29.500239</td>\n",
              "      <td>167.983097</td>\n",
              "      <td>1.046608</td>\n",
              "      <td>145.418567</td>\n",
              "      <td>291.657709</td>\n",
              "      <td>59.776274</td>\n",
              "      <td>88.908105</td>\n",
              "      <td>104.594612</td>\n",
              "      <td>0.569400</td>\n",
              "      <td>25.074834</td>\n",
              "      <td>65.787831</td>\n",
              "      <td>0.337886</td>\n",
              "      <td>617.151566</td>\n",
              "    </tr>\n",
              "    <tr>\n",
              "      <th>min</th>\n",
              "      <td>163.400000</td>\n",
              "      <td>1.000000</td>\n",
              "      <td>68.000000</td>\n",
              "      <td>3.000000</td>\n",
              "      <td>0.000000</td>\n",
              "      <td>0.000000</td>\n",
              "      <td>16.200000</td>\n",
              "      <td>0.000000</td>\n",
              "      <td>0.000000</td>\n",
              "      <td>0.000000</td>\n",
              "      <td>0.000000</td>\n",
              "      <td>0.000000</td>\n",
              "      <td>4.142857</td>\n",
              "      <td>0.000000</td>\n",
              "      <td>0.000000</td>\n",
              "      <td>14.692308</td>\n",
              "    </tr>\n",
              "    <tr>\n",
              "      <th>25%</th>\n",
              "      <td>182.733333</td>\n",
              "      <td>3.000000</td>\n",
              "      <td>71.928571</td>\n",
              "      <td>3.437500</td>\n",
              "      <td>6.000000</td>\n",
              "      <td>0.000000</td>\n",
              "      <td>17.000000</td>\n",
              "      <td>0.000000</td>\n",
              "      <td>1.000000</td>\n",
              "      <td>0.133333</td>\n",
              "      <td>1.000000</td>\n",
              "      <td>0.000000</td>\n",
              "      <td>6.857143</td>\n",
              "      <td>0.000000</td>\n",
              "      <td>0.000000</td>\n",
              "      <td>37.875000</td>\n",
              "    </tr>\n",
              "    <tr>\n",
              "      <th>50%</th>\n",
              "      <td>311.581250</td>\n",
              "      <td>3.687500</td>\n",
              "      <td>73.800000</td>\n",
              "      <td>3.875000</td>\n",
              "      <td>6.000000</td>\n",
              "      <td>0.000000</td>\n",
              "      <td>19.000000</td>\n",
              "      <td>0.000000</td>\n",
              "      <td>1.000000</td>\n",
              "      <td>0.733333</td>\n",
              "      <td>1.000000</td>\n",
              "      <td>0.000000</td>\n",
              "      <td>7.000000</td>\n",
              "      <td>0.000000</td>\n",
              "      <td>0.000000</td>\n",
              "      <td>62.866667</td>\n",
              "    </tr>\n",
              "    <tr>\n",
              "      <th>75%</th>\n",
              "      <td>535.985714</td>\n",
              "      <td>6.067857</td>\n",
              "      <td>74.812500</td>\n",
              "      <td>4.000000</td>\n",
              "      <td>6.187500</td>\n",
              "      <td>0.000000</td>\n",
              "      <td>20.600000</td>\n",
              "      <td>0.000000</td>\n",
              "      <td>1.000000</td>\n",
              "      <td>160.812500</td>\n",
              "      <td>1.000000</td>\n",
              "      <td>0.000000</td>\n",
              "      <td>15.125000</td>\n",
              "      <td>0.127083</td>\n",
              "      <td>0.000000</td>\n",
              "      <td>68.533333</td>\n",
              "    </tr>\n",
              "    <tr>\n",
              "      <th>max</th>\n",
              "      <td>6312.133333</td>\n",
              "      <td>422.285714</td>\n",
              "      <td>811.285714</td>\n",
              "      <td>330.125000</td>\n",
              "      <td>888.714286</td>\n",
              "      <td>6.875000</td>\n",
              "      <td>1820.800000</td>\n",
              "      <td>2105.357143</td>\n",
              "      <td>1612.266667</td>\n",
              "      <td>493.062500</td>\n",
              "      <td>1288.733333</td>\n",
              "      <td>7.000000</td>\n",
              "      <td>472.866667</td>\n",
              "      <td>959.600000</td>\n",
              "      <td>5.000000</td>\n",
              "      <td>3023.428571</td>\n",
              "    </tr>\n",
              "  </tbody>\n",
              "</table>\n",
              "</div>"
            ],
            "text/plain": [
              "              Main         Micr  ...         Outd         Diff\n",
              "count  5216.000000  5216.000000  ...  5216.000000  5216.000000\n",
              "mean    640.598597    10.286787  ...     0.035011   206.203452\n",
              "std     999.229857    26.897406  ...     0.337886   617.151566\n",
              "min     163.400000     1.000000  ...     0.000000    14.692308\n",
              "25%     182.733333     3.000000  ...     0.000000    37.875000\n",
              "50%     311.581250     3.687500  ...     0.000000    62.866667\n",
              "75%     535.985714     6.067857  ...     0.000000    68.533333\n",
              "max    6312.133333   422.285714  ...     5.000000  3023.428571\n",
              "\n",
              "[8 rows x 16 columns]"
            ]
          },
          "metadata": {
            "tags": []
          },
          "execution_count": 14
        }
      ]
    },
    {
      "cell_type": "code",
      "metadata": {
        "id": "s9tRYJ4iRBBm",
        "colab_type": "code",
        "outputId": "080258e5-31fd-46bd-e7fc-0b89d1903850",
        "colab": {
          "base_uri": "https://localhost:8080/",
          "height": 317
        }
      },
      "source": [
        "array = df6.to_numpy()\n",
        "dataset6 = pd.DataFrame({'timestamp': array[:,0], 'Main': array[:,1], 'Kitch': array[:,2], 'Dryr': array[:,3], 'Stov': array[:,4], 'Elec': array[:,5], 'Bath': array[:,6], 'Refg': array[:,7], 'Dish': array[:,8], 'Unkn': array[:,9], 'Heat': array[:,10], 'Lite': array[:,11], 'Airc': array[:,12], 'Diff': array[:,13]})\n",
        "dataset6 = dataset6.set_index(['timestamp'])\n",
        "dataset6.index = pd.to_datetime(dataset6.index, unit='s')\n",
        "dataset6 = dataset6.resample('1min').mean()\n",
        "dataset6 = dataset6.dropna()\n",
        "dataset6.describe()"
      ],
      "execution_count": 15,
      "outputs": [
        {
          "output_type": "execute_result",
          "data": {
            "text/html": [
              "<div>\n",
              "<style scoped>\n",
              "    .dataframe tbody tr th:only-of-type {\n",
              "        vertical-align: middle;\n",
              "    }\n",
              "\n",
              "    .dataframe tbody tr th {\n",
              "        vertical-align: top;\n",
              "    }\n",
              "\n",
              "    .dataframe thead th {\n",
              "        text-align: right;\n",
              "    }\n",
              "</style>\n",
              "<table border=\"1\" class=\"dataframe\">\n",
              "  <thead>\n",
              "    <tr style=\"text-align: right;\">\n",
              "      <th></th>\n",
              "      <th>Main</th>\n",
              "      <th>Kitch</th>\n",
              "      <th>Dryr</th>\n",
              "      <th>Stov</th>\n",
              "      <th>Elec</th>\n",
              "      <th>Bath</th>\n",
              "      <th>Refg</th>\n",
              "      <th>Dish</th>\n",
              "      <th>Unkn</th>\n",
              "      <th>Heat</th>\n",
              "      <th>Lite</th>\n",
              "      <th>Airc</th>\n",
              "      <th>Diff</th>\n",
              "    </tr>\n",
              "  </thead>\n",
              "  <tbody>\n",
              "    <tr>\n",
              "      <th>count</th>\n",
              "      <td>18550.000000</td>\n",
              "      <td>18550.000000</td>\n",
              "      <td>18550.000000</td>\n",
              "      <td>18550.000000</td>\n",
              "      <td>18550.000000</td>\n",
              "      <td>18550.000000</td>\n",
              "      <td>18550.000000</td>\n",
              "      <td>18550.000000</td>\n",
              "      <td>18550.000000</td>\n",
              "      <td>18550.000000</td>\n",
              "      <td>18550.000000</td>\n",
              "      <td>18550.000000</td>\n",
              "      <td>18550.000000</td>\n",
              "    </tr>\n",
              "    <tr>\n",
              "      <th>mean</th>\n",
              "      <td>476.163052</td>\n",
              "      <td>7.647669</td>\n",
              "      <td>2.581146</td>\n",
              "      <td>4.461009</td>\n",
              "      <td>5.092700</td>\n",
              "      <td>3.953739</td>\n",
              "      <td>75.708210</td>\n",
              "      <td>0.238557</td>\n",
              "      <td>43.378926</td>\n",
              "      <td>20.873836</td>\n",
              "      <td>110.211802</td>\n",
              "      <td>126.346932</td>\n",
              "      <td>75.668526</td>\n",
              "    </tr>\n",
              "    <tr>\n",
              "      <th>std</th>\n",
              "      <td>597.761896</td>\n",
              "      <td>26.054808</td>\n",
              "      <td>0.337132</td>\n",
              "      <td>57.388952</td>\n",
              "      <td>53.919898</td>\n",
              "      <td>19.401404</td>\n",
              "      <td>75.099786</td>\n",
              "      <td>0.539375</td>\n",
              "      <td>84.172771</td>\n",
              "      <td>34.960668</td>\n",
              "      <td>28.038063</td>\n",
              "      <td>517.979869</td>\n",
              "      <td>46.011852</td>\n",
              "    </tr>\n",
              "    <tr>\n",
              "      <th>min</th>\n",
              "      <td>159.428571</td>\n",
              "      <td>4.000000</td>\n",
              "      <td>2.000000</td>\n",
              "      <td>0.000000</td>\n",
              "      <td>0.000000</td>\n",
              "      <td>0.000000</td>\n",
              "      <td>0.000000</td>\n",
              "      <td>0.000000</td>\n",
              "      <td>0.000000</td>\n",
              "      <td>3.750000</td>\n",
              "      <td>64.875000</td>\n",
              "      <td>3.000000</td>\n",
              "      <td>39.444444</td>\n",
              "    </tr>\n",
              "    <tr>\n",
              "      <th>25%</th>\n",
              "      <td>216.333333</td>\n",
              "      <td>5.875000</td>\n",
              "      <td>2.333333</td>\n",
              "      <td>2.000000</td>\n",
              "      <td>0.000000</td>\n",
              "      <td>3.083333</td>\n",
              "      <td>0.333333</td>\n",
              "      <td>0.000000</td>\n",
              "      <td>0.000000</td>\n",
              "      <td>7.555556</td>\n",
              "      <td>71.200000</td>\n",
              "      <td>4.000000</td>\n",
              "      <td>56.547980</td>\n",
              "    </tr>\n",
              "    <tr>\n",
              "      <th>50%</th>\n",
              "      <td>334.866667</td>\n",
              "      <td>6.000000</td>\n",
              "      <td>2.555556</td>\n",
              "      <td>2.250000</td>\n",
              "      <td>0.000000</td>\n",
              "      <td>3.500000</td>\n",
              "      <td>114.687500</td>\n",
              "      <td>0.083333</td>\n",
              "      <td>0.000000</td>\n",
              "      <td>8.000000</td>\n",
              "      <td>116.384615</td>\n",
              "      <td>4.000000</td>\n",
              "      <td>65.000000</td>\n",
              "    </tr>\n",
              "    <tr>\n",
              "      <th>75%</th>\n",
              "      <td>418.068182</td>\n",
              "      <td>6.500000</td>\n",
              "      <td>2.888889</td>\n",
              "      <td>2.571429</td>\n",
              "      <td>0.000000</td>\n",
              "      <td>3.909091</td>\n",
              "      <td>145.250000</td>\n",
              "      <td>0.428571</td>\n",
              "      <td>46.555556</td>\n",
              "      <td>19.500000</td>\n",
              "      <td>130.250000</td>\n",
              "      <td>4.000000</td>\n",
              "      <td>71.090909</td>\n",
              "    </tr>\n",
              "    <tr>\n",
              "      <th>max</th>\n",
              "      <td>3971.545455</td>\n",
              "      <td>1361.166667</td>\n",
              "      <td>6.000000</td>\n",
              "      <td>1740.375000</td>\n",
              "      <td>727.615385</td>\n",
              "      <td>948.583333</td>\n",
              "      <td>471.090909</td>\n",
              "      <td>24.000000</td>\n",
              "      <td>533.700000</td>\n",
              "      <td>485.500000</td>\n",
              "      <td>875.166667</td>\n",
              "      <td>2591.545455</td>\n",
              "      <td>776.000000</td>\n",
              "    </tr>\n",
              "  </tbody>\n",
              "</table>\n",
              "</div>"
            ],
            "text/plain": [
              "               Main         Kitch  ...          Airc          Diff\n",
              "count  18550.000000  18550.000000  ...  18550.000000  18550.000000\n",
              "mean     476.163052      7.647669  ...    126.346932     75.668526\n",
              "std      597.761896     26.054808  ...    517.979869     46.011852\n",
              "min      159.428571      4.000000  ...      3.000000     39.444444\n",
              "25%      216.333333      5.875000  ...      4.000000     56.547980\n",
              "50%      334.866667      6.000000  ...      4.000000     65.000000\n",
              "75%      418.068182      6.500000  ...      4.000000     71.090909\n",
              "max     3971.545455   1361.166667  ...   2591.545455    776.000000\n",
              "\n",
              "[8 rows x 13 columns]"
            ]
          },
          "metadata": {
            "tags": []
          },
          "execution_count": 15
        }
      ]
    },
    {
      "cell_type": "code",
      "metadata": {
        "id": "Ln2jEFa5s4d3",
        "colab_type": "code",
        "colab": {}
      },
      "source": [
        "#try1 = dataset2[[\"Main\", \"Refg\", \"Lite\"]]\n",
        "#try2 = dataset[[\"Main\", \"Refg\", \"Lite\"]]\n",
        "#try3 = pd.concat([try1, try2], ignore_index= True)\n",
        "#try3.describe()"
      ],
      "execution_count": 0,
      "outputs": []
    },
    {
      "cell_type": "code",
      "metadata": {
        "id": "wt6VLC_6SE-S",
        "colab_type": "code",
        "colab": {}
      },
      "source": [
        "def CNN_pre_processing (dataset, appliance, starting, ending, value1, value2):\n",
        "  for i in range(starting, ending):\n",
        "    if value1 == 0:\n",
        "      if dataset[appliance][i] > value2:\n",
        "        dataset[\"Lite\"][i] = 1\n",
        "      else:\n",
        "        dataset[\"Lite\"][i] = 0\n",
        "\n",
        "    else:\n",
        "      if dataset[appliance][i] > value1:\n",
        "        if dataset[appliance][i] < value2:\n",
        "          dataset[\"Lite\"][i] = 1\n",
        "        else:\n",
        "          dataset[\"Lite\"][i] = 0\n",
        "      else:\n",
        "        dataset[\"Lite\"][i] = 0\n",
        "\n",
        "  x = dataset.values #returns a numpy array\n",
        "  min_max_scaler = preprocessing.MinMaxScaler()\n",
        "  x_scaled = min_max_scaler.fit_transform(x)\n",
        "  dataset1 = pd.DataFrame(x_scaled)\n",
        "\n",
        "\n",
        "  lite = (dataset.index[starting+1] - dataset.index[starting])\n",
        "  lite = str(lite)\n",
        "  main_array = []\n",
        "  check = lite\n",
        "\n",
        "  temp = []\n",
        "  for i in range(starting+1,ending):\n",
        "      difference = dataset.index[i] - dataset.index[i-1]\n",
        "      string = str(difference)\n",
        "      if string == check:\n",
        "          temp1 = []\n",
        "          temp2 = []\n",
        "          temp1.append(dataset1[0][i])\n",
        "          temp1.append(dataset[\"Lite\"][i])\n",
        "          temp.append(temp1)\n",
        "      else:\n",
        "          main_array.append(temp)\n",
        "          temp = []\n",
        "\n",
        "\n",
        "\n",
        "  final_array = []\n",
        "  for i in range(0,len(main_array)):\n",
        "      length = len(main_array[i])\n",
        "      modu = length%20\n",
        "      if modu < 10:\n",
        "          temp = []\n",
        "          for j in range(0,len(main_array[i])-modu):\n",
        "              temp.append(main_array[i][j])\n",
        "          final_array.append(temp)\n",
        "      else:\n",
        "          temp = main_array[i]\n",
        "          for j in range(0,20 - modu):\n",
        "              array = [0,0]\n",
        "              temp.append(array)\n",
        "          final_array.append(temp)\n",
        "\n",
        "  test_array = []\n",
        "  for i in range(0,len(final_array)):\n",
        "      temp = []\n",
        "      for j in range(0,10):\n",
        "          temp.append([0,0])\n",
        "      for j in range(0,len(final_array[i])):\n",
        "          temp.append(final_array[i][j])\n",
        "      for j in range(0,10):\n",
        "          temp.append([0,0])\n",
        "      test_array.append(temp)\n",
        "\n",
        "\n",
        "\n",
        "  training_set = []\n",
        "  for i in range(0,len(test_array)):\n",
        "      for j in range(0,len(test_array[i])-20):\n",
        "          x_y = []\n",
        "          temp = []\n",
        "          for k in range(j,j+20):\n",
        "              temp.append(test_array[i][k][0])\n",
        "          x_y.append(temp)\n",
        "          x_y.append(test_array[i][j+10][1])\n",
        "          training_set.append(x_y)\n",
        "\n",
        "\n",
        "  X = []\n",
        "  y = []\n",
        "  for i in range(0,len(training_set)):\n",
        "    lets = training_set[i][0]\n",
        "    lets = np.asarray(lets)\n",
        "    X.append(lets)\n",
        "    y.append(training_set[i][1])\n",
        "\n",
        "\n",
        "  X = np.asarray(X)\n",
        "  y = np.asarray(y)\n",
        "  y_f1 = y\n",
        "  \n",
        "  from keras.utils import to_categorical\n",
        "  y = to_categorical(y)\n",
        "\n",
        "\n",
        "\n",
        "  return X,y, y_f1;"
      ],
      "execution_count": 0,
      "outputs": []
    },
    {
      "cell_type": "code",
      "metadata": {
        "id": "icHCddKPSS8x",
        "colab_type": "code",
        "colab": {}
      },
      "source": [
        "X_1, y_1, y_f1_1 = CNN_pre_processing(dataset, \"Refg\", 0, len(dataset.index), 0, 100)\n",
        "X_2, y_2, y_f1_2 = CNN_pre_processing(dataset2, \"Refg\", 0, (len(dataset2.index)), 0, 100)\n",
        "X_3, y_3, y_f1_3 = CNN_pre_processing(dataset3, \"Refg\", 0, (len(dataset3.index)), 0, 100)\n",
        "#X_4, y_4, y_f1_4 = CNN_pre_processing(dataset4, \"Refg\", 0, (len(dataset4.index)), 0, 100)\n",
        "X_5, y_5, y_f1_5 = CNN_pre_processing(dataset5, \"Refg\", 0, (len(dataset5.index)), 0, 100)\n",
        "X_6, y_6, y_f1_6 = CNN_pre_processing(dataset6, \"Refg\", 0, (len(dataset6.index)), 0, 100)\n"
      ],
      "execution_count": 0,
      "outputs": []
    },
    {
      "cell_type": "code",
      "metadata": {
        "id": "N1G4JJezTRAD",
        "colab_type": "code",
        "colab": {}
      },
      "source": [
        ""
      ],
      "execution_count": 0,
      "outputs": []
    },
    {
      "cell_type": "code",
      "metadata": {
        "id": "nwXv6sWjWR8O",
        "colab_type": "code",
        "colab": {}
      },
      "source": [
        ""
      ],
      "execution_count": 0,
      "outputs": []
    },
    {
      "cell_type": "code",
      "metadata": {
        "id": "UKH9e0y4TZf8",
        "colab_type": "code",
        "colab": {}
      },
      "source": [
        "X_training = []\n",
        "for i in range(0, len(X_2)):\n",
        "  X_training.append(X_2[i])\n",
        "\n",
        "for i in range(0, len(X_3)):\n",
        "  X_training.append(X_3[i])\n",
        "\n",
        "for i in range(0, len(X_5)):\n",
        "  X_training.append(X_5[i])\n",
        "\n",
        "for i in range(0, len(X_6)):\n",
        "  X_training.append(X_6[i])"
      ],
      "execution_count": 0,
      "outputs": []
    },
    {
      "cell_type": "code",
      "metadata": {
        "id": "1DS_5ImFT0WX",
        "colab_type": "code",
        "colab": {}
      },
      "source": [
        "y_training = []\n",
        "\n",
        "for i in range(0, len(y_2)):\n",
        "  y_training.append(y_2[i])\n",
        "\n",
        "for i in range(0, len(y_3)):\n",
        "  y_training.append(y_3[i])\n",
        "\n",
        "for i in range(0, len(y_5)):\n",
        "  y_training.append(y_5[i])\n",
        "\n",
        "for i in range(0, len(y_6)):\n",
        "  y_training.append(y_6[i])"
      ],
      "execution_count": 0,
      "outputs": []
    },
    {
      "cell_type": "code",
      "metadata": {
        "id": "7zVnVIvrWiUg",
        "colab_type": "code",
        "outputId": "a8f96ef5-ab17-4ed7-b5f1-4c670401344c",
        "colab": {
          "base_uri": "https://localhost:8080/",
          "height": 34
        }
      },
      "source": [
        "len(X_training)"
      ],
      "execution_count": 23,
      "outputs": [
        {
          "output_type": "execute_result",
          "data": {
            "text/plain": [
              "64780"
            ]
          },
          "metadata": {
            "tags": []
          },
          "execution_count": 23
        }
      ]
    },
    {
      "cell_type": "code",
      "metadata": {
        "id": "-gum0BiRU9Qj",
        "colab_type": "code",
        "colab": {}
      },
      "source": [
        "X_training = np.array(X_training)\n",
        "y_training = np.array(y_training)"
      ],
      "execution_count": 0,
      "outputs": []
    },
    {
      "cell_type": "code",
      "metadata": {
        "id": "UzUprV7wV-mU",
        "colab_type": "code",
        "outputId": "05d7980b-b80a-451d-8f99-400a82b2fa3a",
        "colab": {
          "base_uri": "https://localhost:8080/",
          "height": 34
        }
      },
      "source": [
        "print(len(X_training), len(y_training))"
      ],
      "execution_count": 25,
      "outputs": [
        {
          "output_type": "stream",
          "text": [
            "64780 64780\n"
          ],
          "name": "stdout"
        }
      ]
    },
    {
      "cell_type": "code",
      "metadata": {
        "id": "YK7_2n-dVbzg",
        "colab_type": "code",
        "colab": {}
      },
      "source": [
        "n_features = 1\n",
        "#n_seq = 2\n",
        "n_steps = 20\n",
        "X_training = X_training.reshape((X_training.shape[0], n_steps, n_features))\n"
      ],
      "execution_count": 0,
      "outputs": []
    },
    {
      "cell_type": "code",
      "metadata": {
        "id": "EIOxmImFVpzd",
        "colab_type": "code",
        "outputId": "290d326b-770a-472a-f90e-dfdfdaa360b9",
        "colab": {
          "base_uri": "https://localhost:8080/",
          "height": 731
        }
      },
      "source": [
        "model_refg = Sequential()\n",
        "model_refg.add(Conv1D(filters=64, kernel_size=3, activation='relu', input_shape=(n_steps,n_features)))\n",
        "model_refg.add(Conv1D(filters=64, kernel_size=3, activation='relu'))\n",
        "model_refg.add(Conv1D(filters=64, kernel_size=3, activation='relu'))\n",
        "#model.add(Conv1D(filters=64, kernel_size=3, activation='relu'))\n",
        "#model.add(Conv1D(filters=64, kernel_size=3, activation='relu'))\n",
        "#model.add(Dropout(0.5))\n",
        "model_refg.add(MaxPooling1D(pool_size=2))\n",
        "model_refg.add(Flatten())\n",
        "model_refg.add(Dense(100, activation='relu'))\n",
        "model_refg.add(Dense(2, activation='softmax'))\n",
        "model_refg.compile(optimizer='adam', loss=\"categorical_crossentropy\", metrics=['accuracy'])\n",
        "\n",
        "\n",
        "model_refg.fit(X_training, y_training, epochs=20, validation_split=0.1, verbose=1)\n"
      ],
      "execution_count": 27,
      "outputs": [
        {
          "output_type": "stream",
          "text": [
            "Train on 58302 samples, validate on 6478 samples\n",
            "Epoch 1/20\n",
            "58302/58302 [==============================] - 12s 200us/step - loss: 0.3363 - accuracy: 0.8395 - val_loss: 0.4127 - val_accuracy: 0.8374\n",
            "Epoch 2/20\n",
            "58302/58302 [==============================] - 11s 193us/step - loss: 0.2737 - accuracy: 0.8726 - val_loss: 0.2955 - val_accuracy: 0.8640\n",
            "Epoch 3/20\n",
            "58302/58302 [==============================] - 12s 202us/step - loss: 0.2519 - accuracy: 0.8832 - val_loss: 0.3192 - val_accuracy: 0.8676\n",
            "Epoch 4/20\n",
            "58302/58302 [==============================] - 12s 202us/step - loss: 0.2389 - accuracy: 0.8900 - val_loss: 0.2578 - val_accuracy: 0.8805\n",
            "Epoch 5/20\n",
            "58302/58302 [==============================] - 11s 197us/step - loss: 0.2288 - accuracy: 0.8947 - val_loss: 0.3111 - val_accuracy: 0.8557\n",
            "Epoch 6/20\n",
            "58302/58302 [==============================] - 12s 199us/step - loss: 0.2231 - accuracy: 0.8969 - val_loss: 0.3231 - val_accuracy: 0.8517\n",
            "Epoch 7/20\n",
            "58302/58302 [==============================] - 11s 196us/step - loss: 0.2163 - accuracy: 0.9020 - val_loss: 0.2660 - val_accuracy: 0.8771\n",
            "Epoch 8/20\n",
            "58302/58302 [==============================] - 12s 200us/step - loss: 0.2091 - accuracy: 0.9054 - val_loss: 0.3016 - val_accuracy: 0.8657\n",
            "Epoch 9/20\n",
            "58302/58302 [==============================] - 12s 206us/step - loss: 0.2037 - accuracy: 0.9084 - val_loss: 0.2754 - val_accuracy: 0.8868\n",
            "Epoch 10/20\n",
            "58302/58302 [==============================] - 12s 205us/step - loss: 0.1947 - accuracy: 0.9134 - val_loss: 0.2736 - val_accuracy: 0.8784\n",
            "Epoch 11/20\n",
            "58302/58302 [==============================] - 11s 184us/step - loss: 0.1904 - accuracy: 0.9154 - val_loss: 0.2838 - val_accuracy: 0.8796\n",
            "Epoch 12/20\n",
            "58302/58302 [==============================] - 11s 190us/step - loss: 0.1848 - accuracy: 0.9171 - val_loss: 0.2636 - val_accuracy: 0.8841\n",
            "Epoch 13/20\n",
            "58302/58302 [==============================] - 11s 196us/step - loss: 0.1794 - accuracy: 0.9219 - val_loss: 0.3099 - val_accuracy: 0.8751\n",
            "Epoch 14/20\n",
            "58302/58302 [==============================] - 15s 254us/step - loss: 0.1737 - accuracy: 0.9245 - val_loss: 0.3261 - val_accuracy: 0.8694\n",
            "Epoch 15/20\n",
            "58302/58302 [==============================] - 13s 227us/step - loss: 0.1704 - accuracy: 0.9261 - val_loss: 0.3121 - val_accuracy: 0.8799\n",
            "Epoch 16/20\n",
            "58302/58302 [==============================] - 12s 204us/step - loss: 0.1648 - accuracy: 0.9284 - val_loss: 0.2857 - val_accuracy: 0.8799\n",
            "Epoch 17/20\n",
            "58302/58302 [==============================] - 11s 197us/step - loss: 0.1603 - accuracy: 0.9315 - val_loss: 0.2888 - val_accuracy: 0.8845\n",
            "Epoch 18/20\n",
            "58302/58302 [==============================] - 12s 200us/step - loss: 0.1552 - accuracy: 0.9334 - val_loss: 0.3621 - val_accuracy: 0.8643\n",
            "Epoch 19/20\n",
            "58302/58302 [==============================] - 12s 205us/step - loss: 0.1513 - accuracy: 0.9356 - val_loss: 0.3450 - val_accuracy: 0.8739\n",
            "Epoch 20/20\n",
            "58302/58302 [==============================] - 12s 197us/step - loss: 0.1473 - accuracy: 0.9369 - val_loss: 0.3170 - val_accuracy: 0.8835\n"
          ],
          "name": "stdout"
        },
        {
          "output_type": "execute_result",
          "data": {
            "text/plain": [
              "<keras.callbacks.callbacks.History at 0x7fbed14b33c8>"
            ]
          },
          "metadata": {
            "tags": []
          },
          "execution_count": 27
        }
      ]
    },
    {
      "cell_type": "code",
      "metadata": {
        "id": "MHyNXiVU4jeh",
        "colab_type": "code",
        "colab": {}
      },
      "source": [
        "\n",
        "X_1 = X_1.reshape((X_1.shape[0], 20, 1))\n",
        "_, accuracy = model_refg.evaluate(X_1, y_1,  verbose=0)"
      ],
      "execution_count": 0,
      "outputs": []
    },
    {
      "cell_type": "code",
      "metadata": {
        "id": "IueYS82AV6NF",
        "colab_type": "code",
        "colab": {}
      },
      "source": [
        ""
      ],
      "execution_count": 0,
      "outputs": []
    },
    {
      "cell_type": "code",
      "metadata": {
        "id": "LQt9xeNmYQ-W",
        "colab_type": "code",
        "outputId": "56822198-58cf-44cb-aa0b-9e78b5eddc61",
        "colab": {
          "base_uri": "https://localhost:8080/",
          "height": 34
        }
      },
      "source": [
        "accuracy"
      ],
      "execution_count": 29,
      "outputs": [
        {
          "output_type": "execute_result",
          "data": {
            "text/plain": [
              "0.8815308213233948"
            ]
          },
          "metadata": {
            "tags": []
          },
          "execution_count": 29
        }
      ]
    },
    {
      "cell_type": "code",
      "metadata": {
        "id": "09uMlyMfY3NO",
        "colab_type": "code",
        "outputId": "4ddf6fdf-61f4-465d-f826-ed84776bcc7d",
        "colab": {
          "base_uri": "https://localhost:8080/",
          "height": 204
        }
      },
      "source": [
        "\n",
        "from sklearn.metrics import classification_report\n",
        "from sklearn.metrics import confusion_matrix\n",
        "\n",
        "\n",
        "y_pred = model_refg.predict_classes(X_1)\n",
        "print(classification_report(y_f1_1, y_pred))\n",
        "\n",
        "confusion_matrix(y_f1_1, y_pred)"
      ],
      "execution_count": 30,
      "outputs": [
        {
          "output_type": "stream",
          "text": [
            "              precision    recall  f1-score   support\n",
            "\n",
            "         0.0       0.90      0.94      0.92     19699\n",
            "         1.0       0.81      0.69      0.75      6561\n",
            "\n",
            "    accuracy                           0.88     26260\n",
            "   macro avg       0.85      0.82      0.83     26260\n",
            "weighted avg       0.88      0.88      0.88     26260\n",
            "\n"
          ],
          "name": "stdout"
        },
        {
          "output_type": "execute_result",
          "data": {
            "text/plain": [
              "array([[18598,  1101],\n",
              "       [ 2010,  4551]])"
            ]
          },
          "metadata": {
            "tags": []
          },
          "execution_count": 30
        }
      ]
    },
    {
      "cell_type": "code",
      "metadata": {
        "id": "ksGuqY002EWH",
        "colab_type": "code",
        "colab": {}
      },
      "source": [
        "def LSTM_pre_processing(dataset, appliance, starting, ending, value1, value2):\n",
        "  for i in range(starting, ending):\n",
        "    if value1 == 0:\n",
        "      if dataset[appliance][i] > value2:\n",
        "        dataset[\"Lite\"][i] = 1\n",
        "      else:\n",
        "        dataset[\"Lite\"][i] = 0\n",
        "\n",
        "    else:\n",
        "      if dataset[appliance][i] > value1:\n",
        "        if dataset[appliance][i] < value2:\n",
        "          dataset[\"Lite\"][i] = 1\n",
        "        else:\n",
        "          dataset[\"Lite\"][i] = 0\n",
        "      else:\n",
        "        dataset[\"Lite\"][i] = 0\n",
        "\n",
        "\n",
        "  flag = 0\n",
        "  for i in range(starting+1,ending):\n",
        "    if dataset[\"Lite\"][i] == 1:\n",
        "      if dataset[\"Lite\"][i-1] == 1:\n",
        "        flag+=1\n",
        "      else:\n",
        "        flag = 1\n",
        "    else:\n",
        "      flag = 0\n",
        "    dataset[\"Kitch\"][i] = flag\n",
        "\n",
        "  continues_active_sequence = []\n",
        "  temp = []\n",
        "  for i in range(starting, ending):\n",
        "    if dataset[\"Kitch\"][i] > 0:\n",
        "      temp1 = []\n",
        "      temp1.append(dataset[\"Kitch\"][i])\n",
        "      temp1.append(dataset[appliance][i])\n",
        "      temp.append(temp1)\n",
        "    else:\n",
        "      if len(temp) > 0:\n",
        "        continues_active_sequence.append(temp)\n",
        "        temp = []\n",
        "\n",
        "\n",
        "  train_x = []\n",
        "  train_y = []\n",
        "  for i in range(1,len(continues_active_sequence)):\n",
        "    temp1 = [0,0,0,0,0]\n",
        "    train_x.append(temp1)\n",
        "    norm = (continues_active_sequence[i][0][1])\n",
        "    train_y.append(norm)\n",
        "    temp1 = [0,0,0,0]\n",
        "    for j in range(0,len(continues_active_sequence[i])-1):\n",
        "      norm1 = (continues_active_sequence[i][j][0])\n",
        "      temp1.append(norm1)\n",
        "      train_x.append(temp1)\n",
        "      norm2 = (continues_active_sequence[i][j+1][1])\n",
        "      train_y.append(norm2)\n",
        "      temp3 = []\n",
        "      for k in range(1,len(temp1)):\n",
        "        temp3.append(temp1[k])\n",
        "      temp1 = temp3\n",
        "\n",
        "  LSTM_X = np.asarray(train_x)\n",
        "  LSTM_y = np.asarray(train_y)\n",
        "\n",
        "  return LSTM_X, LSTM_y;"
      ],
      "execution_count": 0,
      "outputs": []
    },
    {
      "cell_type": "code",
      "metadata": {
        "id": "3ZtErWAA2kG9",
        "colab_type": "code",
        "colab": {}
      },
      "source": [
        "LSTM_X1 ,LSTM_y1 = LSTM_pre_processing(dataset, \"Refg\", 0,  (len(dataset.index)), 0, 100)"
      ],
      "execution_count": 0,
      "outputs": []
    },
    {
      "cell_type": "code",
      "metadata": {
        "id": "b3MA22kk_csb",
        "colab_type": "code",
        "outputId": "3b8a5a05-97b4-4d59-a367-05447709a99e",
        "colab": {
          "base_uri": "https://localhost:8080/",
          "height": 34
        }
      },
      "source": [
        "len(LSTM_X1)"
      ],
      "execution_count": 0,
      "outputs": [
        {
          "output_type": "execute_result",
          "data": {
            "text/plain": [
              "6570"
            ]
          },
          "metadata": {
            "tags": []
          },
          "execution_count": 56
        }
      ]
    },
    {
      "cell_type": "code",
      "metadata": {
        "id": "qsV42vHj9R01",
        "colab_type": "code",
        "colab": {}
      },
      "source": [
        "n_steps_lstm = 5\n",
        "n_features_lstm = 1\n",
        "LSTM_X1 = LSTM_X1.reshape((LSTM_X1.shape[0], LSTM_X1.shape[1], n_features_lstm))"
      ],
      "execution_count": 0,
      "outputs": []
    },
    {
      "cell_type": "code",
      "metadata": {
        "id": "oszpDCJI9CiF",
        "colab_type": "code",
        "outputId": "85e72c3f-37aa-4687-e615-de2fcb71921a",
        "colab": {
          "base_uri": "https://localhost:8080/",
          "height": 1000
        }
      },
      "source": [
        "model_lstm_refg = Sequential()\n",
        "model_lstm_refg.add(LSTM(50, activation='relu', return_sequences=True, input_shape=(n_steps_lstm, n_features_lstm)))\n",
        "model_lstm_refg.add(LSTM(50, activation='relu'))\n",
        "model_lstm_refg.add(Dense(1))\n",
        "model_lstm_refg.compile(optimizer='adam', loss='mse')\n",
        "\n",
        "\n",
        "\n",
        "model_lstm_refg.fit(LSTM_X1, LSTM_y1, epochs=30, verbose=1)\n"
      ],
      "execution_count": 34,
      "outputs": [
        {
          "output_type": "stream",
          "text": [
            "Epoch 1/30\n",
            "6570/6570 [==============================] - 2s 287us/step - loss: 13934.1436\n",
            "Epoch 2/30\n",
            "6570/6570 [==============================] - 1s 207us/step - loss: 1659.2956\n",
            "Epoch 3/30\n",
            "6570/6570 [==============================] - 1s 208us/step - loss: 1656.7836\n",
            "Epoch 4/30\n",
            "6570/6570 [==============================] - 1s 206us/step - loss: 1682.2264\n",
            "Epoch 5/30\n",
            "6570/6570 [==============================] - 1s 207us/step - loss: 1675.0381\n",
            "Epoch 6/30\n",
            "6570/6570 [==============================] - 1s 205us/step - loss: 1649.2393\n",
            "Epoch 7/30\n",
            "6570/6570 [==============================] - 1s 207us/step - loss: 1679.0549\n",
            "Epoch 8/30\n",
            "6570/6570 [==============================] - 1s 218us/step - loss: 1647.2323\n",
            "Epoch 9/30\n",
            "6570/6570 [==============================] - 1s 206us/step - loss: 1671.4775\n",
            "Epoch 10/30\n",
            "6570/6570 [==============================] - 1s 211us/step - loss: 1671.6072\n",
            "Epoch 11/30\n",
            "6570/6570 [==============================] - 1s 209us/step - loss: 1682.1690\n",
            "Epoch 12/30\n",
            "6570/6570 [==============================] - 1s 205us/step - loss: 1668.5079\n",
            "Epoch 13/30\n",
            "6570/6570 [==============================] - 1s 205us/step - loss: 1638.2458\n",
            "Epoch 14/30\n",
            "6570/6570 [==============================] - 1s 207us/step - loss: 1681.9824\n",
            "Epoch 15/30\n",
            "6570/6570 [==============================] - 1s 210us/step - loss: 1661.7079\n",
            "Epoch 16/30\n",
            "6570/6570 [==============================] - 1s 206us/step - loss: 1647.8064\n",
            "Epoch 17/30\n",
            "6570/6570 [==============================] - 1s 207us/step - loss: 1666.5112\n",
            "Epoch 18/30\n",
            "6570/6570 [==============================] - 1s 212us/step - loss: 1667.7541\n",
            "Epoch 19/30\n",
            "6570/6570 [==============================] - 1s 209us/step - loss: 1648.4874\n",
            "Epoch 20/30\n",
            "6570/6570 [==============================] - 1s 210us/step - loss: 1654.7893\n",
            "Epoch 21/30\n",
            "6570/6570 [==============================] - 1s 210us/step - loss: 1651.4292\n",
            "Epoch 22/30\n",
            "6570/6570 [==============================] - 1s 212us/step - loss: 1650.7569\n",
            "Epoch 23/30\n",
            "6570/6570 [==============================] - 1s 208us/step - loss: 1654.8252\n",
            "Epoch 24/30\n",
            "6570/6570 [==============================] - 1s 206us/step - loss: 1645.7050\n",
            "Epoch 25/30\n",
            "6570/6570 [==============================] - 1s 207us/step - loss: 1666.0022\n",
            "Epoch 26/30\n",
            "6570/6570 [==============================] - 1s 210us/step - loss: 1648.2310\n",
            "Epoch 27/30\n",
            "6570/6570 [==============================] - 1s 202us/step - loss: 1673.6968\n",
            "Epoch 28/30\n",
            "6570/6570 [==============================] - 1s 206us/step - loss: 1653.5251\n",
            "Epoch 29/30\n",
            "6570/6570 [==============================] - 1s 206us/step - loss: 1667.0561\n",
            "Epoch 30/30\n",
            "6570/6570 [==============================] - 1s 208us/step - loss: 1647.6606\n"
          ],
          "name": "stdout"
        },
        {
          "output_type": "execute_result",
          "data": {
            "text/plain": [
              "<keras.callbacks.callbacks.History at 0x7fbed10a6f28>"
            ]
          },
          "metadata": {
            "tags": []
          },
          "execution_count": 34
        }
      ]
    },
    {
      "cell_type": "code",
      "metadata": {
        "id": "iIV2SIdY74Y0",
        "colab_type": "code",
        "colab": {}
      },
      "source": [
        "def testset_lstm (lite, deadload):\n",
        "  qwerty = []\n",
        "  flag = 0\n",
        "  temp = [0,0,0,0,0]\n",
        "  for i in range(0,len(lite)):\n",
        "    if lite[i] == 0:\n",
        "      qwerty.append([deadload])\n",
        "      flag = 0\n",
        "      temp = [0,0,0,0,0]\n",
        "    else:\n",
        "      flag+=1\n",
        "      temp2 = []\n",
        "      qwerty.append(temp)\n",
        "      temp.append(flag)\n",
        "      for j in range(len(temp)-5,len(temp)):\n",
        "        temp2.append(temp[j])\n",
        "      temp = temp2\n",
        "  \n",
        "  for i in range(0,len(qwerty)):\n",
        "    if len(qwerty) > 2:\n",
        "      good = []\n",
        "      for j in range(0,len(qwerty[i])-1):\n",
        "        good.append(qwerty[i][j])\n",
        "      qwerty[i] = good\n",
        "    else:\n",
        "      qwerty[i] = qwerty[i].append(deadload)\n",
        "\n",
        "\n",
        "  final = []\n",
        "  for i in range(0,len(qwerty)):\n",
        "    if len(qwerty[i]) > 2:\n",
        "      good = []\n",
        "      for j in range(0,len(qwerty[i])):\n",
        "        good.append(qwerty[i][j])\n",
        "      final.append(good)\n",
        "    else:\n",
        "      temp = []\n",
        "      temp.append(deadload)\n",
        "      final.append(temp)\n",
        "\n",
        "  return final;"
      ],
      "execution_count": 0,
      "outputs": []
    },
    {
      "cell_type": "code",
      "metadata": {
        "id": "iIFPJ8Nq8JVW",
        "colab_type": "code",
        "colab": {}
      },
      "source": [
        "lite_refg = []\n",
        "for i in range(0,len(X_1)):\n",
        "  x_input = X_1[i].reshape(1,20,1)\n",
        "  yhat = model_refg.predict_classes(x_input,verbose=0)\n",
        "  lite_refg.append(yhat[0])"
      ],
      "execution_count": 0,
      "outputs": []
    },
    {
      "cell_type": "code",
      "metadata": {
        "id": "Hrdv2cbF8Zde",
        "colab_type": "code",
        "colab": {}
      },
      "source": [
        "def CNN_pre_processing_finaly (dataset, appliance, starting, ending, value1, value2):\n",
        "  for i in range(starting, ending):\n",
        "    if value1 == 0:\n",
        "      if dataset[appliance][i] > value2:\n",
        "        dataset[\"Lite\"][i] = 1\n",
        "      else:\n",
        "        dataset[\"Lite\"][i] = 0\n",
        "\n",
        "    else:\n",
        "      if dataset[appliance][i] > value1:\n",
        "        if dataset[appliance][i] < value2:\n",
        "          dataset[\"Lite\"][i] = 1\n",
        "        else:\n",
        "          dataset[\"Lite\"][i] = 0\n",
        "      else:\n",
        "        dataset[\"Lite\"][i] = 0\n",
        "\n",
        "  lite = (dataset.index[starting+1] - dataset.index[starting])\n",
        "  lite = str(lite)\n",
        "  main_array = []\n",
        "  check = lite\n",
        "\n",
        "  temp = []\n",
        "  for i in range(starting+1,ending):\n",
        "      difference = dataset.index[i] - dataset.index[i-1]\n",
        "      string = str(difference)\n",
        "      if string == check:\n",
        "          temp1 = []\n",
        "          temp2 = []\n",
        "          temp1.append(dataset[appliance][i])\n",
        "          temp1.append(dataset[\"Lite\"][i])\n",
        "          temp.append(temp1)\n",
        "      else:\n",
        "          main_array.append(temp)\n",
        "          temp = []\n",
        "\n",
        "\n",
        "\n",
        "  final_array = []\n",
        "  for i in range(0,len(main_array)):\n",
        "      length = len(main_array[i])\n",
        "      modu = length%20\n",
        "      if modu < 10:\n",
        "          temp = []\n",
        "          for j in range(0,len(main_array[i])-modu):\n",
        "              temp.append(main_array[i][j])\n",
        "          final_array.append(temp)\n",
        "      else:\n",
        "          temp = main_array[i]\n",
        "          for j in range(0,20 - modu):\n",
        "              array = [0,0]\n",
        "              temp.append(array)\n",
        "          final_array.append(temp)\n",
        "\n",
        "\n",
        "  final_y = []\n",
        "  for i in range(0,len(final_array)):\n",
        "    for j in range(0,len(final_array[i])):\n",
        "      final_y.append(final_array[i][j][0])\n",
        "  len(final_y)\n",
        "\n",
        "  return final_y;"
      ],
      "execution_count": 0,
      "outputs": []
    },
    {
      "cell_type": "code",
      "metadata": {
        "id": "3h3jtwxD8kEh",
        "colab_type": "code",
        "colab": {}
      },
      "source": [
        "final_y = CNN_pre_processing_finaly(dataset, \"Refg\",  0, len(dataset.index), 0, 100)"
      ],
      "execution_count": 0,
      "outputs": []
    },
    {
      "cell_type": "code",
      "metadata": {
        "id": "NYZOxqvd81F5",
        "colab_type": "code",
        "colab": {}
      },
      "source": [
        "Refg = testset_lstm(lite_refg, 7.5)"
      ],
      "execution_count": 0,
      "outputs": []
    },
    {
      "cell_type": "code",
      "metadata": {
        "id": "THhDchik_iXj",
        "colab_type": "code",
        "outputId": "58795415-34bd-4b36-a651-3a8c02fb1faf",
        "colab": {
          "base_uri": "https://localhost:8080/",
          "height": 34
        }
      },
      "source": [
        "len(lite_refg)"
      ],
      "execution_count": 41,
      "outputs": [
        {
          "output_type": "execute_result",
          "data": {
            "text/plain": [
              "26260"
            ]
          },
          "metadata": {
            "tags": []
          },
          "execution_count": 41
        }
      ]
    },
    {
      "cell_type": "code",
      "metadata": {
        "id": "vrtXOIp486uH",
        "colab_type": "code",
        "colab": {}
      },
      "source": [
        "lol = 0\n",
        "error = 0\n",
        "total = 0\n",
        "tot = 0\n",
        "tot_m = 0\n",
        "total_m = 0\n",
        "tot_d = 0\n",
        "total_d = 0\n",
        "tot_dr = 0\n",
        "total_dr = 0\n",
        "refg_pred = []\n",
        "micr_pred = []\n",
        "dish_pred = []\n",
        "dryr_pred = []\n",
        "\n",
        "for i in range(0,len(Refg)):\n",
        "  if len(Refg[i]) < 2:\n",
        "    predic = Refg[i][0]\n",
        "  else:\n",
        "    x_input = np.asarray(Refg[i])\n",
        "    x_input = x_input.reshape((1,5,1))\n",
        "    yhat = model_lstm_refg.predict(x_input, verbose=0)\n",
        "    predic = yhat[0][0]\n",
        "    #predic = 120\n",
        "    #print(predic, final_y[i])\n",
        "  refg_pred.append(predic)\n",
        "  tot += predic\n",
        "  total += final_y[i]\n",
        "  lol += abs(predic - final_y[i])"
      ],
      "execution_count": 0,
      "outputs": []
    },
    {
      "cell_type": "code",
      "metadata": {
        "id": "iY4FvZid8-Ru",
        "colab_type": "code",
        "outputId": "afc3535c-5896-4bb9-e0ff-cabaf4d9f392",
        "colab": {
          "base_uri": "https://localhost:8080/",
          "height": 34
        }
      },
      "source": [
        "\n",
        "print(tot,total)"
      ],
      "execution_count": 46,
      "outputs": [
        {
          "output_type": "stream",
          "text": [
            "1292409.4392852783 1442367.3178707678\n"
          ],
          "name": "stdout"
        }
      ]
    },
    {
      "cell_type": "code",
      "metadata": {
        "id": "YUgG8w7k-MAg",
        "colab_type": "code",
        "outputId": "28a89ad3-e17f-4bc5-8039-ca3cad80cef9",
        "colab": {
          "base_uri": "https://localhost:8080/",
          "height": 34
        }
      },
      "source": [
        "(abs(tot-total)/total)"
      ],
      "execution_count": 65,
      "outputs": [
        {
          "output_type": "execute_result",
          "data": {
            "text/plain": [
              "0.10396649780366507"
            ]
          },
          "metadata": {
            "tags": []
          },
          "execution_count": 65
        }
      ]
    },
    {
      "cell_type": "code",
      "metadata": {
        "id": "IiH5I0_M9qY0",
        "colab_type": "code",
        "colab": {}
      },
      "source": [
        "import matplotlib.pyplot as plt"
      ],
      "execution_count": 0,
      "outputs": []
    },
    {
      "cell_type": "code",
      "metadata": {
        "id": "M13G_unFAl83",
        "colab_type": "code",
        "colab": {
          "base_uri": "https://localhost:8080/",
          "height": 34
        },
        "outputId": "0a0b713b-4e82-4220-d283-6a5eede71c8c"
      },
      "source": [
        "lol / len(final_y)"
      ],
      "execution_count": 64,
      "outputs": [
        {
          "output_type": "execute_result",
          "data": {
            "text/plain": [
              "26.561945374175203"
            ]
          },
          "metadata": {
            "tags": []
          },
          "execution_count": 64
        }
      ]
    },
    {
      "cell_type": "code",
      "metadata": {
        "id": "tkImCuCyA3JI",
        "colab_type": "code",
        "colab": {}
      },
      "source": [
        "def plotting_good_pred_segment(pred_array, ground_truth, value1, value2, name):\n",
        "  temp1 = []\n",
        "  temp2 = []\n",
        "  for i in range(value1,value2):\n",
        "    temp1.append(pred_array[i])\n",
        "    temp2.append(ground_truth[i])\n",
        "\n",
        "  plt.plot(temp1)\n",
        "  plt.plot(temp2)\n",
        "  plt.title(name)\n",
        "  plt.show()\n",
        "  return;"
      ],
      "execution_count": 0,
      "outputs": []
    },
    {
      "cell_type": "code",
      "metadata": {
        "id": "KGD7CAQ4A-9g",
        "colab_type": "code",
        "outputId": "831a9f16-2c67-4489-f5af-5eaec3b30fde",
        "colab": {
          "base_uri": "https://localhost:8080/",
          "height": 281
        }
      },
      "source": [
        "plotting_good_pred_segment(refg_pred, final_y, 3600, 3900, \"Refrigerator house 3\")"
      ],
      "execution_count": 63,
      "outputs": [
        {
          "output_type": "display_data",
          "data": {
            "image/png": "[encoded data removed]",
            "text/plain": [
              "<Figure size 432x288 with 1 Axes>"
            ]
          },
          "metadata": {
            "tags": [],
            "needs_background": "light"
          }
        }
      ]
    },
    {
      "cell_type": "code",
      "metadata": {
        "id": "LXfoLABVBDAO",
        "colab_type": "code",
        "colab": {}
      },
      "source": [
        ""
      ],
      "execution_count": 0,
      "outputs": []
    },
    {
      "cell_type": "code",
      "metadata": {
        "id": "CHLp4qNO_LmM",
        "colab_type": "code",
        "colab": {}
      },
      "source": [
        ""
      ],
      "execution_count": 0,
      "outputs": []
    }
  ]
}