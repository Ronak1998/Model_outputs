{
  "nbformat": 4,
  "nbformat_minor": 0,
  "metadata": {
    "colab": {
      "name": "House-1.ipynb",
      "provenance": [],
      "collapsed_sections": [],
      "authorship_tag": "ABX9TyNfm1pkTfy1I4hkLJ3vM4zl",
      "include_colab_link": true
    },
    "kernelspec": {
      "name": "python3",
      "display_name": "Python 3"
    }
  },
  "cells": [
    {
      "cell_type": "markdown",
      "metadata": {
        "id": "view-in-github",
        "colab_type": "text"
      },
      "source": [
        "<a href=\"https://colab.research.google.com/github/Ronak1998/Model_outputs/blob/master/House_1.ipynb\" target=\"_parent\"><img src=\"https://colab.research.google.com/assets/colab-badge.svg\" alt=\"Open In Colab\"/></a>"
      ]
    },
    {
      "cell_type": "code",
      "metadata": {
        "id": "cOG1q1jIENSo",
        "colab_type": "code",
        "outputId": "7e177c6f-8926-4929-9a35-7f9e689ca454",
        "colab": {
          "base_uri": "https://localhost:8080/",
          "height": 34
        }
      },
      "source": [
        "# univariate cnn lstm example\n",
        "import tensorflow.compat.v1 as tf\n",
        "from numpy import array\n",
        "from keras.models import Sequential\n",
        "from keras.layers import LSTM\n",
        "from keras.layers import Dense\n",
        "from keras.layers import Flatten\n",
        "from keras.layers import TimeDistributed\n",
        "from keras.layers.convolutional import Conv1D\n",
        "from keras.layers.convolutional import MaxPooling1D\n",
        "import keras.utils"
      ],
      "execution_count": 0,
      "outputs": [
        {
          "output_type": "stream",
          "text": [
            "Using TensorFlow backend.\n"
          ],
          "name": "stderr"
        }
      ]
    },
    {
      "cell_type": "code",
      "metadata": {
        "id": "dEIMR3yBEQbZ",
        "colab_type": "code",
        "colab": {}
      },
      "source": [
        "import pandas as pd\n",
        "import time\n",
        "from datetime import date, time, timedelta\n",
        "import numpy as np\n",
        "from numpy import asarray\n",
        "from numpy import save\n",
        "from sklearn import preprocessing\n",
        "from google.colab import drive"
      ],
      "execution_count": 0,
      "outputs": []
    },
    {
      "cell_type": "code",
      "metadata": {
        "id": "HDeCPgBbET6X",
        "colab_type": "code",
        "outputId": "551c45c3-8eb2-48d6-e726-e2900337a35c",
        "colab": {
          "base_uri": "https://localhost:8080/",
          "height": 139
        }
      },
      "source": [
        "from google.colab import drive\n",
        "drive.mount('/gdrive')\n",
        "%cd /gdrive"
      ],
      "execution_count": 0,
      "outputs": [
        {
          "output_type": "stream",
          "text": [
            "Go to this URL in a browser: https://accounts.google.com/o/oauth2/auth?client_id=947318989803-6bn6qk8qdgf4n4g3pfee6491hc0brc4i.apps.googleusercontent.com&redirect_uri=urn%3aietf%3awg%3aoauth%3a2.0%3aoob&response_type=code&scope=email%20https%3a%2f%2fwww.googleapis.com%2fauth%2fdocs.test%20https%3a%2f%2fwww.googleapis.com%2fauth%2fdrive%20https%3a%2f%2fwww.googleapis.com%2fauth%2fdrive.photos.readonly%20https%3a%2f%2fwww.googleapis.com%2fauth%2fpeopleapi.readonly\n",
            "\n",
            "Enter your authorization code:\n",
            "··········\n",
            "Mounted at /gdrive\n",
            "/gdrive\n"
          ],
          "name": "stdout"
        }
      ]
    },
    {
      "cell_type": "code",
      "metadata": {
        "id": "56e0h1vhEWRy",
        "colab_type": "code",
        "outputId": "8584b63e-c517-4c36-f41f-d9e77a78f3c6",
        "colab": {
          "base_uri": "https://localhost:8080/",
          "height": 255
        }
      },
      "source": [
        "file = r'/gdrive/My Drive/Colab Notebooks/NILM/REDDhouse1_lowf_VA.csv'\n",
        "df = pd.read_csv(file)\n",
        "print(df)"
      ],
      "execution_count": 0,
      "outputs": [
        {
          "output_type": "stream",
          "text": [
            "        TimeStamp    MAIN   OVEN   REFG  ...   BATH   HEAT   STOV   DIFF\n",
            "0       1303132933    340      0      6  ...      1      0      0     79\n",
            "1       1303132936    342      0      6  ...      1      0      0     81\n",
            "2       1303132940    341      0      6  ...      1      0      0     79\n",
            "3       1303132943    341      0      6  ...      1      0      0     79\n",
            "4       1303132946    340      0      6  ...      1      0      0     79\n",
            "...            ...    ...    ...    ...  ...    ...    ...    ...    ...\n",
            "406743  1306266980    273      0    186  ...      1      0      0     31\n",
            "406744  1306266983    273      0    187  ...      1      0      0     33\n",
            "406745  1306266987    273      0    190  ...      1      0      0     30\n",
            "406746  1306266990    273      0    189  ...      1      0      0     31\n",
            "406747  1306266994    273      0    186  ...      1      0      0     32\n",
            "\n",
            "[406748 rows x 13 columns]\n"
          ],
          "name": "stdout"
        }
      ]
    },
    {
      "cell_type": "code",
      "metadata": {
        "id": "aeVhrK0tEguH",
        "colab_type": "code",
        "outputId": "49917331-d558-4ac3-859c-4cbd0a331bec",
        "colab": {
          "base_uri": "https://localhost:8080/",
          "height": 297
        }
      },
      "source": [
        "array = df.to_numpy()\n",
        "dataset = pd.DataFrame({'timestamp': array[:,0], 'Main': array[:,1], 'Oven': array[:,2], 'Refg': array[:,3], 'Dish': array[:,4], 'Kitch': array[:,5], 'Lite': array[:,6], 'Dryr': array[:,7], 'Micr': array[:,8], 'Bath': array[:,9], 'Heat': array[:,10], 'Stov': array[:,11],'Diff': array[:,12]})\n",
        "dataset = dataset.set_index(['timestamp'])\n",
        "dataset.index = pd.to_datetime(dataset.index, unit='s')\n",
        "dataset = dataset.resample('1min').mean()\n",
        "dataset = dataset.dropna()\n",
        "dataset.describe()"
      ],
      "execution_count": 0,
      "outputs": [
        {
          "output_type": "execute_result",
          "data": {
            "text/html": [
              "<div>\n",
              "<style scoped>\n",
              "    .dataframe tbody tr th:only-of-type {\n",
              "        vertical-align: middle;\n",
              "    }\n",
              "\n",
              "    .dataframe tbody tr th {\n",
              "        vertical-align: top;\n",
              "    }\n",
              "\n",
              "    .dataframe thead th {\n",
              "        text-align: right;\n",
              "    }\n",
              "</style>\n",
              "<table border=\"1\" class=\"dataframe\">\n",
              "  <thead>\n",
              "    <tr style=\"text-align: right;\">\n",
              "      <th></th>\n",
              "      <th>Main</th>\n",
              "      <th>Oven</th>\n",
              "      <th>Refg</th>\n",
              "      <th>Dish</th>\n",
              "      <th>Kitch</th>\n",
              "      <th>Lite</th>\n",
              "      <th>Dryr</th>\n",
              "      <th>Micr</th>\n",
              "      <th>Bath</th>\n",
              "      <th>Heat</th>\n",
              "      <th>Stov</th>\n",
              "      <th>Diff</th>\n",
              "    </tr>\n",
              "  </thead>\n",
              "  <tbody>\n",
              "    <tr>\n",
              "      <th>count</th>\n",
              "      <td>26297.000000</td>\n",
              "      <td>26297.000000</td>\n",
              "      <td>26297.000000</td>\n",
              "      <td>26297.000000</td>\n",
              "      <td>26297.000000</td>\n",
              "      <td>26297.000000</td>\n",
              "      <td>26297.000000</td>\n",
              "      <td>26297.000000</td>\n",
              "      <td>26297.000000</td>\n",
              "      <td>26297.000000</td>\n",
              "      <td>26297.000000</td>\n",
              "      <td>26297.000000</td>\n",
              "    </tr>\n",
              "    <tr>\n",
              "      <th>mean</th>\n",
              "      <td>382.908284</td>\n",
              "      <td>13.731572</td>\n",
              "      <td>54.990180</td>\n",
              "      <td>25.396969</td>\n",
              "      <td>57.172662</td>\n",
              "      <td>74.117537</td>\n",
              "      <td>35.850292</td>\n",
              "      <td>22.183838</td>\n",
              "      <td>7.003494</td>\n",
              "      <td>0.127257</td>\n",
              "      <td>0.114912</td>\n",
              "      <td>92.219572</td>\n",
              "    </tr>\n",
              "    <tr>\n",
              "      <th>std</th>\n",
              "      <td>747.425265</td>\n",
              "      <td>211.077353</td>\n",
              "      <td>85.166772</td>\n",
              "      <td>149.214637</td>\n",
              "      <td>87.244082</td>\n",
              "      <td>64.251739</td>\n",
              "      <td>288.437464</td>\n",
              "      <td>147.068870</td>\n",
              "      <td>91.989994</td>\n",
              "      <td>0.946020</td>\n",
              "      <td>0.799245</td>\n",
              "      <td>334.331542</td>\n",
              "    </tr>\n",
              "    <tr>\n",
              "      <th>min</th>\n",
              "      <td>90.666667</td>\n",
              "      <td>0.000000</td>\n",
              "      <td>0.500000</td>\n",
              "      <td>0.000000</td>\n",
              "      <td>40.266667</td>\n",
              "      <td>0.333333</td>\n",
              "      <td>0.000000</td>\n",
              "      <td>1.687500</td>\n",
              "      <td>0.000000</td>\n",
              "      <td>0.000000</td>\n",
              "      <td>0.000000</td>\n",
              "      <td>0.800000</td>\n",
              "    </tr>\n",
              "    <tr>\n",
              "      <th>25%</th>\n",
              "      <td>136.875000</td>\n",
              "      <td>0.000000</td>\n",
              "      <td>6.312500</td>\n",
              "      <td>0.000000</td>\n",
              "      <td>43.125000</td>\n",
              "      <td>3.200000</td>\n",
              "      <td>0.000000</td>\n",
              "      <td>4.000000</td>\n",
              "      <td>1.000000</td>\n",
              "      <td>0.000000</td>\n",
              "      <td>0.000000</td>\n",
              "      <td>32.687500</td>\n",
              "    </tr>\n",
              "    <tr>\n",
              "      <th>50%</th>\n",
              "      <td>175.812500</td>\n",
              "      <td>0.000000</td>\n",
              "      <td>6.750000</td>\n",
              "      <td>0.000000</td>\n",
              "      <td>44.000000</td>\n",
              "      <td>81.500000</td>\n",
              "      <td>0.000000</td>\n",
              "      <td>4.000000</td>\n",
              "      <td>1.000000</td>\n",
              "      <td>0.000000</td>\n",
              "      <td>0.000000</td>\n",
              "      <td>37.375000</td>\n",
              "    </tr>\n",
              "    <tr>\n",
              "      <th>75%</th>\n",
              "      <td>349.312500</td>\n",
              "      <td>0.000000</td>\n",
              "      <td>101.750000</td>\n",
              "      <td>0.000000</td>\n",
              "      <td>46.000000</td>\n",
              "      <td>84.400000</td>\n",
              "      <td>0.000000</td>\n",
              "      <td>4.000000</td>\n",
              "      <td>1.000000</td>\n",
              "      <td>0.000000</td>\n",
              "      <td>0.000000</td>\n",
              "      <td>54.000000</td>\n",
              "    </tr>\n",
              "    <tr>\n",
              "      <th>max</th>\n",
              "      <td>11556.250000</td>\n",
              "      <td>4156.625000</td>\n",
              "      <td>437.800000</td>\n",
              "      <td>1153.066667</td>\n",
              "      <td>2725.600000</td>\n",
              "      <td>418.666667</td>\n",
              "      <td>3251.812500</td>\n",
              "      <td>1771.250000</td>\n",
              "      <td>1664.187500</td>\n",
              "      <td>19.600000</td>\n",
              "      <td>16.333333</td>\n",
              "      <td>3378.937500</td>\n",
              "    </tr>\n",
              "  </tbody>\n",
              "</table>\n",
              "</div>"
            ],
            "text/plain": [
              "               Main          Oven  ...          Stov          Diff\n",
              "count  26297.000000  26297.000000  ...  26297.000000  26297.000000\n",
              "mean     382.908284     13.731572  ...      0.114912     92.219572\n",
              "std      747.425265    211.077353  ...      0.799245    334.331542\n",
              "min       90.666667      0.000000  ...      0.000000      0.800000\n",
              "25%      136.875000      0.000000  ...      0.000000     32.687500\n",
              "50%      175.812500      0.000000  ...      0.000000     37.375000\n",
              "75%      349.312500      0.000000  ...      0.000000     54.000000\n",
              "max    11556.250000   4156.625000  ...     16.333333   3378.937500\n",
              "\n",
              "[8 rows x 12 columns]"
            ]
          },
          "metadata": {
            "tags": []
          },
          "execution_count": 5
        }
      ]
    },
    {
      "cell_type": "code",
      "metadata": {
        "id": "RekQKr5uQwt-",
        "colab_type": "code",
        "colab": {}
      },
      "source": [
        ""
      ],
      "execution_count": 0,
      "outputs": []
    },
    {
      "cell_type": "code",
      "metadata": {
        "id": "8flyydDIEjnp",
        "colab_type": "code",
        "colab": {}
      },
      "source": [
        "def LSTM_pre_processing(dataset, appliance, starting, ending, value1, value2):\n",
        "  for i in range(starting, ending):\n",
        "    if value1 == 0:\n",
        "      if dataset[appliance][i] > value2:\n",
        "        dataset[\"Lite\"][i] = 1\n",
        "      else:\n",
        "        dataset[\"Lite\"][i] = 0\n",
        "\n",
        "    else:\n",
        "      if dataset[appliance][i] > value1:\n",
        "        if dataset[appliance][i] < value2:\n",
        "          dataset[\"Lite\"][i] = 1\n",
        "        else:\n",
        "          dataset[\"Lite\"][i] = 0\n",
        "      else:\n",
        "        dataset[\"Lite\"][i] = 0\n",
        "\n",
        "\n",
        "  flag = 0\n",
        "  for i in range(starting+1,ending):\n",
        "    if dataset[\"Lite\"][i] == 1:\n",
        "      if dataset[\"Lite\"][i-1] == 1:\n",
        "        flag+=1\n",
        "      else:\n",
        "        flag = 1\n",
        "    else:\n",
        "      flag = 0\n",
        "    dataset[\"Kitch\"][i] = flag\n",
        "\n",
        "  continues_active_sequence = []\n",
        "  temp = []\n",
        "  for i in range(starting, ending):\n",
        "    if dataset[\"Kitch\"][i] > 0:\n",
        "      temp1 = []\n",
        "      temp1.append(dataset[\"Kitch\"][i])\n",
        "      temp1.append(dataset[appliance][i])\n",
        "      temp.append(temp1)\n",
        "    else:\n",
        "      if len(temp) > 0:\n",
        "        continues_active_sequence.append(temp)\n",
        "        temp = []\n",
        "\n",
        "\n",
        "  train_x = []\n",
        "  train_y = []\n",
        "  for i in range(1,len(continues_active_sequence)):\n",
        "    temp1 = [0,0,0,0,0]\n",
        "    train_x.append(temp1)\n",
        "    norm = (continues_active_sequence[i][0][1])\n",
        "    train_y.append(norm)\n",
        "    temp1 = [0,0,0,0]\n",
        "    for j in range(0,len(continues_active_sequence[i])-1):\n",
        "      norm1 = (continues_active_sequence[i][j][0])\n",
        "      temp1.append(norm1)\n",
        "      train_x.append(temp1)\n",
        "      norm2 = (continues_active_sequence[i][j+1][1])\n",
        "      train_y.append(norm2)\n",
        "      temp3 = []\n",
        "      for k in range(1,len(temp1)):\n",
        "        temp3.append(temp1[k])\n",
        "      temp1 = temp3\n",
        "\n",
        "  LSTM_X = np.asarray(train_x)\n",
        "  LSTM_y = np.asarray(train_y)\n",
        "\n",
        "  return LSTM_X, LSTM_y;"
      ],
      "execution_count": 0,
      "outputs": []
    },
    {
      "cell_type": "code",
      "metadata": {
        "id": "j1MBRZ2aIoZD",
        "colab_type": "code",
        "colab": {}
      },
      "source": [
        "def CNN_pre_processing (dataset, appliance, starting, ending, value1, value2):\n",
        "  for i in range(starting, ending):\n",
        "    if value1 == 0:\n",
        "      if dataset[appliance][i] > value2:\n",
        "        dataset[\"Lite\"][i] = 1\n",
        "      else:\n",
        "        dataset[\"Lite\"][i] = 0\n",
        "\n",
        "    else:\n",
        "      if dataset[appliance][i] > value1:\n",
        "        if dataset[appliance][i] < value2:\n",
        "          dataset[\"Lite\"][i] = 1\n",
        "        else:\n",
        "          dataset[\"Lite\"][i] = 0\n",
        "      else:\n",
        "        dataset[\"Lite\"][i] = 0\n",
        "\n",
        "  x = dataset.values #returns a numpy array\n",
        "  min_max_scaler = preprocessing.MinMaxScaler()\n",
        "  x_scaled = min_max_scaler.fit_transform(x)\n",
        "  dataset1 = pd.DataFrame(x_scaled)\n",
        "\n",
        "\n",
        "  lite = (dataset.index[starting+1] - dataset.index[starting])\n",
        "  lite = str(lite)\n",
        "  main_array = []\n",
        "  check = lite\n",
        "\n",
        "  temp = []\n",
        "  for i in range(starting+1,ending):\n",
        "      difference = dataset.index[i] - dataset.index[i-1]\n",
        "      string = str(difference)\n",
        "      if string == check:\n",
        "          temp1 = []\n",
        "          temp2 = []\n",
        "          temp1.append(dataset1[0][i])\n",
        "          temp1.append(dataset[\"Lite\"][i])\n",
        "          temp.append(temp1)\n",
        "      else:\n",
        "          main_array.append(temp)\n",
        "          temp = []\n",
        "\n",
        "\n",
        "\n",
        "  final_array = []\n",
        "  for i in range(0,len(main_array)):\n",
        "      length = len(main_array[i])\n",
        "      modu = length%20\n",
        "      if modu < 10:\n",
        "          temp = []\n",
        "          for j in range(0,len(main_array[i])-modu):\n",
        "              temp.append(main_array[i][j])\n",
        "          final_array.append(temp)\n",
        "      else:\n",
        "          temp = main_array[i]\n",
        "          for j in range(0,20 - modu):\n",
        "              array = [0,0]\n",
        "              temp.append(array)\n",
        "          final_array.append(temp)\n",
        "\n",
        "  test_array = []\n",
        "  for i in range(0,len(final_array)):\n",
        "      temp = []\n",
        "      for j in range(0,10):\n",
        "          temp.append([0,0])\n",
        "      for j in range(0,len(final_array[i])):\n",
        "          temp.append(final_array[i][j])\n",
        "      for j in range(0,10):\n",
        "          temp.append([0,0])\n",
        "      test_array.append(temp)\n",
        "\n",
        "\n",
        "\n",
        "  training_set = []\n",
        "  for i in range(0,len(test_array)):\n",
        "      for j in range(0,len(test_array[i])-20):\n",
        "          x_y = []\n",
        "          temp = []\n",
        "          for k in range(j,j+20):\n",
        "              temp.append(test_array[i][k][0])\n",
        "          x_y.append(temp)\n",
        "          x_y.append(test_array[i][j+10][1])\n",
        "          training_set.append(x_y)\n",
        "\n",
        "\n",
        "  X = []\n",
        "  y = []\n",
        "  for i in range(0,len(training_set)):\n",
        "    lets = training_set[i][0]\n",
        "    lets = np.asarray(lets)\n",
        "    X.append(lets)\n",
        "    y.append(training_set[i][1])\n",
        "\n",
        "\n",
        "  X = np.asarray(X)\n",
        "  y = np.asarray(y)\n",
        "  from keras.utils import to_categorical\n",
        "  y = to_categorical(y)\n",
        "\n",
        "\n",
        "\n",
        "  return X,y;"
      ],
      "execution_count": 0,
      "outputs": []
    },
    {
      "cell_type": "code",
      "metadata": {
        "id": "EafAWHvkGWid",
        "colab_type": "code",
        "colab": {}
      },
      "source": [
        "LSTM_X_refg,LSTM_y_refg = LSTM_pre_processing(dataset, \"Refg\", 0,  (len(dataset.index)-8000), 0, 100)\n",
        "\n",
        "LSTM_X_micr,LSTM_y_micr = LSTM_pre_processing(dataset, \"Micr\", 0,  (len(dataset.index)-8000), 0, 600)\n",
        "\n",
        "LSTM_X_dish1,LSTM_y_dish1 = LSTM_pre_processing(dataset, \"Dish\", 0,  (len(dataset.index)-8000), 100, 500)\n",
        "\n",
        "LSTM_X_dish2,LSTM_y_dish2 = LSTM_pre_processing(dataset, \"Dish\", 0,  (len(dataset.index)-8000), 0, 850)\n",
        "\n",
        "LSTM_X_dryr1,LSTM_y_dryr1 = LSTM_pre_processing(dataset, \"Dryr\", 0,  (len(dataset.index)-8000), 250, 700)\n",
        "\n",
        "LSTM_X_dryr2,LSTM_y_dryr2 = LSTM_pre_processing(dataset, \"Dryr\", 0,  (len(dataset.index)-8000), 0, 2000)"
      ],
      "execution_count": 0,
      "outputs": []
    },
    {
      "cell_type": "code",
      "metadata": {
        "id": "kHnXr8QpG_tO",
        "colab_type": "code",
        "colab": {}
      },
      "source": [
        "X_refg, y_refg = CNN_pre_processing(dataset, \"Refg\", 0, (len(dataset.index)-8000), 0, 100)\n",
        "\n",
        "X_micr, y_micr = CNN_pre_processing(dataset, \"Micr\", 0, (len(dataset.index)-8000), 0, 600)\n",
        "\n",
        "X_dish1, y_dish1 = CNN_pre_processing(dataset, \"Dish\", 0, (len(dataset.index)-8000), 100, 600)\n",
        "\n",
        "X_dish2, y_dish2 = CNN_pre_processing(dataset, \"Dish\", 0, (len(dataset.index)-8000), 0, 850)\n",
        "\n",
        "X_dryr1, y_dryr1 = CNN_pre_processing(dataset, \"Dryr\", 0, (len(dataset.index)-8000), 250, 700)\n",
        "\n",
        "X_dryr2, y_dryr2 = CNN_pre_processing(dataset, \"Dryr\", 0, (len(dataset.index)-8000), 0, 2000)\n"
      ],
      "execution_count": 0,
      "outputs": []
    },
    {
      "cell_type": "code",
      "metadata": {
        "id": "AxGacxQoMYE9",
        "colab_type": "code",
        "outputId": "6491c01c-1647-41b0-f828-14c5be2fc17c",
        "colab": {
          "base_uri": "https://localhost:8080/",
          "height": 34
        }
      },
      "source": [
        "print(len(X_dish1), len(LSTM_X_dish1))"
      ],
      "execution_count": 0,
      "outputs": [
        {
          "output_type": "stream",
          "text": [
            "17740 357\n"
          ],
          "name": "stdout"
        }
      ]
    },
    {
      "cell_type": "code",
      "metadata": {
        "id": "I05H7hW2csqx",
        "colab_type": "code",
        "colab": {}
      },
      "source": [
        "from keras.layers import Dropout\n",
        "from keras.models import Sequential\n",
        "from keras.layers import LSTM\n",
        "from keras.layers import Dense\n",
        "from keras.layers import Bidirectional"
      ],
      "execution_count": 0,
      "outputs": []
    },
    {
      "cell_type": "code",
      "metadata": {
        "id": "v2WCa32InKS3",
        "colab_type": "code",
        "colab": {}
      },
      "source": [
        "n_features = 1\n",
        "#n_seq = 2\n",
        "n_steps = 20\n",
        "X_refg = X_refg.reshape((X_refg.shape[0], n_steps, n_features))\n",
        "\n",
        "X_micr = X_micr.reshape((X_micr.shape[0], n_steps, n_features))\n",
        "\n",
        "X_dish1 = X_dish1.reshape((X_dish1.shape[0], n_steps, n_features))\n",
        "\n",
        "X_dish2 = X_dish2.reshape((X_dish2.shape[0], n_steps, n_features))\n",
        "\n",
        "X_dryr1 = X_dryr1.reshape((X_dryr1.shape[0], n_steps, n_features))\n",
        "\n",
        "X_dryr2 = X_dryr2.reshape((X_dryr2.shape[0], n_steps, n_features))\n"
      ],
      "execution_count": 0,
      "outputs": []
    },
    {
      "cell_type": "code",
      "metadata": {
        "id": "ae4YU5S9JTsy",
        "colab_type": "code",
        "outputId": "294fc808-ba17-4b06-aa52-47da3f5281b4",
        "colab": {
          "base_uri": "https://localhost:8080/",
          "height": 731
        }
      },
      "source": [
        "model_dryr1 = Sequential()\n",
        "model_dryr1.add(Conv1D(filters=64, kernel_size=3, activation='relu', input_shape=(n_steps,n_features)))\n",
        "model_dryr1.add(Conv1D(filters=64, kernel_size=3, activation='relu'))\n",
        "model_dryr1.add(Conv1D(filters=64, kernel_size=3, activation='relu'))\n",
        "#model.add(Conv1D(filters=64, kernel_size=3, activation='relu'))\n",
        "#model.add(Conv1D(filters=64, kernel_size=3, activation='relu'))\n",
        "#model.add(Dropout(0.5))\n",
        "model_dryr1.add(MaxPooling1D(pool_size=2))\n",
        "model_dryr1.add(Flatten())\n",
        "model_dryr1.add(Dense(100, activation='relu'))\n",
        "model_dryr1.add(Dense(2, activation='softmax'))\n",
        "model_dryr1.compile(optimizer='adam', loss=\"categorical_crossentropy\", metrics=['accuracy'])\n",
        "\n",
        "model_dryr1.fit(X_dryr1, y_dryr1, epochs=20, validation_split=0.1, verbose=1)"
      ],
      "execution_count": 0,
      "outputs": [
        {
          "output_type": "stream",
          "text": [
            "Train on 15966 samples, validate on 1774 samples\n",
            "Epoch 1/20\n",
            "15966/15966 [==============================] - 4s 266us/step - loss: 0.0446 - accuracy: 0.9953 - val_loss: 0.0505 - val_accuracy: 0.9882\n",
            "Epoch 2/20\n",
            "15966/15966 [==============================] - 4s 222us/step - loss: 0.0244 - accuracy: 0.9953 - val_loss: 0.0385 - val_accuracy: 0.9882\n",
            "Epoch 3/20\n",
            "15966/15966 [==============================] - 4s 227us/step - loss: 0.0217 - accuracy: 0.9953 - val_loss: 0.0423 - val_accuracy: 0.9882\n",
            "Epoch 4/20\n",
            "15966/15966 [==============================] - 4s 223us/step - loss: 0.0211 - accuracy: 0.9953 - val_loss: 0.0489 - val_accuracy: 0.9882\n",
            "Epoch 5/20\n",
            "15966/15966 [==============================] - 4s 222us/step - loss: 0.0203 - accuracy: 0.9953 - val_loss: 0.0413 - val_accuracy: 0.9882\n",
            "Epoch 6/20\n",
            "15966/15966 [==============================] - 4s 223us/step - loss: 0.0195 - accuracy: 0.9953 - val_loss: 0.0471 - val_accuracy: 0.9882\n",
            "Epoch 7/20\n",
            "15966/15966 [==============================] - 3s 219us/step - loss: 0.0175 - accuracy: 0.9954 - val_loss: 0.0770 - val_accuracy: 0.9882\n",
            "Epoch 8/20\n",
            "15966/15966 [==============================] - 3s 218us/step - loss: 0.0148 - accuracy: 0.9957 - val_loss: 0.0853 - val_accuracy: 0.9882\n",
            "Epoch 9/20\n",
            "15966/15966 [==============================] - 4s 225us/step - loss: 0.0111 - accuracy: 0.9969 - val_loss: 0.0609 - val_accuracy: 0.9882\n",
            "Epoch 10/20\n",
            "15966/15966 [==============================] - 4s 228us/step - loss: 0.0089 - accuracy: 0.9975 - val_loss: 0.0549 - val_accuracy: 0.9887\n",
            "Epoch 11/20\n",
            "15966/15966 [==============================] - 4s 230us/step - loss: 0.0070 - accuracy: 0.9977 - val_loss: 0.0616 - val_accuracy: 0.9882\n",
            "Epoch 12/20\n",
            "15966/15966 [==============================] - 4s 226us/step - loss: 0.0065 - accuracy: 0.9977 - val_loss: 0.0709 - val_accuracy: 0.9882\n",
            "Epoch 13/20\n",
            "15966/15966 [==============================] - 3s 219us/step - loss: 0.0054 - accuracy: 0.9980 - val_loss: 0.0651 - val_accuracy: 0.9893\n",
            "Epoch 14/20\n",
            "15966/15966 [==============================] - 4s 226us/step - loss: 0.0048 - accuracy: 0.9982 - val_loss: 0.0950 - val_accuracy: 0.9876\n",
            "Epoch 15/20\n",
            "15966/15966 [==============================] - 4s 227us/step - loss: 0.0071 - accuracy: 0.9982 - val_loss: 0.0624 - val_accuracy: 0.9853\n",
            "Epoch 16/20\n",
            "15966/15966 [==============================] - 4s 225us/step - loss: 0.0040 - accuracy: 0.9984 - val_loss: 0.1180 - val_accuracy: 0.9882\n",
            "Epoch 17/20\n",
            "15966/15966 [==============================] - 3s 218us/step - loss: 0.0041 - accuracy: 0.9987 - val_loss: 0.0969 - val_accuracy: 0.9882\n",
            "Epoch 18/20\n",
            "15966/15966 [==============================] - 4s 220us/step - loss: 0.0031 - accuracy: 0.9985 - val_loss: 0.1261 - val_accuracy: 0.9887\n",
            "Epoch 19/20\n",
            "15966/15966 [==============================] - 3s 218us/step - loss: 0.0043 - accuracy: 0.9984 - val_loss: 0.0935 - val_accuracy: 0.9882\n",
            "Epoch 20/20\n",
            "15966/15966 [==============================] - 3s 216us/step - loss: 0.0033 - accuracy: 0.9986 - val_loss: 0.1066 - val_accuracy: 0.9882\n"
          ],
          "name": "stdout"
        },
        {
          "output_type": "execute_result",
          "data": {
            "text/plain": [
              "<keras.callbacks.callbacks.History at 0x7f7a8a9595c0>"
            ]
          },
          "metadata": {
            "tags": []
          },
          "execution_count": 13
        }
      ]
    },
    {
      "cell_type": "code",
      "metadata": {
        "id": "aCh9sy09JTUI",
        "colab_type": "code",
        "outputId": "7e083824-088b-41fe-e9ef-a1e5fa633336",
        "colab": {
          "base_uri": "https://localhost:8080/",
          "height": 731
        }
      },
      "source": [
        "model_dryr2 = Sequential()\n",
        "model_dryr2.add(Conv1D(filters=64, kernel_size=3, activation='relu', input_shape=(n_steps,n_features)))\n",
        "model_dryr2.add(Conv1D(filters=64, kernel_size=3, activation='relu'))\n",
        "model_dryr2.add(Conv1D(filters=64, kernel_size=3, activation='relu'))\n",
        "#model.add(Conv1D(filters=64, kernel_size=3, activation='relu'))\n",
        "#model.add(Conv1D(filters=64, kernel_size=3, activation='relu'))\n",
        "#model.add(Dropout(0.5))\n",
        "model_dryr2.add(MaxPooling1D(pool_size=2))\n",
        "model_dryr2.add(Flatten())\n",
        "model_dryr2.add(Dense(100, activation='relu'))\n",
        "model_dryr2.add(Dense(2, activation='softmax'))\n",
        "model_dryr2.compile(optimizer='adam', loss=\"categorical_crossentropy\", metrics=['accuracy'])\n",
        "\n",
        "model_dryr2.fit(X_dryr2, y_dryr2, epochs=20, validation_split=0.1, verbose=1)"
      ],
      "execution_count": 0,
      "outputs": [
        {
          "output_type": "stream",
          "text": [
            "Train on 15966 samples, validate on 1774 samples\n",
            "Epoch 1/20\n",
            "15966/15966 [==============================] - 4s 240us/step - loss: 0.0318 - accuracy: 0.9930 - val_loss: 0.0210 - val_accuracy: 0.9887\n",
            "Epoch 2/20\n",
            "15966/15966 [==============================] - 4s 225us/step - loss: 0.0099 - accuracy: 0.9955 - val_loss: 0.0122 - val_accuracy: 0.9938\n",
            "Epoch 3/20\n",
            "15966/15966 [==============================] - 4s 231us/step - loss: 0.0079 - accuracy: 0.9971 - val_loss: 0.0054 - val_accuracy: 0.9977\n",
            "Epoch 4/20\n",
            "15966/15966 [==============================] - 4s 228us/step - loss: 0.0065 - accuracy: 0.9971 - val_loss: 0.0072 - val_accuracy: 0.9983\n",
            "Epoch 5/20\n",
            "15966/15966 [==============================] - 4s 229us/step - loss: 0.0055 - accuracy: 0.9978 - val_loss: 0.0092 - val_accuracy: 0.9938\n",
            "Epoch 6/20\n",
            "15966/15966 [==============================] - 4s 228us/step - loss: 0.0050 - accuracy: 0.9979 - val_loss: 0.0047 - val_accuracy: 0.9994\n",
            "Epoch 7/20\n",
            "15966/15966 [==============================] - 4s 228us/step - loss: 0.0059 - accuracy: 0.9976 - val_loss: 0.0055 - val_accuracy: 0.9977\n",
            "Epoch 8/20\n",
            "15966/15966 [==============================] - 4s 227us/step - loss: 0.0039 - accuracy: 0.9985 - val_loss: 0.0213 - val_accuracy: 0.9932\n",
            "Epoch 9/20\n",
            "15966/15966 [==============================] - 4s 226us/step - loss: 0.0043 - accuracy: 0.9981 - val_loss: 0.0034 - val_accuracy: 0.9994\n",
            "Epoch 10/20\n",
            "15966/15966 [==============================] - 4s 227us/step - loss: 0.0035 - accuracy: 0.9984 - val_loss: 0.0049 - val_accuracy: 0.9983\n",
            "Epoch 11/20\n",
            "15966/15966 [==============================] - 4s 231us/step - loss: 0.0039 - accuracy: 0.9982 - val_loss: 0.0038 - val_accuracy: 0.9983\n",
            "Epoch 12/20\n",
            "15966/15966 [==============================] - 4s 237us/step - loss: 0.0028 - accuracy: 0.9991 - val_loss: 0.0141 - val_accuracy: 0.9966\n",
            "Epoch 13/20\n",
            "15966/15966 [==============================] - 4s 226us/step - loss: 0.0030 - accuracy: 0.9984 - val_loss: 0.0053 - val_accuracy: 0.9983\n",
            "Epoch 14/20\n",
            "15966/15966 [==============================] - 4s 230us/step - loss: 0.0029 - accuracy: 0.9987 - val_loss: 0.0045 - val_accuracy: 0.9994\n",
            "Epoch 15/20\n",
            "15966/15966 [==============================] - 4s 237us/step - loss: 0.0026 - accuracy: 0.9991 - val_loss: 0.0086 - val_accuracy: 0.9977\n",
            "Epoch 16/20\n",
            "15966/15966 [==============================] - 4s 235us/step - loss: 0.0031 - accuracy: 0.9987 - val_loss: 0.0068 - val_accuracy: 0.9977\n",
            "Epoch 17/20\n",
            "15966/15966 [==============================] - 4s 234us/step - loss: 0.0016 - accuracy: 0.9992 - val_loss: 0.0131 - val_accuracy: 0.9977\n",
            "Epoch 18/20\n",
            "15966/15966 [==============================] - 4s 237us/step - loss: 0.0021 - accuracy: 0.9990 - val_loss: 0.0104 - val_accuracy: 0.9966\n",
            "Epoch 19/20\n",
            "15966/15966 [==============================] - 4s 238us/step - loss: 0.0017 - accuracy: 0.9992 - val_loss: 0.0086 - val_accuracy: 0.9983\n",
            "Epoch 20/20\n",
            "15966/15966 [==============================] - 4s 237us/step - loss: 0.0022 - accuracy: 0.9991 - val_loss: 0.0057 - val_accuracy: 0.9977\n"
          ],
          "name": "stdout"
        },
        {
          "output_type": "execute_result",
          "data": {
            "text/plain": [
              "<keras.callbacks.callbacks.History at 0x7f7a8a8d9940>"
            ]
          },
          "metadata": {
            "tags": []
          },
          "execution_count": 14
        }
      ]
    },
    {
      "cell_type": "code",
      "metadata": {
        "id": "Zlk_PDJjahkI",
        "colab_type": "code",
        "outputId": "9a300843-64b2-47da-b642-6d1b61d08c2d",
        "colab": {
          "base_uri": "https://localhost:8080/",
          "height": 731
        }
      },
      "source": [
        "model_dish1 = Sequential()\n",
        "model_dish1.add(Conv1D(filters=64, kernel_size=3, activation='relu', input_shape=(n_steps,n_features)))\n",
        "model_dish1.add(Conv1D(filters=64, kernel_size=3, activation='relu'))\n",
        "model_dish1.add(Conv1D(filters=64, kernel_size=3, activation='relu'))\n",
        "#model.add(Conv1D(filters=64, kernel_size=3, activation='relu'))\n",
        "#model.add(Conv1D(filters=64, kernel_size=3, activation='relu'))\n",
        "#model.add(Dropout(0.5))\n",
        "model_dish1.add(MaxPooling1D(pool_size=2))\n",
        "model_dish1.add(Flatten())\n",
        "model_dish1.add(Dense(100, activation='relu'))\n",
        "model_dish1.add(Dense(2, activation='softmax'))\n",
        "model_dish1.compile(optimizer='adam', loss=\"categorical_crossentropy\", metrics=['accuracy'])\n",
        "\n",
        "model_dish1.fit(X_dish1, y_dish1, epochs=20, validation_split=0.1, verbose=1)"
      ],
      "execution_count": 0,
      "outputs": [
        {
          "output_type": "stream",
          "text": [
            "Train on 15966 samples, validate on 1774 samples\n",
            "Epoch 1/20\n",
            "15966/15966 [==============================] - 4s 245us/step - loss: 0.1077 - accuracy: 0.9752 - val_loss: 0.0103 - val_accuracy: 1.0000\n",
            "Epoch 2/20\n",
            "15966/15966 [==============================] - 4s 228us/step - loss: 0.0740 - accuracy: 0.9771 - val_loss: 0.0198 - val_accuracy: 1.0000\n",
            "Epoch 3/20\n",
            "15966/15966 [==============================] - 4s 230us/step - loss: 0.0690 - accuracy: 0.9780 - val_loss: 0.0111 - val_accuracy: 1.0000\n",
            "Epoch 4/20\n",
            "15966/15966 [==============================] - 4s 226us/step - loss: 0.0652 - accuracy: 0.9781 - val_loss: 0.0229 - val_accuracy: 0.9966\n",
            "Epoch 5/20\n",
            "15966/15966 [==============================] - 4s 225us/step - loss: 0.0620 - accuracy: 0.9787 - val_loss: 0.0058 - val_accuracy: 1.0000\n",
            "Epoch 6/20\n",
            "15966/15966 [==============================] - 4s 224us/step - loss: 0.0582 - accuracy: 0.9794 - val_loss: 0.0104 - val_accuracy: 1.0000\n",
            "Epoch 7/20\n",
            "15966/15966 [==============================] - 4s 227us/step - loss: 0.0543 - accuracy: 0.9807 - val_loss: 0.0108 - val_accuracy: 0.9977\n",
            "Epoch 8/20\n",
            "15966/15966 [==============================] - 4s 227us/step - loss: 0.0518 - accuracy: 0.9814 - val_loss: 0.0023 - val_accuracy: 1.0000\n",
            "Epoch 9/20\n",
            "15966/15966 [==============================] - 4s 227us/step - loss: 0.0450 - accuracy: 0.9838 - val_loss: 0.0043 - val_accuracy: 1.0000\n",
            "Epoch 10/20\n",
            "15966/15966 [==============================] - 4s 225us/step - loss: 0.0416 - accuracy: 0.9863 - val_loss: 0.0057 - val_accuracy: 1.0000\n",
            "Epoch 11/20\n",
            "15966/15966 [==============================] - 4s 222us/step - loss: 0.0378 - accuracy: 0.9867 - val_loss: 0.0017 - val_accuracy: 1.0000\n",
            "Epoch 12/20\n",
            "15966/15966 [==============================] - 4s 225us/step - loss: 0.0369 - accuracy: 0.9877 - val_loss: 6.9897e-04 - val_accuracy: 1.0000\n",
            "Epoch 13/20\n",
            "15966/15966 [==============================] - 4s 228us/step - loss: 0.0340 - accuracy: 0.9888 - val_loss: 0.0042 - val_accuracy: 1.0000\n",
            "Epoch 14/20\n",
            "15966/15966 [==============================] - 4s 237us/step - loss: 0.0309 - accuracy: 0.9908 - val_loss: 0.0017 - val_accuracy: 1.0000\n",
            "Epoch 15/20\n",
            "15966/15966 [==============================] - 4s 234us/step - loss: 0.0302 - accuracy: 0.9904 - val_loss: 4.3259e-04 - val_accuracy: 1.0000\n",
            "Epoch 16/20\n",
            "15966/15966 [==============================] - 4s 230us/step - loss: 0.0275 - accuracy: 0.9907 - val_loss: 5.9522e-04 - val_accuracy: 1.0000\n",
            "Epoch 17/20\n",
            "15966/15966 [==============================] - 4s 235us/step - loss: 0.0260 - accuracy: 0.9916 - val_loss: 9.4385e-04 - val_accuracy: 1.0000\n",
            "Epoch 18/20\n",
            "15966/15966 [==============================] - 4s 238us/step - loss: 0.0244 - accuracy: 0.9915 - val_loss: 0.0010 - val_accuracy: 1.0000\n",
            "Epoch 19/20\n",
            "15966/15966 [==============================] - 4s 231us/step - loss: 0.0236 - accuracy: 0.9922 - val_loss: 0.0023 - val_accuracy: 1.0000\n",
            "Epoch 20/20\n",
            "15966/15966 [==============================] - 4s 224us/step - loss: 0.0227 - accuracy: 0.9927 - val_loss: 9.0431e-04 - val_accuracy: 1.0000\n"
          ],
          "name": "stdout"
        },
        {
          "output_type": "execute_result",
          "data": {
            "text/plain": [
              "<keras.callbacks.callbacks.History at 0x7f7a83ae2908>"
            ]
          },
          "metadata": {
            "tags": []
          },
          "execution_count": 15
        }
      ]
    },
    {
      "cell_type": "code",
      "metadata": {
        "id": "F1STtw-qahCL",
        "colab_type": "code",
        "outputId": "1740f8ef-dde2-4e43-840d-1197fdc69ec3",
        "colab": {
          "base_uri": "https://localhost:8080/",
          "height": 731
        }
      },
      "source": [
        "model_dish2 = Sequential()\n",
        "model_dish2.add(Conv1D(filters=64, kernel_size=3, activation='relu', input_shape=(n_steps,n_features)))\n",
        "model_dish2.add(Conv1D(filters=64, kernel_size=3, activation='relu'))\n",
        "model_dish2.add(Conv1D(filters=64, kernel_size=3, activation='relu'))\n",
        "#model.add(Conv1D(filters=64, kernel_size=3, activation='relu'))\n",
        "#model.add(Conv1D(filters=64, kernel_size=3, activation='relu'))\n",
        "#model.add(Dropout(0.5))\n",
        "model_dish2.add(MaxPooling1D(pool_size=2))\n",
        "model_dish2.add(Flatten())\n",
        "model_dish2.add(Dense(100, activation='relu'))\n",
        "model_dish2.add(Dense(2, activation='softmax'))\n",
        "model_dish2.compile(optimizer='adam', loss=\"categorical_crossentropy\", metrics=['accuracy'])\n",
        "\n",
        "model_dish2.fit(X_dish2, y_dish2, epochs=20, validation_split=0.1, verbose=1)"
      ],
      "execution_count": 0,
      "outputs": [
        {
          "output_type": "stream",
          "text": [
            "Train on 15966 samples, validate on 1774 samples\n",
            "Epoch 1/20\n",
            "15966/15966 [==============================] - 4s 232us/step - loss: 0.0491 - accuracy: 0.9868 - val_loss: 4.9677e-04 - val_accuracy: 1.0000\n",
            "Epoch 2/20\n",
            "15966/15966 [==============================] - 4s 223us/step - loss: 0.0076 - accuracy: 0.9973 - val_loss: 2.0417e-04 - val_accuracy: 1.0000\n",
            "Epoch 3/20\n",
            "15966/15966 [==============================] - 4s 223us/step - loss: 0.0056 - accuracy: 0.9980 - val_loss: 2.9284e-04 - val_accuracy: 1.0000\n",
            "Epoch 4/20\n",
            "15966/15966 [==============================] - 4s 227us/step - loss: 0.0080 - accuracy: 0.9973 - val_loss: 2.9152e-04 - val_accuracy: 1.0000\n",
            "Epoch 5/20\n",
            "15966/15966 [==============================] - 4s 234us/step - loss: 0.0075 - accuracy: 0.9974 - val_loss: 1.5302e-04 - val_accuracy: 1.0000\n",
            "Epoch 6/20\n",
            "15966/15966 [==============================] - 4s 227us/step - loss: 0.0047 - accuracy: 0.9981 - val_loss: 4.5652e-05 - val_accuracy: 1.0000\n",
            "Epoch 7/20\n",
            "15966/15966 [==============================] - 4s 223us/step - loss: 0.0062 - accuracy: 0.9977 - val_loss: 3.4180e-06 - val_accuracy: 1.0000\n",
            "Epoch 8/20\n",
            "15966/15966 [==============================] - 4s 220us/step - loss: 0.0041 - accuracy: 0.9987 - val_loss: 4.0219e-05 - val_accuracy: 1.0000\n",
            "Epoch 9/20\n",
            "15966/15966 [==============================] - 4s 223us/step - loss: 0.0040 - accuracy: 0.9986 - val_loss: 0.0011 - val_accuracy: 1.0000\n",
            "Epoch 10/20\n",
            "15966/15966 [==============================] - 4s 223us/step - loss: 0.0091 - accuracy: 0.9975 - val_loss: 8.1947e-04 - val_accuracy: 1.0000\n",
            "Epoch 11/20\n",
            "15966/15966 [==============================] - 3s 219us/step - loss: 0.0040 - accuracy: 0.9989 - val_loss: 1.3913e-04 - val_accuracy: 1.0000\n",
            "Epoch 12/20\n",
            "15966/15966 [==============================] - 4s 220us/step - loss: 0.0035 - accuracy: 0.9989 - val_loss: 7.3771e-04 - val_accuracy: 1.0000\n",
            "Epoch 13/20\n",
            "15966/15966 [==============================] - 4s 223us/step - loss: 0.0040 - accuracy: 0.9985 - val_loss: 5.2810e-04 - val_accuracy: 1.0000\n",
            "Epoch 14/20\n",
            "15966/15966 [==============================] - 4s 223us/step - loss: 0.0034 - accuracy: 0.9990 - val_loss: 2.8107e-05 - val_accuracy: 1.0000\n",
            "Epoch 15/20\n",
            "15966/15966 [==============================] - 4s 221us/step - loss: 0.0033 - accuracy: 0.9989 - val_loss: 5.4024e-06 - val_accuracy: 1.0000\n",
            "Epoch 16/20\n",
            "15966/15966 [==============================] - 4s 220us/step - loss: 0.0034 - accuracy: 0.9989 - val_loss: 1.3368e-04 - val_accuracy: 1.0000\n",
            "Epoch 17/20\n",
            "15966/15966 [==============================] - 4s 220us/step - loss: 0.0045 - accuracy: 0.9984 - val_loss: 1.1438e-04 - val_accuracy: 1.0000\n",
            "Epoch 18/20\n",
            "15966/15966 [==============================] - 4s 222us/step - loss: 0.0029 - accuracy: 0.9992 - val_loss: 7.6622e-04 - val_accuracy: 1.0000\n",
            "Epoch 19/20\n",
            "15966/15966 [==============================] - 4s 224us/step - loss: 0.0056 - accuracy: 0.9986 - val_loss: 8.0155e-04 - val_accuracy: 0.9994\n",
            "Epoch 20/20\n",
            "15966/15966 [==============================] - 4s 222us/step - loss: 0.0022 - accuracy: 0.9994 - val_loss: 3.2547e-04 - val_accuracy: 1.0000\n"
          ],
          "name": "stdout"
        },
        {
          "output_type": "execute_result",
          "data": {
            "text/plain": [
              "<keras.callbacks.callbacks.History at 0x7f7a838549e8>"
            ]
          },
          "metadata": {
            "tags": []
          },
          "execution_count": 16
        }
      ]
    },
    {
      "cell_type": "code",
      "metadata": {
        "id": "XEnK3VUuPPEr",
        "colab_type": "code",
        "outputId": "7ef62ec6-e892-44ab-97b5-0e72cc35bccd",
        "colab": {
          "base_uri": "https://localhost:8080/",
          "height": 731
        }
      },
      "source": [
        "model_micr = Sequential()\n",
        "model_micr.add(Conv1D(filters=64, kernel_size=3, activation='relu', input_shape=(n_steps,n_features)))\n",
        "model_micr.add(Conv1D(filters=64, kernel_size=3, activation='relu'))\n",
        "model_micr.add(Conv1D(filters=64, kernel_size=3, activation='relu'))\n",
        "#model.add(Conv1D(filters=64, kernel_size=3, activation='relu'))\n",
        "#model.add(Conv1D(filters=64, kernel_size=3, activation='relu'))\n",
        "#model.add(Dropout(0.5))\n",
        "model_micr.add(MaxPooling1D(pool_size=2))\n",
        "model_micr.add(Flatten())\n",
        "model_micr.add(Dense(100, activation='relu'))\n",
        "model_micr.add(Dense(2, activation='softmax'))\n",
        "model_micr.compile(optimizer='adam', loss=\"categorical_crossentropy\", metrics=['accuracy'])\n",
        "\n",
        "model_micr.fit(X_micr, y_micr, epochs=20, validation_split=0.1, verbose=1)"
      ],
      "execution_count": 0,
      "outputs": [
        {
          "output_type": "stream",
          "text": [
            "Train on 15966 samples, validate on 1774 samples\n",
            "Epoch 1/20\n",
            "15966/15966 [==============================] - 4s 239us/step - loss: 0.0727 - accuracy: 0.9832 - val_loss: 0.0269 - val_accuracy: 0.9938\n",
            "Epoch 2/20\n",
            "15966/15966 [==============================] - 4s 223us/step - loss: 0.0362 - accuracy: 0.9845 - val_loss: 0.0191 - val_accuracy: 0.9949\n",
            "Epoch 3/20\n",
            "15966/15966 [==============================] - 4s 222us/step - loss: 0.0305 - accuracy: 0.9866 - val_loss: 0.0266 - val_accuracy: 0.9932\n",
            "Epoch 4/20\n",
            "15966/15966 [==============================] - 4s 226us/step - loss: 0.0272 - accuracy: 0.9883 - val_loss: 0.0220 - val_accuracy: 0.9915\n",
            "Epoch 5/20\n",
            "15966/15966 [==============================] - 4s 225us/step - loss: 0.0253 - accuracy: 0.9894 - val_loss: 0.0188 - val_accuracy: 0.9955\n",
            "Epoch 6/20\n",
            "15966/15966 [==============================] - 4s 225us/step - loss: 0.0228 - accuracy: 0.9909 - val_loss: 0.0229 - val_accuracy: 0.9915\n",
            "Epoch 7/20\n",
            "15966/15966 [==============================] - 4s 223us/step - loss: 0.0204 - accuracy: 0.9915 - val_loss: 0.0169 - val_accuracy: 0.9932\n",
            "Epoch 8/20\n",
            "15966/15966 [==============================] - 4s 222us/step - loss: 0.0209 - accuracy: 0.9909 - val_loss: 0.0181 - val_accuracy: 0.9955\n",
            "Epoch 9/20\n",
            "15966/15966 [==============================] - 4s 226us/step - loss: 0.0173 - accuracy: 0.9929 - val_loss: 0.0166 - val_accuracy: 0.9949\n",
            "Epoch 10/20\n",
            "15966/15966 [==============================] - 4s 230us/step - loss: 0.0156 - accuracy: 0.9934 - val_loss: 0.0249 - val_accuracy: 0.9899\n",
            "Epoch 11/20\n",
            "15966/15966 [==============================] - 4s 226us/step - loss: 0.0134 - accuracy: 0.9946 - val_loss: 0.0186 - val_accuracy: 0.9927\n",
            "Epoch 12/20\n",
            "15966/15966 [==============================] - 4s 228us/step - loss: 0.0130 - accuracy: 0.9947 - val_loss: 0.0272 - val_accuracy: 0.9938\n",
            "Epoch 13/20\n",
            "15966/15966 [==============================] - 4s 231us/step - loss: 0.0112 - accuracy: 0.9951 - val_loss: 0.0228 - val_accuracy: 0.9932\n",
            "Epoch 14/20\n",
            "15966/15966 [==============================] - 4s 240us/step - loss: 0.0136 - accuracy: 0.9940 - val_loss: 0.0208 - val_accuracy: 0.9944\n",
            "Epoch 15/20\n",
            "15966/15966 [==============================] - 4s 248us/step - loss: 0.0109 - accuracy: 0.9963 - val_loss: 0.0221 - val_accuracy: 0.9949\n",
            "Epoch 16/20\n",
            "15966/15966 [==============================] - 4s 248us/step - loss: 0.0087 - accuracy: 0.9965 - val_loss: 0.0242 - val_accuracy: 0.9938\n",
            "Epoch 17/20\n",
            "15966/15966 [==============================] - 4s 236us/step - loss: 0.0093 - accuracy: 0.9963 - val_loss: 0.0354 - val_accuracy: 0.9904\n",
            "Epoch 18/20\n",
            "15966/15966 [==============================] - 4s 231us/step - loss: 0.0115 - accuracy: 0.9959 - val_loss: 0.0287 - val_accuracy: 0.9893\n",
            "Epoch 19/20\n",
            "15966/15966 [==============================] - 4s 231us/step - loss: 0.0072 - accuracy: 0.9976 - val_loss: 0.0413 - val_accuracy: 0.9949\n",
            "Epoch 20/20\n",
            "15966/15966 [==============================] - 4s 228us/step - loss: 0.0087 - accuracy: 0.9967 - val_loss: 0.0279 - val_accuracy: 0.9949\n"
          ],
          "name": "stdout"
        },
        {
          "output_type": "execute_result",
          "data": {
            "text/plain": [
              "<keras.callbacks.callbacks.History at 0x7f7a835c7c18>"
            ]
          },
          "metadata": {
            "tags": []
          },
          "execution_count": 17
        }
      ]
    },
    {
      "cell_type": "code",
      "metadata": {
        "id": "b5V6hRagS50A",
        "colab_type": "code",
        "outputId": "360584f5-520b-4322-a358-69b1861826c7",
        "colab": {
          "base_uri": "https://localhost:8080/",
          "height": 731
        }
      },
      "source": [
        "model_refg = Sequential()\n",
        "model_refg.add(Conv1D(filters=64, kernel_size=3, activation='relu', input_shape=(n_steps,n_features)))\n",
        "model_refg.add(Conv1D(filters=64, kernel_size=3, activation='relu'))\n",
        "model_refg.add(Conv1D(filters=64, kernel_size=3, activation='relu'))\n",
        "#model.add(Conv1D(filters=64, kernel_size=3, activation='relu'))\n",
        "#model.add(Conv1D(filters=64, kernel_size=3, activation='relu'))\n",
        "#model.add(Dropout(0.5))\n",
        "model_refg.add(MaxPooling1D(pool_size=2))\n",
        "model_refg.add(Flatten())\n",
        "model_refg.add(Dense(100, activation='relu'))\n",
        "model_refg.add(Dense(2, activation='softmax'))\n",
        "model_refg.compile(optimizer='adam', loss=\"categorical_crossentropy\", metrics=['accuracy'])\n",
        "\n",
        "\n",
        "model_refg.fit(X_refg, y_refg, epochs=20, validation_split=0.1, verbose=1)\n",
        "\n"
      ],
      "execution_count": 0,
      "outputs": [
        {
          "output_type": "stream",
          "text": [
            "Train on 15966 samples, validate on 1774 samples\n",
            "Epoch 1/20\n",
            "15966/15966 [==============================] - 4s 238us/step - loss: 0.3541 - accuracy: 0.8187 - val_loss: 0.1923 - val_accuracy: 0.9098\n",
            "Epoch 2/20\n",
            "15966/15966 [==============================] - 4s 224us/step - loss: 0.2496 - accuracy: 0.8797 - val_loss: 0.1948 - val_accuracy: 0.9183\n",
            "Epoch 3/20\n",
            "15966/15966 [==============================] - 4s 225us/step - loss: 0.2300 - accuracy: 0.8907 - val_loss: 0.1693 - val_accuracy: 0.9290\n",
            "Epoch 4/20\n",
            "15966/15966 [==============================] - 4s 234us/step - loss: 0.2197 - accuracy: 0.8949 - val_loss: 0.1785 - val_accuracy: 0.9053\n",
            "Epoch 5/20\n",
            "15966/15966 [==============================] - 4s 228us/step - loss: 0.2115 - accuracy: 0.9011 - val_loss: 0.1471 - val_accuracy: 0.9233\n",
            "Epoch 6/20\n",
            "15966/15966 [==============================] - 4s 224us/step - loss: 0.2043 - accuracy: 0.9054 - val_loss: 0.1543 - val_accuracy: 0.9391\n",
            "Epoch 7/20\n",
            "15966/15966 [==============================] - 4s 227us/step - loss: 0.1974 - accuracy: 0.9063 - val_loss: 0.1263 - val_accuracy: 0.9295\n",
            "Epoch 8/20\n",
            "15966/15966 [==============================] - 4s 228us/step - loss: 0.1907 - accuracy: 0.9089 - val_loss: 0.1392 - val_accuracy: 0.9414\n",
            "Epoch 9/20\n",
            "15966/15966 [==============================] - 4s 229us/step - loss: 0.1815 - accuracy: 0.9167 - val_loss: 0.1336 - val_accuracy: 0.9464\n",
            "Epoch 10/20\n",
            "15966/15966 [==============================] - 4s 229us/step - loss: 0.1796 - accuracy: 0.9179 - val_loss: 0.1205 - val_accuracy: 0.9521\n",
            "Epoch 11/20\n",
            "15966/15966 [==============================] - 4s 232us/step - loss: 0.1752 - accuracy: 0.9211 - val_loss: 0.1259 - val_accuracy: 0.9228\n",
            "Epoch 12/20\n",
            "15966/15966 [==============================] - 4s 230us/step - loss: 0.1619 - accuracy: 0.9272 - val_loss: 0.1318 - val_accuracy: 0.9442\n",
            "Epoch 13/20\n",
            "15966/15966 [==============================] - 4s 230us/step - loss: 0.1642 - accuracy: 0.9267 - val_loss: 0.1201 - val_accuracy: 0.9352\n",
            "Epoch 14/20\n",
            "15966/15966 [==============================] - 4s 229us/step - loss: 0.1580 - accuracy: 0.9293 - val_loss: 0.1273 - val_accuracy: 0.9419\n",
            "Epoch 15/20\n",
            "15966/15966 [==============================] - 4s 226us/step - loss: 0.1509 - accuracy: 0.9344 - val_loss: 0.1105 - val_accuracy: 0.9453\n",
            "Epoch 16/20\n",
            "15966/15966 [==============================] - 4s 233us/step - loss: 0.1448 - accuracy: 0.9391 - val_loss: 0.1071 - val_accuracy: 0.9481\n",
            "Epoch 17/20\n",
            "15966/15966 [==============================] - 4s 239us/step - loss: 0.1421 - accuracy: 0.9381 - val_loss: 0.1068 - val_accuracy: 0.9498\n",
            "Epoch 18/20\n",
            "15966/15966 [==============================] - 4s 227us/step - loss: 0.1387 - accuracy: 0.9388 - val_loss: 0.1409 - val_accuracy: 0.9301\n",
            "Epoch 19/20\n",
            "15966/15966 [==============================] - 4s 229us/step - loss: 0.1296 - accuracy: 0.9450 - val_loss: 0.1172 - val_accuracy: 0.9470\n",
            "Epoch 20/20\n",
            "15966/15966 [==============================] - 4s 227us/step - loss: 0.1240 - accuracy: 0.9459 - val_loss: 0.1268 - val_accuracy: 0.9543\n"
          ],
          "name": "stdout"
        },
        {
          "output_type": "execute_result",
          "data": {
            "text/plain": [
              "<keras.callbacks.callbacks.History at 0x7f7a83333c18>"
            ]
          },
          "metadata": {
            "tags": []
          },
          "execution_count": 18
        }
      ]
    },
    {
      "cell_type": "code",
      "metadata": {
        "id": "Zi4Gia6PTz5c",
        "colab_type": "code",
        "colab": {}
      },
      "source": [
        "n_steps_lstm = 5\n",
        "n_features_lstm = 1\n",
        "LSTM_X_refg = LSTM_X_refg.reshape((LSTM_X_refg.shape[0], LSTM_X_refg.shape[1], n_features_lstm))\n",
        "\n",
        "LSTM_X_micr = LSTM_X_micr.reshape((LSTM_X_micr.shape[0], LSTM_X_micr.shape[1], n_features_lstm))\n",
        "\n",
        "LSTM_X_dish1 = LSTM_X_dish1.reshape((LSTM_X_dish1.shape[0], LSTM_X_dish1.shape[1], n_features_lstm))\n",
        "\n",
        "LSTM_X_dish2 = LSTM_X_dish2.reshape((LSTM_X_dish2.shape[0], LSTM_X_dish2.shape[1], n_features_lstm))\n",
        "\n",
        "LSTM_X_dryr1 = LSTM_X_dryr1.reshape((LSTM_X_dryr1.shape[0], LSTM_X_dryr1.shape[1], n_features_lstm))\n",
        "\n",
        "LSTM_X_dryr2 = LSTM_X_dryr2.reshape((LSTM_X_dryr2.shape[0], LSTM_X_dryr2.shape[1], n_features_lstm))"
      ],
      "execution_count": 0,
      "outputs": []
    },
    {
      "cell_type": "code",
      "metadata": {
        "id": "R-Hyr5P_Jnqf",
        "colab_type": "code",
        "outputId": "aca4f695-2a06-4989-efcc-20b23021502e",
        "colab": {
          "base_uri": "https://localhost:8080/",
          "height": 1000
        }
      },
      "source": [
        "model_lstm_dryr1 = Sequential()\n",
        "model_lstm_dryr1.add(LSTM(50, activation='relu', return_sequences=True, input_shape=(n_steps_lstm, n_features_lstm)))\n",
        "model_lstm_dryr1.add(LSTM(50, activation='relu'))\n",
        "model_lstm_dryr1.add(Dense(1))\n",
        "model_lstm_dryr1.compile(optimizer='adam', loss='mse')\n",
        "\n",
        "model_lstm_dryr1.fit(LSTM_X_dryr1, LSTM_y_dryr1, epochs=30, verbose=1)"
      ],
      "execution_count": 0,
      "outputs": [
        {
          "output_type": "stream",
          "text": [
            "Epoch 1/30\n",
            "96/96 [==============================] - 1s 8ms/step - loss: 204818.8125\n",
            "Epoch 2/30\n",
            "96/96 [==============================] - 0s 372us/step - loss: 204755.4792\n",
            "Epoch 3/30\n",
            "96/96 [==============================] - 0s 338us/step - loss: 204675.3542\n",
            "Epoch 4/30\n",
            "96/96 [==============================] - 0s 328us/step - loss: 204578.2188\n",
            "Epoch 5/30\n",
            "96/96 [==============================] - 0s 415us/step - loss: 204433.9896\n",
            "Epoch 6/30\n",
            "96/96 [==============================] - 0s 291us/step - loss: 204189.0625\n",
            "Epoch 7/30\n",
            "96/96 [==============================] - 0s 322us/step - loss: 203843.9844\n",
            "Epoch 8/30\n",
            "96/96 [==============================] - 0s 292us/step - loss: 203184.3698\n",
            "Epoch 9/30\n",
            "96/96 [==============================] - 0s 315us/step - loss: 202028.0365\n",
            "Epoch 10/30\n",
            "96/96 [==============================] - 0s 322us/step - loss: 200018.2292\n",
            "Epoch 11/30\n",
            "96/96 [==============================] - 0s 311us/step - loss: 197067.8021\n",
            "Epoch 12/30\n",
            "96/96 [==============================] - 0s 294us/step - loss: 191537.0833\n",
            "Epoch 13/30\n",
            "96/96 [==============================] - 0s 288us/step - loss: 183712.4167\n",
            "Epoch 14/30\n",
            "96/96 [==============================] - 0s 304us/step - loss: 174850.0885\n",
            "Epoch 15/30\n",
            "96/96 [==============================] - 0s 291us/step - loss: 167629.5521\n",
            "Epoch 16/30\n",
            "96/96 [==============================] - 0s 317us/step - loss: 166660.5312\n",
            "Epoch 17/30\n",
            "96/96 [==============================] - 0s 344us/step - loss: 169293.5312\n",
            "Epoch 18/30\n",
            "96/96 [==============================] - 0s 379us/step - loss: 165749.7292\n",
            "Epoch 19/30\n",
            "96/96 [==============================] - 0s 414us/step - loss: 163176.3021\n",
            "Epoch 20/30\n",
            "96/96 [==============================] - 0s 367us/step - loss: 162579.8906\n",
            "Epoch 21/30\n",
            "96/96 [==============================] - 0s 284us/step - loss: 161943.9635\n",
            "Epoch 22/30\n",
            "96/96 [==============================] - 0s 324us/step - loss: 160455.5521\n",
            "Epoch 23/30\n",
            "96/96 [==============================] - 0s 320us/step - loss: 158428.3281\n",
            "Epoch 24/30\n",
            "96/96 [==============================] - 0s 313us/step - loss: 156070.7135\n",
            "Epoch 25/30\n",
            "96/96 [==============================] - 0s 387us/step - loss: 154564.9792\n",
            "Epoch 26/30\n",
            "96/96 [==============================] - 0s 388us/step - loss: 152326.8646\n",
            "Epoch 27/30\n",
            "96/96 [==============================] - 0s 370us/step - loss: 149491.3854\n",
            "Epoch 28/30\n",
            "96/96 [==============================] - 0s 344us/step - loss: 146158.3620\n",
            "Epoch 29/30\n",
            "96/96 [==============================] - 0s 338us/step - loss: 142933.6771\n",
            "Epoch 30/30\n",
            "96/96 [==============================] - 0s 339us/step - loss: 138678.9036\n"
          ],
          "name": "stdout"
        },
        {
          "output_type": "execute_result",
          "data": {
            "text/plain": [
              "<keras.callbacks.callbacks.History at 0x7f7a835c7a20>"
            ]
          },
          "metadata": {
            "tags": []
          },
          "execution_count": 20
        }
      ]
    },
    {
      "cell_type": "code",
      "metadata": {
        "id": "TwpU2rM_JnRc",
        "colab_type": "code",
        "outputId": "d90cc1be-3074-4b5b-c425-bd6a94764eaa",
        "colab": {
          "base_uri": "https://localhost:8080/",
          "height": 1000
        }
      },
      "source": [
        "model_lstm_dryr2 = Sequential()\n",
        "model_lstm_dryr2.add(LSTM(50, activation='relu', return_sequences=True, input_shape=(n_steps_lstm, n_features_lstm)))\n",
        "model_lstm_dryr2.add(LSTM(50, activation='relu'))\n",
        "model_lstm_dryr2.add(Dense(1))\n",
        "model_lstm_dryr2.compile(optimizer='adam', loss='mse')\n",
        "\n",
        "model_lstm_dryr2.fit(LSTM_X_dryr2, LSTM_y_dryr2, epochs=30, verbose=1)"
      ],
      "execution_count": 0,
      "outputs": [
        {
          "output_type": "stream",
          "text": [
            "Epoch 1/30\n",
            "204/204 [==============================] - 1s 4ms/step - loss: 7405369.2549\n",
            "Epoch 2/30\n",
            "204/204 [==============================] - 0s 318us/step - loss: 7404992.4412\n",
            "Epoch 3/30\n",
            "204/204 [==============================] - 0s 266us/step - loss: 7404436.6667\n",
            "Epoch 4/30\n",
            "204/204 [==============================] - 0s 286us/step - loss: 7403530.1078\n",
            "Epoch 5/30\n",
            "204/204 [==============================] - 0s 269us/step - loss: 7400974.0686\n",
            "Epoch 6/30\n",
            "204/204 [==============================] - 0s 271us/step - loss: 7394487.7941\n",
            "Epoch 7/30\n",
            "204/204 [==============================] - 0s 284us/step - loss: 7383078.2647\n",
            "Epoch 8/30\n",
            "204/204 [==============================] - 0s 276us/step - loss: 7347275.9608\n",
            "Epoch 9/30\n",
            "204/204 [==============================] - 0s 275us/step - loss: 7269164.9510\n",
            "Epoch 10/30\n",
            "204/204 [==============================] - 0s 291us/step - loss: 7130519.6961\n",
            "Epoch 11/30\n",
            "204/204 [==============================] - 0s 299us/step - loss: 6883483.5392\n",
            "Epoch 12/30\n",
            "204/204 [==============================] - 0s 310us/step - loss: 6501712.3235\n",
            "Epoch 13/30\n",
            "204/204 [==============================] - 0s 275us/step - loss: 6177472.2451\n",
            "Epoch 14/30\n",
            "204/204 [==============================] - 0s 275us/step - loss: 5788184.0294\n",
            "Epoch 15/30\n",
            "204/204 [==============================] - 0s 278us/step - loss: 5190497.6765\n",
            "Epoch 16/30\n",
            "204/204 [==============================] - 0s 281us/step - loss: 4393656.9804\n",
            "Epoch 17/30\n",
            "204/204 [==============================] - 0s 273us/step - loss: 3316285.2108\n",
            "Epoch 18/30\n",
            "204/204 [==============================] - 0s 275us/step - loss: 2140911.3051\n",
            "Epoch 19/30\n",
            "204/204 [==============================] - 0s 300us/step - loss: 1092967.4326\n",
            "Epoch 20/30\n",
            "204/204 [==============================] - 0s 294us/step - loss: 480906.0234\n",
            "Epoch 21/30\n",
            "204/204 [==============================] - 0s 284us/step - loss: 192271.2796\n",
            "Epoch 22/30\n",
            "204/204 [==============================] - 0s 293us/step - loss: 102834.1795\n",
            "Epoch 23/30\n",
            "204/204 [==============================] - 0s 284us/step - loss: 91526.5934\n",
            "Epoch 24/30\n",
            "204/204 [==============================] - 0s 278us/step - loss: 89556.5340\n",
            "Epoch 25/30\n",
            "204/204 [==============================] - 0s 287us/step - loss: 88449.5866\n",
            "Epoch 26/30\n",
            "204/204 [==============================] - 0s 267us/step - loss: 87468.1672\n",
            "Epoch 27/30\n",
            "204/204 [==============================] - 0s 271us/step - loss: 85894.9828\n",
            "Epoch 28/30\n",
            "204/204 [==============================] - 0s 275us/step - loss: 84641.1000\n",
            "Epoch 29/30\n",
            "204/204 [==============================] - 0s 307us/step - loss: 82448.9425\n",
            "Epoch 30/30\n",
            "204/204 [==============================] - 0s 273us/step - loss: 83013.2331\n"
          ],
          "name": "stdout"
        },
        {
          "output_type": "execute_result",
          "data": {
            "text/plain": [
              "<keras.callbacks.callbacks.History at 0x7f7a80bb0ac8>"
            ]
          },
          "metadata": {
            "tags": []
          },
          "execution_count": 21
        }
      ]
    },
    {
      "cell_type": "code",
      "metadata": {
        "id": "7rQorMoPbX81",
        "colab_type": "code",
        "outputId": "52066a51-eba6-4693-f0a9-8d9891b29bc6",
        "colab": {
          "base_uri": "https://localhost:8080/"
        }
      },
      "source": [
        "model_lstm_dish1 = Sequential()\n",
        "model_lstm_dish1.add(LSTM(50, activation='relu', return_sequences=True, input_shape=(n_steps_lstm, n_features_lstm)))\n",
        "model_lstm_dish1.add(LSTM(50, activation='relu'))\n",
        "model_lstm_dish1.add(Dense(1))\n",
        "model_lstm_dish1.compile(optimizer='adam', loss='mse')\n",
        "\n",
        "model_lstm_dish1.fit(LSTM_X_dish1, LSTM_y_dish1, epochs=30, verbose=1)"
      ],
      "execution_count": 0,
      "outputs": [
        {
          "output_type": "stream",
          "text": [
            "Epoch 1/30\n",
            "357/357 [==============================] - 1s 2ms/step - loss: 72100.3071\n",
            "Epoch 2/30\n",
            "357/357 [==============================] - 0s 263us/step - loss: 71598.3940\n",
            "Epoch 3/30\n",
            "357/357 [==============================] - 0s 273us/step - loss: 68525.3773\n",
            "Epoch 4/30\n",
            "357/357 [==============================] - 0s 277us/step - loss: 61360.5656\n",
            "Epoch 5/30\n",
            "357/357 [==============================] - 0s 307us/step - loss: 57907.1514\n",
            "Epoch 6/30\n",
            "357/357 [==============================] - 0s 270us/step - loss: 54731.2833\n",
            "Epoch 7/30\n",
            "357/357 [==============================] - 0s 271us/step - loss: 49438.3279\n",
            "Epoch 8/30\n",
            "357/357 [==============================] - 0s 271us/step - loss: 41781.4361\n",
            "Epoch 9/30\n",
            "357/357 [==============================] - 0s 309us/step - loss: 29740.2386\n",
            "Epoch 10/30\n",
            "357/357 [==============================] - 0s 300us/step - loss: 16766.7909\n",
            "Epoch 11/30\n",
            "357/357 [==============================] - 0s 276us/step - loss: 9501.6292\n",
            "Epoch 12/30\n",
            "357/357 [==============================] - 0s 272us/step - loss: 9446.5315\n",
            "Epoch 13/30\n",
            "357/357 [==============================] - 0s 271us/step - loss: 9084.8996\n",
            "Epoch 14/30\n",
            "357/357 [==============================] - 0s 287us/step - loss: 9072.2273\n",
            "Epoch 15/30\n",
            "357/357 [==============================] - 0s 302us/step - loss: 9079.9299\n",
            "Epoch 16/30\n",
            "357/357 [==============================] - 0s 279us/step - loss: 9025.6748\n",
            "Epoch 17/30\n",
            "357/357 [==============================] - 0s 276us/step - loss: 9108.1156\n",
            "Epoch 18/30\n",
            "357/357 [==============================] - 0s 281us/step - loss: 9116.2141\n",
            "Epoch 19/30\n",
            "357/357 [==============================] - 0s 279us/step - loss: 9051.3957\n",
            "Epoch 20/30\n",
            "357/357 [==============================] - 0s 302us/step - loss: 8990.8429\n",
            "Epoch 21/30\n",
            "357/357 [==============================] - 0s 299us/step - loss: 8990.3450\n",
            "Epoch 22/30\n",
            "357/357 [==============================] - 0s 285us/step - loss: 9008.8055\n",
            "Epoch 23/30\n",
            "357/357 [==============================] - 0s 282us/step - loss: 9053.7999\n",
            "Epoch 24/30\n",
            "357/357 [==============================] - 0s 271us/step - loss: 8990.4383\n",
            "Epoch 25/30\n",
            "357/357 [==============================] - 0s 285us/step - loss: 9014.9468\n",
            "Epoch 26/30\n",
            "357/357 [==============================] - 0s 273us/step - loss: 9092.8713\n",
            "Epoch 27/30\n",
            "357/357 [==============================] - 0s 274us/step - loss: 9116.4443\n",
            "Epoch 28/30\n",
            "357/357 [==============================] - 0s 285us/step - loss: 9327.7898\n",
            "Epoch 29/30\n",
            "357/357 [==============================] - 0s 281us/step - loss: 9124.0462\n",
            "Epoch 30/30\n",
            "357/357 [==============================] - 0s 275us/step - loss: 9021.7478\n"
          ],
          "name": "stdout"
        },
        {
          "output_type": "execute_result",
          "data": {
            "text/plain": [
              "<keras.callbacks.callbacks.History at 0x7f7a807a4a20>"
            ]
          },
          "metadata": {
            "tags": []
          },
          "execution_count": 22
        }
      ]
    },
    {
      "cell_type": "code",
      "metadata": {
        "id": "GeljPfz1bXaN",
        "colab_type": "code",
        "outputId": "878819f2-db64-4f64-9fc3-ae128c90ede1",
        "colab": {
          "base_uri": "https://localhost:8080/",
          "height": 1000
        }
      },
      "source": [
        "model_lstm_dish2 = Sequential()\n",
        "model_lstm_dish2.add(LSTM(50, activation='relu', return_sequences=True, input_shape=(n_steps_lstm, n_features_lstm)))\n",
        "model_lstm_dish2.add(LSTM(50, activation='relu'))\n",
        "model_lstm_dish2.add(Dense(1))\n",
        "model_lstm_dish2.compile(optimizer='adam', loss='mse')\n",
        "\n",
        "model_lstm_dish2.fit(LSTM_X_dish2, LSTM_y_dish2, epochs=30, verbose=1)"
      ],
      "execution_count": 0,
      "outputs": [
        {
          "output_type": "stream",
          "text": [
            "Epoch 1/30\n",
            "317/317 [==============================] - 1s 3ms/step - loss: 1216014.7216\n",
            "Epoch 2/30\n",
            "317/317 [==============================] - 0s 260us/step - loss: 1205884.0382\n",
            "Epoch 3/30\n",
            "317/317 [==============================] - 0s 253us/step - loss: 1157873.8821\n",
            "Epoch 4/30\n",
            "317/317 [==============================] - 0s 263us/step - loss: 969738.1617\n",
            "Epoch 5/30\n",
            "317/317 [==============================] - 0s 247us/step - loss: 739974.9718\n",
            "Epoch 6/30\n",
            "317/317 [==============================] - 0s 278us/step - loss: 686420.2739\n",
            "Epoch 7/30\n",
            "317/317 [==============================] - 0s 323us/step - loss: 654205.3829\n",
            "Epoch 8/30\n",
            "317/317 [==============================] - 0s 263us/step - loss: 613891.0769\n",
            "Epoch 9/30\n",
            "317/317 [==============================] - 0s 258us/step - loss: 568121.9136\n",
            "Epoch 10/30\n",
            "317/317 [==============================] - 0s 273us/step - loss: 501329.1482\n",
            "Epoch 11/30\n",
            "317/317 [==============================] - 0s 264us/step - loss: 419213.5590\n",
            "Epoch 12/30\n",
            "317/317 [==============================] - 0s 272us/step - loss: 328361.9663\n",
            "Epoch 13/30\n",
            "317/317 [==============================] - 0s 275us/step - loss: 228486.0669\n",
            "Epoch 14/30\n",
            "317/317 [==============================] - 0s 304us/step - loss: 114536.8828\n",
            "Epoch 15/30\n",
            "317/317 [==============================] - 0s 279us/step - loss: 27302.7683\n",
            "Epoch 16/30\n",
            "317/317 [==============================] - 0s 268us/step - loss: 5217.0182\n",
            "Epoch 17/30\n",
            "317/317 [==============================] - 0s 259us/step - loss: 5106.3673\n",
            "Epoch 18/30\n",
            "317/317 [==============================] - 0s 283us/step - loss: 4144.6886\n",
            "Epoch 19/30\n",
            "317/317 [==============================] - 0s 260us/step - loss: 3747.4432\n",
            "Epoch 20/30\n",
            "317/317 [==============================] - 0s 270us/step - loss: 3418.8988\n",
            "Epoch 21/30\n",
            "317/317 [==============================] - 0s 283us/step - loss: 3069.9216\n",
            "Epoch 22/30\n",
            "317/317 [==============================] - 0s 272us/step - loss: 2994.0598\n",
            "Epoch 23/30\n",
            "317/317 [==============================] - 0s 270us/step - loss: 2860.6738\n",
            "Epoch 24/30\n",
            "317/317 [==============================] - 0s 265us/step - loss: 2959.4359\n",
            "Epoch 25/30\n",
            "317/317 [==============================] - 0s 273us/step - loss: 2701.3543\n",
            "Epoch 26/30\n",
            "317/317 [==============================] - 0s 271us/step - loss: 2688.1266\n",
            "Epoch 27/30\n",
            "317/317 [==============================] - 0s 277us/step - loss: 2582.6727\n",
            "Epoch 28/30\n",
            "317/317 [==============================] - 0s 302us/step - loss: 2534.8901\n",
            "Epoch 29/30\n",
            "317/317 [==============================] - 0s 308us/step - loss: 2509.9700\n",
            "Epoch 30/30\n",
            "317/317 [==============================] - 0s 266us/step - loss: 2559.7696\n"
          ],
          "name": "stdout"
        },
        {
          "output_type": "execute_result",
          "data": {
            "text/plain": [
              "<keras.callbacks.callbacks.History at 0x7f7a8031aa20>"
            ]
          },
          "metadata": {
            "tags": []
          },
          "execution_count": 23
        }
      ]
    },
    {
      "cell_type": "code",
      "metadata": {
        "id": "cx2Y8_FbPc0W",
        "colab_type": "code",
        "outputId": "6e6b8ddb-3efd-4aa9-ca9d-6842aab666c6",
        "colab": {
          "base_uri": "https://localhost:8080/",
          "height": 1000
        }
      },
      "source": [
        "model_lstm_micr = Sequential()\n",
        "model_lstm_micr.add(LSTM(50, activation='relu', return_sequences=True, input_shape=(n_steps_lstm, n_features_lstm)))\n",
        "model_lstm_micr.add(LSTM(50, activation='relu'))\n",
        "model_lstm_micr.add(Dense(1))\n",
        "model_lstm_micr.compile(optimizer='adam', loss='mse')\n",
        "\n",
        "model_lstm_micr.fit(LSTM_X_micr, LSTM_y_micr, epochs=30, verbose=1)"
      ],
      "execution_count": 0,
      "outputs": [
        {
          "output_type": "stream",
          "text": [
            "Epoch 1/30\n",
            "275/275 [==============================] - 1s 3ms/step - loss: 1671976.3214\n",
            "Epoch 2/30\n",
            "275/275 [==============================] - 0s 269us/step - loss: 1665359.8214\n",
            "Epoch 3/30\n",
            "275/275 [==============================] - 0s 272us/step - loss: 1636261.3195\n",
            "Epoch 4/30\n",
            "275/275 [==============================] - 0s 277us/step - loss: 1554196.5064\n",
            "Epoch 5/30\n",
            "275/275 [==============================] - 0s 268us/step - loss: 1437534.7305\n",
            "Epoch 6/30\n",
            "275/275 [==============================] - 0s 276us/step - loss: 1434319.3736\n",
            "Epoch 7/30\n",
            "275/275 [==============================] - 0s 273us/step - loss: 1404671.1414\n",
            "Epoch 8/30\n",
            "275/275 [==============================] - 0s 280us/step - loss: 1387282.9855\n",
            "Epoch 9/30\n",
            "275/275 [==============================] - 0s 277us/step - loss: 1360165.9818\n",
            "Epoch 10/30\n",
            "275/275 [==============================] - 0s 271us/step - loss: 1313121.6832\n",
            "Epoch 11/30\n",
            "275/275 [==============================] - 0s 293us/step - loss: 1220896.0455\n",
            "Epoch 12/30\n",
            "275/275 [==============================] - 0s 266us/step - loss: 1070638.2845\n",
            "Epoch 13/30\n",
            "275/275 [==============================] - 0s 268us/step - loss: 792010.5898\n",
            "Epoch 14/30\n",
            "275/275 [==============================] - 0s 287us/step - loss: 335428.8162\n",
            "Epoch 15/30\n",
            "275/275 [==============================] - 0s 299us/step - loss: 107097.6547\n",
            "Epoch 16/30\n",
            "275/275 [==============================] - 0s 286us/step - loss: 107312.4243\n",
            "Epoch 17/30\n",
            "275/275 [==============================] - 0s 277us/step - loss: 92257.4175\n",
            "Epoch 18/30\n",
            "275/275 [==============================] - 0s 275us/step - loss: 87429.4997\n",
            "Epoch 19/30\n",
            "275/275 [==============================] - 0s 283us/step - loss: 86699.6737\n",
            "Epoch 20/30\n",
            "275/275 [==============================] - 0s 279us/step - loss: 86783.5782\n",
            "Epoch 21/30\n",
            "275/275 [==============================] - 0s 276us/step - loss: 88225.4686\n",
            "Epoch 22/30\n",
            "275/275 [==============================] - 0s 288us/step - loss: 88148.8843\n",
            "Epoch 23/30\n",
            "275/275 [==============================] - 0s 270us/step - loss: 87998.0239\n",
            "Epoch 24/30\n",
            "275/275 [==============================] - 0s 307us/step - loss: 86424.9415\n",
            "Epoch 25/30\n",
            "275/275 [==============================] - 0s 278us/step - loss: 86043.9675\n",
            "Epoch 26/30\n",
            "275/275 [==============================] - 0s 269us/step - loss: 85441.9938\n",
            "Epoch 27/30\n",
            "275/275 [==============================] - 0s 269us/step - loss: 84928.9025\n",
            "Epoch 28/30\n",
            "275/275 [==============================] - 0s 291us/step - loss: 85197.3447\n",
            "Epoch 29/30\n",
            "275/275 [==============================] - 0s 274us/step - loss: 85718.1183\n",
            "Epoch 30/30\n",
            "275/275 [==============================] - 0s 275us/step - loss: 85406.5735\n"
          ],
          "name": "stdout"
        },
        {
          "output_type": "execute_result",
          "data": {
            "text/plain": [
              "<keras.callbacks.callbacks.History at 0x7f7a7fe8f860>"
            ]
          },
          "metadata": {
            "tags": []
          },
          "execution_count": 24
        }
      ]
    },
    {
      "cell_type": "code",
      "metadata": {
        "id": "lmJiiCqPbu6u",
        "colab_type": "code",
        "outputId": "e3af80c2-65b1-4826-9450-b603e355835b",
        "colab": {
          "base_uri": "https://localhost:8080/",
          "height": 1000
        }
      },
      "source": [
        "model_lstm_refg = Sequential()\n",
        "model_lstm_refg.add(LSTM(50, activation='relu', return_sequences=True, input_shape=(n_steps_lstm, n_features_lstm)))\n",
        "model_lstm_refg.add(LSTM(50, activation='relu'))\n",
        "model_lstm_refg.add(Dense(1))\n",
        "model_lstm_refg.compile(optimizer='adam', loss='mse')\n",
        "\n",
        "\n",
        "\n",
        "model_lstm_refg.fit(LSTM_X_refg, LSTM_y_refg, epochs=30, verbose=1)\n",
        "\n"
      ],
      "execution_count": 0,
      "outputs": [
        {
          "output_type": "stream",
          "text": [
            "Epoch 1/30\n",
            "4485/4485 [==============================] - 2s 412us/step - loss: 18392.6610\n",
            "Epoch 2/30\n",
            "4485/4485 [==============================] - 1s 258us/step - loss: 1481.1148\n",
            "Epoch 3/30\n",
            "4485/4485 [==============================] - 1s 251us/step - loss: 1470.6490\n",
            "Epoch 4/30\n",
            "4485/4485 [==============================] - 1s 252us/step - loss: 1445.3573\n",
            "Epoch 5/30\n",
            "4485/4485 [==============================] - 1s 255us/step - loss: 1473.7368\n",
            "Epoch 6/30\n",
            "4485/4485 [==============================] - 1s 254us/step - loss: 1466.6573\n",
            "Epoch 7/30\n",
            "4485/4485 [==============================] - 1s 252us/step - loss: 1461.5015\n",
            "Epoch 8/30\n",
            "4485/4485 [==============================] - 1s 259us/step - loss: 1454.8220\n",
            "Epoch 9/30\n",
            "4485/4485 [==============================] - 1s 253us/step - loss: 1462.7133\n",
            "Epoch 10/30\n",
            "4485/4485 [==============================] - 1s 254us/step - loss: 1452.6286\n",
            "Epoch 11/30\n",
            "4485/4485 [==============================] - 1s 254us/step - loss: 1451.7634\n",
            "Epoch 12/30\n",
            "4485/4485 [==============================] - 1s 255us/step - loss: 1461.2017\n",
            "Epoch 13/30\n",
            "4485/4485 [==============================] - 1s 252us/step - loss: 1490.0582\n",
            "Epoch 14/30\n",
            "4485/4485 [==============================] - 1s 253us/step - loss: 1439.5989\n",
            "Epoch 15/30\n",
            "4485/4485 [==============================] - 1s 259us/step - loss: 1450.7262\n",
            "Epoch 16/30\n",
            "4485/4485 [==============================] - 1s 255us/step - loss: 1458.5060\n",
            "Epoch 17/30\n",
            "4485/4485 [==============================] - 1s 256us/step - loss: 1459.7638\n",
            "Epoch 18/30\n",
            "4485/4485 [==============================] - 1s 252us/step - loss: 1465.2744\n",
            "Epoch 19/30\n",
            "4485/4485 [==============================] - 1s 252us/step - loss: 1468.7366\n",
            "Epoch 20/30\n",
            "4485/4485 [==============================] - 1s 265us/step - loss: 1480.1497\n",
            "Epoch 21/30\n",
            "4485/4485 [==============================] - 1s 263us/step - loss: 1440.4222\n",
            "Epoch 22/30\n",
            "4485/4485 [==============================] - 1s 255us/step - loss: 1480.0756\n",
            "Epoch 23/30\n",
            "4485/4485 [==============================] - 1s 254us/step - loss: 1457.0546\n",
            "Epoch 24/30\n",
            "4485/4485 [==============================] - 1s 253us/step - loss: 1454.4946\n",
            "Epoch 25/30\n",
            "4485/4485 [==============================] - 1s 253us/step - loss: 1466.2491\n",
            "Epoch 26/30\n",
            "4485/4485 [==============================] - 1s 258us/step - loss: 1443.0580\n",
            "Epoch 27/30\n",
            "4485/4485 [==============================] - 1s 254us/step - loss: 1443.6116\n",
            "Epoch 28/30\n",
            "4485/4485 [==============================] - 1s 255us/step - loss: 1447.6192\n",
            "Epoch 29/30\n",
            "4485/4485 [==============================] - 1s 253us/step - loss: 1439.6096\n",
            "Epoch 30/30\n",
            "4485/4485 [==============================] - 1s 259us/step - loss: 1464.7349\n"
          ],
          "name": "stdout"
        },
        {
          "output_type": "execute_result",
          "data": {
            "text/plain": [
              "<keras.callbacks.callbacks.History at 0x7f7a7fa08a58>"
            ]
          },
          "metadata": {
            "tags": []
          },
          "execution_count": 25
        }
      ]
    },
    {
      "cell_type": "code",
      "metadata": {
        "id": "u4GWzmyhthE4",
        "colab_type": "code",
        "colab": {}
      },
      "source": [
        "def CNN_pre_processing_test (dataset, appliance, starting, ending, value1, value2):\n",
        "  for i in range(starting, ending):\n",
        "    if value1 == 0:\n",
        "      if dataset[appliance][i] > value2:\n",
        "        dataset[\"Lite\"][i] = 1\n",
        "      else:\n",
        "        dataset[\"Lite\"][i] = 0\n",
        "\n",
        "    else:\n",
        "      if dataset[appliance][i] > value1:\n",
        "        if dataset[appliance][i] < value2:\n",
        "          dataset[\"Lite\"][i] = 1\n",
        "        else:\n",
        "          dataset[\"Lite\"][i] = 0\n",
        "      else:\n",
        "        dataset[\"Lite\"][i] = 0\n",
        "\n",
        "  x = dataset.values #returns a numpy array\n",
        "  min_max_scaler = preprocessing.MinMaxScaler()\n",
        "  x_scaled = min_max_scaler.fit_transform(x)\n",
        "  dataset1 = pd.DataFrame(x_scaled)\n",
        "\n",
        "\n",
        "  lite = (dataset.index[starting+1] - dataset.index[starting])\n",
        "  lite = str(lite)\n",
        "  main_array = []\n",
        "  check = lite\n",
        "\n",
        "  temp = []\n",
        "  for i in range(starting+1,ending):\n",
        "      difference = dataset.index[i] - dataset.index[i-1]\n",
        "      string = str(difference)\n",
        "      if string == check:\n",
        "          temp1 = []\n",
        "          temp2 = []\n",
        "          temp1.append(dataset1[0][i])\n",
        "          temp1.append(dataset[\"Lite\"][i])\n",
        "          temp.append(temp1)\n",
        "      else:\n",
        "          main_array.append(temp)\n",
        "          temp = []\n",
        "\n",
        "\n",
        "\n",
        "  final_array = []\n",
        "  for i in range(0,len(main_array)):\n",
        "      length = len(main_array[i])\n",
        "      modu = length%20\n",
        "      if modu < 10:\n",
        "          temp = []\n",
        "          for j in range(0,len(main_array[i])-modu):\n",
        "              temp.append(main_array[i][j])\n",
        "          final_array.append(temp)\n",
        "      else:\n",
        "          temp = main_array[i]\n",
        "          for j in range(0,20 - modu):\n",
        "              array = [0,0]\n",
        "              temp.append(array)\n",
        "          final_array.append(temp)\n",
        "\n",
        "\n",
        "\n",
        "  test_array = []\n",
        "  for i in range(0,len(final_array)):\n",
        "      temp = []\n",
        "      for j in range(0,10):\n",
        "          temp.append([0,0])\n",
        "      for j in range(0,len(final_array[i])):\n",
        "          temp.append(final_array[i][j])\n",
        "      for j in range(0,10):\n",
        "          temp.append([0,0])\n",
        "      test_array.append(temp)\n",
        "\n",
        "\n",
        "\n",
        "  training_set = []\n",
        "  for i in range(0,len(test_array)):\n",
        "      for j in range(0,len(test_array[i])-20):\n",
        "          x_y = []\n",
        "          temp = []\n",
        "          for k in range(j,j+20):\n",
        "              temp.append(test_array[i][k][0])\n",
        "          x_y.append(temp)\n",
        "          x_y.append(test_array[i][j+10][1])\n",
        "          training_set.append(x_y)\n",
        "\n",
        "\n",
        "  X = []\n",
        "  y = []\n",
        "  for i in range(0,len(training_set)):\n",
        "    lets = training_set[i][0]\n",
        "    lets = np.asarray(lets)\n",
        "    X.append(lets)\n",
        "    y.append(training_set[i][1])\n",
        "\n",
        "\n",
        "  X = np.asarray(X)\n",
        "  y = np.asarray(y)\n",
        "  y_f1 = y\n",
        "  from keras.utils import to_categorical\n",
        "  y = to_categorical(y)\n",
        "\n",
        "\n",
        "\n",
        "  return X,y, y_f1;"
      ],
      "execution_count": 0,
      "outputs": []
    },
    {
      "cell_type": "code",
      "metadata": {
        "id": "-kHXmrX9wSBJ",
        "colab_type": "code",
        "colab": {}
      },
      "source": [
        "def CNN_pre_processing_finaly (dataset, appliance, starting, ending, value1, value2):\n",
        "  for i in range(starting, ending):\n",
        "    if value1 == 0:\n",
        "      if dataset[appliance][i] > value2:\n",
        "        dataset[\"Lite\"][i] = 1\n",
        "      else:\n",
        "        dataset[\"Lite\"][i] = 0\n",
        "\n",
        "    else:\n",
        "      if dataset[appliance][i] > value1:\n",
        "        if dataset[appliance][i] < value2:\n",
        "          dataset[\"Lite\"][i] = 1\n",
        "        else:\n",
        "          dataset[\"Lite\"][i] = 0\n",
        "      else:\n",
        "        dataset[\"Lite\"][i] = 0\n",
        "\n",
        "  lite = (dataset.index[starting+1] - dataset.index[starting])\n",
        "  lite = str(lite)\n",
        "  main_array = []\n",
        "  check = lite\n",
        "\n",
        "  temp = []\n",
        "  for i in range(starting+1,ending):\n",
        "      difference = dataset.index[i] - dataset.index[i-1]\n",
        "      string = str(difference)\n",
        "      if string == check:\n",
        "          temp1 = []\n",
        "          temp2 = []\n",
        "          temp1.append(dataset[appliance][i])\n",
        "          temp1.append(dataset[\"Lite\"][i])\n",
        "          temp.append(temp1)\n",
        "      else:\n",
        "          main_array.append(temp)\n",
        "          temp = []\n",
        "\n",
        "\n",
        "\n",
        "  final_array = []\n",
        "  for i in range(0,len(main_array)):\n",
        "      length = len(main_array[i])\n",
        "      modu = length%20\n",
        "      if modu < 10:\n",
        "          temp = []\n",
        "          for j in range(0,len(main_array[i])-modu):\n",
        "              temp.append(main_array[i][j])\n",
        "          final_array.append(temp)\n",
        "      else:\n",
        "          temp = main_array[i]\n",
        "          for j in range(0,20 - modu):\n",
        "              array = [0,0]\n",
        "              temp.append(array)\n",
        "          final_array.append(temp)\n",
        "\n",
        "\n",
        "  final_y = []\n",
        "  for i in range(0,len(final_array)):\n",
        "    for j in range(0,len(final_array[i])):\n",
        "      final_y.append(final_array[i][j][0])\n",
        "  len(final_y)\n",
        "\n",
        "  return final_y;"
      ],
      "execution_count": 0,
      "outputs": []
    },
    {
      "cell_type": "code",
      "metadata": {
        "id": "D_bQgAPpVRIV",
        "colab_type": "code",
        "colab": {}
      },
      "source": [
        "X_test_refg, y_test_refg, y_f1_refg = CNN_pre_processing_test(dataset, \"Refg\", (len(dataset.index)-8000), len(dataset.index), 0, 100)\n",
        "\n",
        "X_test_micr, y_test_micr, y_f1_micr = CNN_pre_processing_test(dataset, \"Micr\", (len(dataset.index)-8000), len(dataset.index), 0, 600)\n",
        "\n",
        "X_test_dish1, y_test_dish1, y_f1_dish1 = CNN_pre_processing_test(dataset, \"Dish\", (len(dataset.index)-8000), len(dataset.index), 100, 500)\n",
        "\n",
        "X_test_dish2, y_test_dish2, y_f1_dish2 = CNN_pre_processing_test(dataset, \"Dish\", (len(dataset.index)-8000), len(dataset.index), 0, 850)\n",
        "\n",
        "X_test_dryr1, y_test_dryr1, y_f1_dryr1 = CNN_pre_processing_test(dataset, \"Dryr\", (len(dataset.index)-8000), len(dataset.index), 250, 700)\n",
        "\n",
        "X_test_dryr2, y_test_dryr2, y_f1_dryr2 = CNN_pre_processing_test(dataset, \"Dryr\", (len(dataset.index)-8000), len(dataset.index), 0, 2000)\n"
      ],
      "execution_count": 0,
      "outputs": []
    },
    {
      "cell_type": "code",
      "metadata": {
        "id": "-5Gb6br5xD_M",
        "colab_type": "code",
        "colab": {}
      },
      "source": [
        "final_y = CNN_pre_processing_finaly(dataset, \"Refg\",  (len(dataset.index)-8000), len(dataset.index), 0, 100)\n",
        "\n",
        "final_y_micr = CNN_pre_processing_finaly(dataset, \"Micr\", (len(dataset.index)-8000), len(dataset.index), 0, 600)\n",
        "\n",
        "final_y_dish1 = CNN_pre_processing_finaly(dataset, \"Dish\", (len(dataset.index)-8000), len(dataset.index), 100, 500)\n",
        "\n",
        "final_y_dish2 = CNN_pre_processing_finaly(dataset, \"Dish\", (len(dataset.index)-8000), len(dataset.index), 0, 850)\n",
        "\n",
        "final_y_dryr1 = CNN_pre_processing_finaly(dataset, \"Dryr\", (len(dataset.index)-8000), len(dataset.index), 250, 700)\n",
        "\n",
        "final_y_dryr2 = CNN_pre_processing_finaly(dataset, \"Dryr\", (len(dataset.index)-8000), len(dataset.index), 0, 2000)"
      ],
      "execution_count": 0,
      "outputs": []
    },
    {
      "cell_type": "code",
      "metadata": {
        "id": "DnjH1OQ6tz60",
        "colab_type": "code",
        "outputId": "5cb115ec-6d8d-410d-d047-885073efbf19",
        "colab": {
          "base_uri": "https://localhost:8080/",
          "height": 119
        }
      },
      "source": [
        "print(len(X_test_refg), len(y_test_refg), len(final_y))\n",
        "print(len(X_test_micr), len(y_test_micr), len(final_y_micr))\n",
        "print(len(X_test_dish1), len(y_test_dish1), len(final_y_dish1))\n",
        "print(len(X_test_dish2), len(y_test_dish2), len(final_y_dish2))\n",
        "print(len(X_test_dryr1), len(y_test_dryr1), len(final_y_dryr1))\n",
        "print(len(X_test_dryr2), len(y_test_dryr2), len(final_y_dryr2))"
      ],
      "execution_count": 0,
      "outputs": [
        {
          "output_type": "stream",
          "text": [
            "7980 7980 7980\n",
            "7980 7980 7980\n",
            "7980 7980 7980\n",
            "7980 7980 7980\n",
            "7980 7980 7980\n",
            "7980 7980 7980\n"
          ],
          "name": "stdout"
        }
      ]
    },
    {
      "cell_type": "code",
      "metadata": {
        "id": "RXHfSTuiR0b2",
        "colab_type": "code",
        "colab": {}
      },
      "source": [
        "from sklearn.metrics import classification_report\n",
        "\n",
        "#y_pred = model_refg.predict(X_test_refg, batch_size=64, verbose=1)\n",
        "#y_pred_bool = np.argmax(y_pred, axis=1)\n",
        "\n",
        "#print(classification_report(y_test_refg, y_pred_bool))"
      ],
      "execution_count": 0,
      "outputs": []
    },
    {
      "cell_type": "code",
      "metadata": {
        "id": "bGhwXpWusHUt",
        "colab_type": "code",
        "colab": {}
      },
      "source": [
        "def testset_lstm (lite, deadload):\n",
        "  qwerty = []\n",
        "  flag = 0\n",
        "  for i in range(0,len(lite)):\n",
        "    if lite[i] == 0:\n",
        "      qwerty.append([deadload])\n",
        "      flag = 0\n",
        "      temp = [0,0,0,0,0]\n",
        "    else:\n",
        "      flag+=1\n",
        "      temp2 = []\n",
        "      qwerty.append(temp)\n",
        "      temp.append(flag)\n",
        "      for j in range(len(temp)-5,len(temp)):\n",
        "        temp2.append(temp[j])\n",
        "      temp = temp2\n",
        "  \n",
        "  for i in range(0,len(qwerty)):\n",
        "    if len(qwerty) > 2:\n",
        "      good = []\n",
        "      for j in range(0,len(qwerty[i])-1):\n",
        "        good.append(qwerty[i][j])\n",
        "      qwerty[i] = good\n",
        "    else:\n",
        "      qwerty[i] = qwerty[i].append(deadload)\n",
        "\n",
        "\n",
        "  final = []\n",
        "  for i in range(0,len(qwerty)):\n",
        "    if len(qwerty[i]) > 2:\n",
        "      good = []\n",
        "      for j in range(0,len(qwerty[i])):\n",
        "        good.append(qwerty[i][j])\n",
        "      final.append(good)\n",
        "    else:\n",
        "      temp = []\n",
        "      temp.append(deadload)\n",
        "      final.append(temp)\n",
        "\n",
        "  return final;\n"
      ],
      "execution_count": 0,
      "outputs": []
    },
    {
      "cell_type": "code",
      "metadata": {
        "id": "0fYx_C4NTzu8",
        "colab_type": "code",
        "colab": {}
      },
      "source": [
        "lite_refg = []\n",
        "for i in range(0,len(X_test_refg)):\n",
        "  x_input = X_test_refg[i].reshape(1,20,1)\n",
        "  yhat = model_refg.predict_classes(x_input,verbose=0)\n",
        "  lite_refg.append(yhat[0])"
      ],
      "execution_count": 0,
      "outputs": []
    },
    {
      "cell_type": "code",
      "metadata": {
        "id": "0V9IK__VOZ2L",
        "colab_type": "code",
        "colab": {}
      },
      "source": [
        "lite_micr = []\n",
        "for i in range(0,len(X_test_micr)):\n",
        "  x_input = X_test_micr[i].reshape(1,20,1)\n",
        "  yhat = model_micr.predict_classes(x_input,verbose=0)\n",
        "  lite_micr.append(yhat[0])"
      ],
      "execution_count": 0,
      "outputs": []
    },
    {
      "cell_type": "code",
      "metadata": {
        "id": "_r73b21hcfjw",
        "colab_type": "code",
        "colab": {}
      },
      "source": [
        "lite_dish1 = []\n",
        "for i in range(0,len(X_test_dish1)):\n",
        "  x_input = X_test_dish1[i].reshape(1,20,1)\n",
        "  yhat = model_dish1.predict_classes(x_input,verbose=0)\n",
        "  lite_dish1.append(yhat[0])"
      ],
      "execution_count": 0,
      "outputs": []
    },
    {
      "cell_type": "code",
      "metadata": {
        "id": "wEHOavYgcfPQ",
        "colab_type": "code",
        "colab": {}
      },
      "source": [
        "lite_dish2 = []\n",
        "for i in range(0,len(X_test_dish2)):\n",
        "  x_input = X_test_dish2[i].reshape(1,20,1)\n",
        "  yhat = model_dish2.predict_classes(x_input,verbose=0)\n",
        "  lite_dish2.append(yhat[0])"
      ],
      "execution_count": 0,
      "outputs": []
    },
    {
      "cell_type": "code",
      "metadata": {
        "id": "PcATzDACKlGJ",
        "colab_type": "code",
        "colab": {}
      },
      "source": [
        "lite_dryr1 = []\n",
        "for i in range(0,len(X_test_dryr1)):\n",
        "  x_input = X_test_dryr1[i].reshape(1,20,1)\n",
        "  yhat = model_dryr1.predict_classes(x_input,verbose=0)\n",
        "  lite_dryr1.append(yhat[0])"
      ],
      "execution_count": 0,
      "outputs": []
    },
    {
      "cell_type": "code",
      "metadata": {
        "id": "S5o0xoRwKkyb",
        "colab_type": "code",
        "colab": {}
      },
      "source": [
        "lite_dryr2 = []\n",
        "for i in range(0,len(X_test_dryr2)):\n",
        "  x_input = X_test_dryr2[i].reshape(1,20,1)\n",
        "  yhat = model_dryr2.predict_classes(x_input,verbose=0)\n",
        "  lite_dryr2.append(yhat[0])"
      ],
      "execution_count": 0,
      "outputs": []
    },
    {
      "cell_type": "code",
      "metadata": {
        "id": "E-E5fyqAuvj-",
        "colab_type": "code",
        "colab": {}
      },
      "source": [
        "Refg = testset_lstm(lite_refg, 7.5)\n",
        "Micr = testset_lstm(lite_micr, 4)\n",
        "Dish1 = testset_lstm(lite_dish1, 0)\n",
        "Dish2 = testset_lstm(lite_dish2, 0)\n",
        "Dryr1 = testset_lstm(lite_dryr1, 0)\n",
        "Dryr2 = testset_lstm(lite_dryr2, 0)"
      ],
      "execution_count": 0,
      "outputs": []
    },
    {
      "cell_type": "code",
      "metadata": {
        "id": "oA76Q4bhTziD",
        "colab_type": "code",
        "colab": {}
      },
      "source": [
        ""
      ],
      "execution_count": 0,
      "outputs": []
    },
    {
      "cell_type": "code",
      "metadata": {
        "id": "gXwWHXO-TzKt",
        "colab_type": "code",
        "colab": {}
      },
      "source": [
        "lol = 0\n",
        "error = 0\n",
        "total = 0\n",
        "tot = 0\n",
        "tot_m = 0\n",
        "total_m = 0\n",
        "tot_d = 0\n",
        "total_d = 0\n",
        "tot_dr = 0\n",
        "total_dr = 0\n",
        "refg_pred = []\n",
        "micr_pred = []\n",
        "dish_pred = []\n",
        "dryr_pred = []\n",
        "\n",
        "for i in range(0,len(Refg)):\n",
        "  if len(Refg[i]) < 2:\n",
        "    predic = Refg[i][0]\n",
        "  else:\n",
        "    x_input = np.asarray(Refg[i])\n",
        "    x_input = x_input.reshape((1,5,1))\n",
        "    yhat = model_lstm_refg.predict(x_input, verbose=0)\n",
        "    predic = yhat[0][0]\n",
        "  #print(predic, final_y[i])\n",
        "  refg_pred.append(predic)\n",
        "  tot += predic\n",
        "  total += final_y[i]\n",
        "  #lol = (abs(predic+0.1 - final_y[i]+0.1)/ (final_y[i]+0.1))/7980\n",
        "\n",
        "\n",
        "\n",
        "\n",
        "for i in range(0,len(Micr)):\n",
        "  if len(Micr[i]) < 2:\n",
        "    predic = Micr[i][0]\n",
        "  else:\n",
        "    x_input = np.asarray(Micr[i])\n",
        "    x_input = x_input.reshape((1,5,1))\n",
        "    yhat = model_lstm_micr.predict(x_input, verbose=0)\n",
        "    predic = yhat[0][0]\n",
        "  #print(predic, final_y_micr[i])\n",
        "  micr_pred.append(predic)\n",
        "  tot_m += predic\n",
        "  total_m += final_y_micr[i]\n",
        "  #lol = (abs(predic+0.1 - final_y[i]+0.1)/ (final_y[i]+0.1))/7980\n",
        "\n",
        "\n",
        "\n",
        "for i in range(0,len(Dryr2)):\n",
        "\n",
        "  if len(Dryr2[i]) < 2:\n",
        "    if len(Dryr1[i]) < 2:\n",
        "      predic = Dryr2[i][0]\n",
        "    else:\n",
        "      x_input = np.asarray(Dryr1[i])\n",
        "      x_input = x_input.reshape((1,5,1))\n",
        "      yhat = model_lstm_dryr1.predict(x_input, verbose=0)\n",
        "      predic = yhat[0][0]\n",
        "  else:\n",
        "    x_input = np.asarray(Dryr2[i])\n",
        "    x_input = x_input.reshape((1,5,1))\n",
        "    yhat = model_lstm_dryr2.predict(x_input, verbose=0)\n",
        "    predic = yhat[0][0]\n",
        "\n",
        "  dryr_pred.append(predic)\n",
        "  tot_dr += predic\n",
        "  total_dr += final_y_dryr2[i]\n",
        "\n",
        "\n",
        "\n",
        "for i in range(0,len(Dish2)):\n",
        "\n",
        "  if len(Dish2[i]) < 2:\n",
        "    if len(Dish1[i]) < 2:\n",
        "      predic = Dish2[i][0]\n",
        "    else:\n",
        "      x_input = np.asarray(Dish1[i])\n",
        "      x_input = x_input.reshape((1,5,1))\n",
        "      yhat = model_lstm_dish1.predict(x_input, verbose=0)\n",
        "      predic = yhat[0][0]\n",
        "  else:\n",
        "    x_input = np.asarray(Dish2[i])\n",
        "    x_input = x_input.reshape((1,5,1))\n",
        "    yhat = model_lstm_dish2.predict(x_input, verbose=0)\n",
        "    predic = yhat[0][0]\n",
        "\n",
        "  dish_pred.append(predic)\n",
        "  tot_d += predic\n",
        "  total_d += final_y_dish2[i]\n",
        "\n",
        "  \n",
        "\n"
      ],
      "execution_count": 0,
      "outputs": []
    },
    {
      "cell_type": "code",
      "metadata": {
        "id": "GVzDpFV2Ty9p",
        "colab_type": "code",
        "outputId": "d8b021a4-9198-424f-81c5-eba06d895dea",
        "colab": {
          "base_uri": "https://localhost:8080/",
          "height": 85
        }
      },
      "source": [
        "print(tot, total)\n",
        "print(tot_m, total_m)\n",
        "print(tot_d, total_d)\n",
        "print(tot_dr, total_dr)\n",
        "\n"
      ],
      "execution_count": 0,
      "outputs": [
        {
          "output_type": "stream",
          "text": [
            "473743.05798339844 462011.2909343933\n",
            "127582.39611816406 129298.89045545923\n",
            "205045.71313476562 205209.59031777052\n",
            "226470.62546920776 220636.73836996328\n"
          ],
          "name": "stdout"
        }
      ]
    },
    {
      "cell_type": "code",
      "metadata": {
        "id": "BLIdaeMkTyh4",
        "colab_type": "code",
        "colab": {}
      },
      "source": [
        "erro = abs((total + total_m + total_d + total_dr) - (tot + tot_m + tot_d + tot_dr))/(total + total_m + total_d + total_dr)"
      ],
      "execution_count": 0,
      "outputs": []
    },
    {
      "cell_type": "code",
      "metadata": {
        "id": "mahKRhDeHIxp",
        "colab_type": "code",
        "outputId": "54044111-e431-417a-f40b-459933d78396",
        "colab": {
          "base_uri": "https://localhost:8080/",
          "height": 34
        }
      },
      "source": [
        "((1 - (abs(tot_d - total_d)/ total_d)) + (1 - (abs(tot_m - total_m)/ total_m)) + (1 - (abs(tot - total)/ total)))/3"
      ],
      "execution_count": 0,
      "outputs": [
        {
          "output_type": "execute_result",
          "data": {
            "text/plain": [
              "0.9868444007225304"
            ]
          },
          "metadata": {
            "tags": []
          },
          "execution_count": 52
        }
      ]
    },
    {
      "cell_type": "code",
      "metadata": {
        "id": "M-Qz18rwH_lS",
        "colab_type": "code",
        "outputId": "8d578a28-7915-440f-96e1-f73ce536d43a",
        "colab": {
          "base_uri": "https://localhost:8080/",
          "height": 34
        }
      },
      "source": [
        "(1-erro)*100"
      ],
      "execution_count": 0,
      "outputs": [
        {
          "output_type": "execute_result",
          "data": {
            "text/plain": [
              "98.4579283057675"
            ]
          },
          "metadata": {
            "tags": []
          },
          "execution_count": 53
        }
      ]
    },
    {
      "cell_type": "code",
      "metadata": {
        "id": "6fWrpe6zIA1F",
        "colab_type": "code",
        "outputId": "ee58f3f3-0a63-41dd-95b6-c9c39d124dcf",
        "colab": {
          "base_uri": "https://localhost:8080/",
          "height": 34
        }
      },
      "source": [
        "1 - (abs(total-tot)/total)"
      ],
      "execution_count": 0,
      "outputs": [
        {
          "output_type": "execute_result",
          "data": {
            "text/plain": [
              "0.9746071854103863"
            ]
          },
          "metadata": {
            "tags": []
          },
          "execution_count": 54
        }
      ]
    },
    {
      "cell_type": "code",
      "metadata": {
        "id": "3BdWBt4jlU0q",
        "colab_type": "code",
        "colab": {}
      },
      "source": [
        "dish_f1 = []\n",
        "dish_y_pred = []\n",
        "for i in range(0, len(lite_dish1)):\n",
        "  let = lite_dish1[i] + lite_dish2[i]\n",
        "  if let >= 1:\n",
        "    dish_f1.append(1)\n",
        "  else:\n",
        "    dish_f1.append(0)\n",
        "  let = y_f1_dish1[i] + y_f1_dish2[i]\n",
        "  if let >= 1:\n",
        "    dish_y_pred.append(1)\n",
        "  else:\n",
        "    dish_y_pred.append(0) "
      ],
      "execution_count": 0,
      "outputs": []
    },
    {
      "cell_type": "code",
      "metadata": {
        "id": "C9OthJA1lUcy",
        "colab_type": "code",
        "colab": {}
      },
      "source": [
        "dryr_f1 = []\n",
        "dryr_y_pred = []\n",
        "for i in range(0, len(lite_dryr1)):\n",
        "  let = lite_dryr1[i] + lite_dryr2[i]\n",
        "  if let >= 1:\n",
        "    dryr_f1.append(1)\n",
        "  else:\n",
        "    dryr_f1.append(0)\n",
        "  let = y_f1_dryr1[i] + y_f1_dryr2[i]\n",
        "  if let >= 1:\n",
        "    dryr_y_pred.append(1)\n",
        "  else:\n",
        "    dryr_y_pred.append(0)"
      ],
      "execution_count": 0,
      "outputs": []
    },
    {
      "cell_type": "code",
      "metadata": {
        "id": "di_5bRPWzGpn",
        "colab_type": "code",
        "colab": {}
      },
      "source": [
        "f1_ground = []\n",
        "f1_predicted = []\n",
        "\n",
        "for i in range(0, len(dish_y_pred)):\n",
        "  f1_ground.append(dish_y_pred[i])\n",
        "  f1_predicted.append(dish_f1[i])\n",
        "  \n",
        "  f1_ground.append(dryr_y_pred[i])\n",
        "  f1_predicted.append(dryr_f1[i])\n",
        "\n",
        "  f1_ground.append(y_f1_micr[i])\n",
        "  f1_predicted.append(lite_micr[i])\n",
        "\n",
        "  f1_ground.append(y_f1_refg[i])\n",
        "  f1_predicted.append(lite_refg[i])"
      ],
      "execution_count": 0,
      "outputs": []
    },
    {
      "cell_type": "code",
      "metadata": {
        "id": "M3YUR3D60wdV",
        "colab_type": "code",
        "colab": {}
      },
      "source": [
        ""
      ],
      "execution_count": 0,
      "outputs": []
    },
    {
      "cell_type": "code",
      "metadata": {
        "id": "mWbgOf4_btJf",
        "colab_type": "code",
        "outputId": "6afedf77-2152-47e0-9671-2509bc3fd86a",
        "colab": {
          "base_uri": "https://localhost:8080/",
          "height": 204
        }
      },
      "source": [
        "from sklearn.metrics import classification_report\n",
        "from sklearn.metrics import confusion_matrix\n",
        "\n",
        "\n",
        "print(classification_report(f1_ground, f1_predicted))\n",
        "\n",
        "confusion_matrix(f1_ground, f1_predicted)"
      ],
      "execution_count": 0,
      "outputs": [
        {
          "output_type": "stream",
          "text": [
            "              precision    recall  f1-score   support\n",
            "\n",
            "         0.0       0.99      0.99      0.99     29369\n",
            "         1.0       0.83      0.84      0.84      2551\n",
            "\n",
            "    accuracy                           0.97     31920\n",
            "   macro avg       0.91      0.91      0.91     31920\n",
            "weighted avg       0.97      0.97      0.97     31920\n",
            "\n"
          ],
          "name": "stdout"
        },
        {
          "output_type": "execute_result",
          "data": {
            "text/plain": [
              "array([[28932,   437],\n",
              "       [  405,  2146]])"
            ]
          },
          "metadata": {
            "tags": []
          },
          "execution_count": 134
        }
      ]
    },
    {
      "cell_type": "code",
      "metadata": {
        "id": "RFdcidlQdSP-",
        "colab_type": "code",
        "outputId": "c09e5427-423b-4dbc-85f6-446672b56759",
        "colab": {
          "base_uri": "https://localhost:8080/",
          "height": 34
        }
      },
      "source": [
        "(99+84)/2"
      ],
      "execution_count": 0,
      "outputs": [
        {
          "output_type": "execute_result",
          "data": {
            "text/plain": [
              "91.5"
            ]
          },
          "metadata": {
            "tags": []
          },
          "execution_count": 136
        }
      ]
    },
    {
      "cell_type": "code",
      "metadata": {
        "id": "i0Ot_QkcID7h",
        "colab_type": "code",
        "colab": {}
      },
      "source": [
        "import matplotlib.pyplot as plt\n"
      ],
      "execution_count": 0,
      "outputs": []
    },
    {
      "cell_type": "code",
      "metadata": {
        "id": "CGFId0c1IIlt",
        "colab_type": "code",
        "colab": {}
      },
      "source": [
        "def plotting_good_pred_segment(pred_array, ground_truth, value1, value2, name):\n",
        "  temp1 = []\n",
        "  temp2 = []\n",
        "  for i in range(value1,value2):\n",
        "    temp1.append(pred_array[i])\n",
        "    temp2.append(ground_truth[i])\n",
        "\n",
        "  plt.plot(temp1)\n",
        "  plt.plot(temp2)\n",
        "  plt.title(name)\n",
        "  plt.show()\n",
        "  return;"
      ],
      "execution_count": 0,
      "outputs": []
    },
    {
      "cell_type": "code",
      "metadata": {
        "id": "9tPRzxIZIcDk",
        "colab_type": "code",
        "outputId": "fb8a4d6a-6290-4a5b-ac57-861823b99054",
        "colab": {
          "base_uri": "https://localhost:8080/",
          "height": 1000
        }
      },
      "source": [
        "plotting_good_pred_segment(refg_pred, final_y, 500, 900, \"Refrigerator\")\n",
        "plotting_good_pred_segment(dish_pred, final_y_dish1, 5450, 5650, \"Dish_washer\")\n",
        "plotting_good_pred_segment(dryr_pred, final_y_dryr1, 5250, 5400, \"Washing_machine\")\n",
        "plotting_good_pred_segment(micr_pred, final_y_micr, 6150, 6250, \"Microwave\")"
      ],
      "execution_count": 0,
      "outputs": [
        {
          "output_type": "display_data",
          "data": {
            "image/png": "[encoded data removed]",
            "text/plain": [
              "<Figure size 432x288 with 1 Axes>"
            ]
          },
          "metadata": {
            "tags": [],
            "needs_background": "light"
          }
        },
        {
          "output_type": "display_data",
          "data": {
            "image/png": "[encoded data removed]",
            "text/plain": [
              "<Figure size 432x288 with 1 Axes>"
            ]
          },
          "metadata": {
            "tags": [],
            "needs_background": "light"
          }
        },
        {
          "output_type": "display_data",
          "data": {
            "image/png": "[encoded data removed]",
            "text/plain": [
              "<Figure size 432x288 with 1 Axes>"
            ]
          },
          "metadata": {
            "tags": [],
            "needs_background": "light"
          }
        },
        {
          "output_type": "display_data",
          "data": {
            "image/png": "[encoded data removed]",
            "text/plain": [
              "<Figure size 432x288 with 1 Axes>"
            ]
          },
          "metadata": {
            "tags": [],
            "needs_background": "light"
          }
        }
      ]
    },
    {
      "cell_type": "code",
      "metadata": {
        "id": "4865yZdcKU81",
        "colab_type": "code",
        "colab": {}
      },
      "source": [
        ""
      ],
      "execution_count": 0,
      "outputs": []
    },
    {
      "cell_type": "code",
      "metadata": {
        "id": "Vng99xUJKdwh",
        "colab_type": "code",
        "colab": {}
      },
      "source": [
        ""
      ],
      "execution_count": 0,
      "outputs": []
    },
    {
      "cell_type": "code",
      "metadata": {
        "id": "hLAps81lKntK",
        "colab_type": "code",
        "colab": {}
      },
      "source": [
        ""
      ],
      "execution_count": 0,
      "outputs": []
    },
    {
      "cell_type": "code",
      "metadata": {
        "id": "CdimIqNDLMW6",
        "colab_type": "code",
        "colab": {}
      },
      "source": [
        ""
      ],
      "execution_count": 0,
      "outputs": []
    },
    {
      "cell_type": "code",
      "metadata": {
        "id": "iEp6-7iULOcU",
        "colab_type": "code",
        "colab": {}
      },
      "source": [
        ""
      ],
      "execution_count": 0,
      "outputs": []
    }
  ]
}